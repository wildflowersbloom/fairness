{
  "nbformat": 4,
  "nbformat_minor": 0,
  "metadata": {
    "colab": {
      "name": "Untitled0.ipynb",
      "provenance": [],
      "collapsed_sections": [],
      "include_colab_link": true
    },
    "kernelspec": {
      "name": "python3",
      "display_name": "Python 3"
    },
    "language_info": {
      "name": "python"
    }
  },
  "cells": [
    {
      "cell_type": "markdown",
      "metadata": {
        "id": "view-in-github",
        "colab_type": "text"
      },
      "source": [
        "<a href=\"https://colab.research.google.com/github/wildflowersbloom/fairness/blob/main/Untitled0.ipynb\" target=\"_parent\"><img src=\"https://colab.research.google.com/assets/colab-badge.svg\" alt=\"Open In Colab\"/></a>"
      ]
    },
    {
      "cell_type": "markdown",
      "source": [
        "#Fairness in models, a joint notebook"
      ],
      "metadata": {
        "id": "SxOLbh4CcLwh"
      }
    },
    {
      "cell_type": "markdown",
      "source": [
        "**An exercise in fairness**. We build a logistic regression out of the box to classify good and bad credit risk based on the german credit dataset available [here](https://archive.ics.uci.edu/ml/datasets/Statlog+%28German+Credit+Data%29), and evaluated fairness  using three metrics: 1) equalized odds, 2) group fairness and 3) overall accuracy equality. Our regression is unfair towards women. We did some research on the dataset, guided by Data sheets for datasets by Timnit Gebru, et al. 2018, did some limited exploration of the data and made the (arbitrary to some extent) choice to select sex as a sensitive feature. We selected an algorithm, a subset of features, hot-encoded them and binned age, with the aim to do it in a more systematic way in the future. To do: check feature correlations before feature selection, do a fair split of the test and training sets considering class imbalance, ...  "
      ],
      "metadata": {
        "id": "_9ZrwHfyYt6m"
      }
    },
    {
      "cell_type": "code",
      "source": [
        "import numpy as np\n",
        "import pandas as pd\n",
        "import seaborn as sns\n",
        "from IPython.display import Markdown, display\n",
        "import matplotlib.pyplot as plt"
      ],
      "metadata": {
        "id": "I2fOzYWWQr-M"
      },
      "execution_count": null,
      "outputs": []
    },
    {
      "cell_type": "code",
      "execution_count": null,
      "metadata": {
        "id": "-ZydWdi683Ur"
      },
      "outputs": [],
      "source": [
        "df = pd.read_csv(\"german.csv\", header=None, delimiter=r\"\\s+\")"
      ]
    },
    {
      "cell_type": "code",
      "source": [
        "df.head()"
      ],
      "metadata": {
        "colab": {
          "base_uri": "https://localhost:8080/",
          "height": 235
        },
        "id": "GpIfErcRRaAT",
        "outputId": "b5b2b807-6cc0-4d54-95e0-edf3bef1ccfe"
      },
      "execution_count": null,
      "outputs": [
        {
          "output_type": "execute_result",
          "data": {
            "text/plain": [
              "    0   1    2    3     4    5    6   7    8     9   ...    11  12    13  \\\n",
              "0  A11   6  A34  A43  1169  A65  A75   4  A93  A101  ...  A121  67  A143   \n",
              "1  A12  48  A32  A43  5951  A61  A73   2  A92  A101  ...  A121  22  A143   \n",
              "2  A14  12  A34  A46  2096  A61  A74   2  A93  A101  ...  A121  49  A143   \n",
              "3  A11  42  A32  A42  7882  A61  A74   2  A93  A103  ...  A122  45  A143   \n",
              "4  A11  24  A33  A40  4870  A61  A73   3  A93  A101  ...  A124  53  A143   \n",
              "\n",
              "     14 15    16 17    18    19 20  \n",
              "0  A152  2  A173  1  A192  A201  1  \n",
              "1  A152  1  A173  1  A191  A201  2  \n",
              "2  A152  1  A172  2  A191  A201  1  \n",
              "3  A153  1  A173  2  A191  A201  1  \n",
              "4  A153  2  A173  2  A191  A201  2  \n",
              "\n",
              "[5 rows x 21 columns]"
            ],
            "text/html": [
              "\n",
              "  <div id=\"df-cb3434b8-3e52-48a2-acb7-bdc794a8ba5c\">\n",
              "    <div class=\"colab-df-container\">\n",
              "      <div>\n",
              "<style scoped>\n",
              "    .dataframe tbody tr th:only-of-type {\n",
              "        vertical-align: middle;\n",
              "    }\n",
              "\n",
              "    .dataframe tbody tr th {\n",
              "        vertical-align: top;\n",
              "    }\n",
              "\n",
              "    .dataframe thead th {\n",
              "        text-align: right;\n",
              "    }\n",
              "</style>\n",
              "<table border=\"1\" class=\"dataframe\">\n",
              "  <thead>\n",
              "    <tr style=\"text-align: right;\">\n",
              "      <th></th>\n",
              "      <th>0</th>\n",
              "      <th>1</th>\n",
              "      <th>2</th>\n",
              "      <th>3</th>\n",
              "      <th>4</th>\n",
              "      <th>5</th>\n",
              "      <th>6</th>\n",
              "      <th>7</th>\n",
              "      <th>8</th>\n",
              "      <th>9</th>\n",
              "      <th>...</th>\n",
              "      <th>11</th>\n",
              "      <th>12</th>\n",
              "      <th>13</th>\n",
              "      <th>14</th>\n",
              "      <th>15</th>\n",
              "      <th>16</th>\n",
              "      <th>17</th>\n",
              "      <th>18</th>\n",
              "      <th>19</th>\n",
              "      <th>20</th>\n",
              "    </tr>\n",
              "  </thead>\n",
              "  <tbody>\n",
              "    <tr>\n",
              "      <th>0</th>\n",
              "      <td>A11</td>\n",
              "      <td>6</td>\n",
              "      <td>A34</td>\n",
              "      <td>A43</td>\n",
              "      <td>1169</td>\n",
              "      <td>A65</td>\n",
              "      <td>A75</td>\n",
              "      <td>4</td>\n",
              "      <td>A93</td>\n",
              "      <td>A101</td>\n",
              "      <td>...</td>\n",
              "      <td>A121</td>\n",
              "      <td>67</td>\n",
              "      <td>A143</td>\n",
              "      <td>A152</td>\n",
              "      <td>2</td>\n",
              "      <td>A173</td>\n",
              "      <td>1</td>\n",
              "      <td>A192</td>\n",
              "      <td>A201</td>\n",
              "      <td>1</td>\n",
              "    </tr>\n",
              "    <tr>\n",
              "      <th>1</th>\n",
              "      <td>A12</td>\n",
              "      <td>48</td>\n",
              "      <td>A32</td>\n",
              "      <td>A43</td>\n",
              "      <td>5951</td>\n",
              "      <td>A61</td>\n",
              "      <td>A73</td>\n",
              "      <td>2</td>\n",
              "      <td>A92</td>\n",
              "      <td>A101</td>\n",
              "      <td>...</td>\n",
              "      <td>A121</td>\n",
              "      <td>22</td>\n",
              "      <td>A143</td>\n",
              "      <td>A152</td>\n",
              "      <td>1</td>\n",
              "      <td>A173</td>\n",
              "      <td>1</td>\n",
              "      <td>A191</td>\n",
              "      <td>A201</td>\n",
              "      <td>2</td>\n",
              "    </tr>\n",
              "    <tr>\n",
              "      <th>2</th>\n",
              "      <td>A14</td>\n",
              "      <td>12</td>\n",
              "      <td>A34</td>\n",
              "      <td>A46</td>\n",
              "      <td>2096</td>\n",
              "      <td>A61</td>\n",
              "      <td>A74</td>\n",
              "      <td>2</td>\n",
              "      <td>A93</td>\n",
              "      <td>A101</td>\n",
              "      <td>...</td>\n",
              "      <td>A121</td>\n",
              "      <td>49</td>\n",
              "      <td>A143</td>\n",
              "      <td>A152</td>\n",
              "      <td>1</td>\n",
              "      <td>A172</td>\n",
              "      <td>2</td>\n",
              "      <td>A191</td>\n",
              "      <td>A201</td>\n",
              "      <td>1</td>\n",
              "    </tr>\n",
              "    <tr>\n",
              "      <th>3</th>\n",
              "      <td>A11</td>\n",
              "      <td>42</td>\n",
              "      <td>A32</td>\n",
              "      <td>A42</td>\n",
              "      <td>7882</td>\n",
              "      <td>A61</td>\n",
              "      <td>A74</td>\n",
              "      <td>2</td>\n",
              "      <td>A93</td>\n",
              "      <td>A103</td>\n",
              "      <td>...</td>\n",
              "      <td>A122</td>\n",
              "      <td>45</td>\n",
              "      <td>A143</td>\n",
              "      <td>A153</td>\n",
              "      <td>1</td>\n",
              "      <td>A173</td>\n",
              "      <td>2</td>\n",
              "      <td>A191</td>\n",
              "      <td>A201</td>\n",
              "      <td>1</td>\n",
              "    </tr>\n",
              "    <tr>\n",
              "      <th>4</th>\n",
              "      <td>A11</td>\n",
              "      <td>24</td>\n",
              "      <td>A33</td>\n",
              "      <td>A40</td>\n",
              "      <td>4870</td>\n",
              "      <td>A61</td>\n",
              "      <td>A73</td>\n",
              "      <td>3</td>\n",
              "      <td>A93</td>\n",
              "      <td>A101</td>\n",
              "      <td>...</td>\n",
              "      <td>A124</td>\n",
              "      <td>53</td>\n",
              "      <td>A143</td>\n",
              "      <td>A153</td>\n",
              "      <td>2</td>\n",
              "      <td>A173</td>\n",
              "      <td>2</td>\n",
              "      <td>A191</td>\n",
              "      <td>A201</td>\n",
              "      <td>2</td>\n",
              "    </tr>\n",
              "  </tbody>\n",
              "</table>\n",
              "<p>5 rows × 21 columns</p>\n",
              "</div>\n",
              "      <button class=\"colab-df-convert\" onclick=\"convertToInteractive('df-cb3434b8-3e52-48a2-acb7-bdc794a8ba5c')\"\n",
              "              title=\"Convert this dataframe to an interactive table.\"\n",
              "              style=\"display:none;\">\n",
              "        \n",
              "  <svg xmlns=\"http://www.w3.org/2000/svg\" height=\"24px\"viewBox=\"0 0 24 24\"\n",
              "       width=\"24px\">\n",
              "    <path d=\"M0 0h24v24H0V0z\" fill=\"none\"/>\n",
              "    <path d=\"M18.56 5.44l.94 2.06.94-2.06 2.06-.94-2.06-.94-.94-2.06-.94 2.06-2.06.94zm-11 1L8.5 8.5l.94-2.06 2.06-.94-2.06-.94L8.5 2.5l-.94 2.06-2.06.94zm10 10l.94 2.06.94-2.06 2.06-.94-2.06-.94-.94-2.06-.94 2.06-2.06.94z\"/><path d=\"M17.41 7.96l-1.37-1.37c-.4-.4-.92-.59-1.43-.59-.52 0-1.04.2-1.43.59L10.3 9.45l-7.72 7.72c-.78.78-.78 2.05 0 2.83L4 21.41c.39.39.9.59 1.41.59.51 0 1.02-.2 1.41-.59l7.78-7.78 2.81-2.81c.8-.78.8-2.07 0-2.86zM5.41 20L4 18.59l7.72-7.72 1.47 1.35L5.41 20z\"/>\n",
              "  </svg>\n",
              "      </button>\n",
              "      \n",
              "  <style>\n",
              "    .colab-df-container {\n",
              "      display:flex;\n",
              "      flex-wrap:wrap;\n",
              "      gap: 12px;\n",
              "    }\n",
              "\n",
              "    .colab-df-convert {\n",
              "      background-color: #E8F0FE;\n",
              "      border: none;\n",
              "      border-radius: 50%;\n",
              "      cursor: pointer;\n",
              "      display: none;\n",
              "      fill: #1967D2;\n",
              "      height: 32px;\n",
              "      padding: 0 0 0 0;\n",
              "      width: 32px;\n",
              "    }\n",
              "\n",
              "    .colab-df-convert:hover {\n",
              "      background-color: #E2EBFA;\n",
              "      box-shadow: 0px 1px 2px rgba(60, 64, 67, 0.3), 0px 1px 3px 1px rgba(60, 64, 67, 0.15);\n",
              "      fill: #174EA6;\n",
              "    }\n",
              "\n",
              "    [theme=dark] .colab-df-convert {\n",
              "      background-color: #3B4455;\n",
              "      fill: #D2E3FC;\n",
              "    }\n",
              "\n",
              "    [theme=dark] .colab-df-convert:hover {\n",
              "      background-color: #434B5C;\n",
              "      box-shadow: 0px 1px 3px 1px rgba(0, 0, 0, 0.15);\n",
              "      filter: drop-shadow(0px 1px 2px rgba(0, 0, 0, 0.3));\n",
              "      fill: #FFFFFF;\n",
              "    }\n",
              "  </style>\n",
              "\n",
              "      <script>\n",
              "        const buttonEl =\n",
              "          document.querySelector('#df-cb3434b8-3e52-48a2-acb7-bdc794a8ba5c button.colab-df-convert');\n",
              "        buttonEl.style.display =\n",
              "          google.colab.kernel.accessAllowed ? 'block' : 'none';\n",
              "\n",
              "        async function convertToInteractive(key) {\n",
              "          const element = document.querySelector('#df-cb3434b8-3e52-48a2-acb7-bdc794a8ba5c');\n",
              "          const dataTable =\n",
              "            await google.colab.kernel.invokeFunction('convertToInteractive',\n",
              "                                                     [key], {});\n",
              "          if (!dataTable) return;\n",
              "\n",
              "          const docLinkHtml = 'Like what you see? Visit the ' +\n",
              "            '<a target=\"_blank\" href=https://colab.research.google.com/notebooks/data_table.ipynb>data table notebook</a>'\n",
              "            + ' to learn more about interactive tables.';\n",
              "          element.innerHTML = '';\n",
              "          dataTable['output_type'] = 'display_data';\n",
              "          await google.colab.output.renderOutput(dataTable, element);\n",
              "          const docLink = document.createElement('div');\n",
              "          docLink.innerHTML = docLinkHtml;\n",
              "          element.appendChild(docLink);\n",
              "        }\n",
              "      </script>\n",
              "    </div>\n",
              "  </div>\n",
              "  "
            ]
          },
          "metadata": {},
          "execution_count": 5
        }
      ]
    },
    {
      "cell_type": "code",
      "source": [
        "headers=[\"Status of existing checking account\",\"Duration in month\",\"Credit history\",\\\n",
        "         \"Purpose\",\"Credit amount\",\"Savings account/bonds\",\"Present employment since\",\\\n",
        "         \"Installment rate in percentage of disposable income\",\"Personal status and sex\",\\\n",
        "         \"Other debtors / guarantors\",\"Present residence since\",\"Property\",\"Age in years\",\\\n",
        "        \"Other installment plans\",\"Housing\",\"Number of existing credits at this bank\",\\\n",
        "        \"Job\",\"Number of people being liable to provide maintenance for\",\"Telephone\",\"foreign worker\",\"Cost Matrix(Risk)\"]\n",
        "df.columns=headers"
      ],
      "metadata": {
        "id": "dTSoyfnzTfWT"
      },
      "execution_count": null,
      "outputs": []
    },
    {
      "cell_type": "code",
      "source": [
        "#make it more readable (taken from https://wwbw.kaggle.com/pahulpreet/german-credit-risk-analysis-beginner-s-guide)\n",
        "Status_of_existing_checking_account={'A14':\"no checking account\",'A11':\"<0 DM\", 'A12': \"0 <= <200 DM\",'A13':\">= 200 DM \"}\n",
        "df[\"Status of existing checking account\"]=df[\"Status of existing checking account\"].map(Status_of_existing_checking_account)\n",
        "\n",
        "Credit_history={\"A34\":\"critical account\",\"A33\":\"delay in paying off\",\"A32\":\"existing credits paid back duly till now\",\"A31\":\"all credits at this bank paid back duly\",\"A30\":\"no credits taken\"}\n",
        "df[\"Credit history\"]=df[\"Credit history\"].map(Credit_history)\n",
        "\n",
        "Purpose={\"A40\" : \"car (new)\", \"A41\" : \"car (used)\", \"A42\" : \"furniture/equipment\", \"A43\" :\"radio/television\" , \"A44\" : \"domestic appliances\", \"A45\" : \"repairs\", \"A46\" : \"education\", 'A47' : 'vacation','A48' : 'retraining','A49' : 'business','A410' : 'others'}\n",
        "df[\"Purpose\"]=df[\"Purpose\"].map(Purpose)\n",
        "\n",
        "Saving_account={\"A65\" : \"no savings account\",\"A61\" :\"<100 DM\",\"A62\" : \"100 <= <500 DM\",\"A63\" :\"500 <= < 1000 DM\", \"A64\" :\">= 1000 DM\"}\n",
        "df[\"Savings account/bonds\"]=df[\"Savings account/bonds\"].map(Saving_account)\n",
        "\n",
        "Present_employment={'A75':\">=7 years\", 'A74':\"4<= <7 years\",  'A73':\"1<= < 4 years\", 'A72':\"<1 years\",'A71':\"unemployed\"}\n",
        "df[\"Present employment since\"]=df[\"Present employment since\"].map(Present_employment)\n",
        "\n",
        "#Personal_status_and_sex={ 'A95':\"female:single\",'A94':\"male:married/widowed\",'A93':\"male:single\", 'A92':\"female:divorced/separated/married\", 'A91':\"male:divorced/separated\"}\n",
        "#df[\"Personal status and sex\"]=df[\"Personal status and sex\"].map(Personal_status_and_sex)\n",
        "\n",
        "Other_debtors_guarantors={'A101':\"none\", 'A102':\"co-applicant\", 'A103':\"guarantor\"}\n",
        "df[\"Other debtors / guarantors\"]=df[\"Other debtors / guarantors\"].map(Other_debtors_guarantors)\n",
        "\n",
        "Property={'A121':\"real estate\", 'A122':\"savings agreement/life insurance\", 'A123':\"car or other\", 'A124':\"unknown / no property\"}\n",
        "df[\"Property\"]=df[\"Property\"].map(Property)\n",
        "\n",
        "Other_installment_plans={'A143':\"none\", 'A142':\"store\", 'A141':\"bank\"}\n",
        "df[\"Other installment plans\"]=df[\"Other installment plans\"].map(Other_installment_plans)\n",
        "\n",
        "Housing={'A153':\"for free\", 'A152':\"own\", 'A151':\"rent\"}\n",
        "df[\"Housing\"]=df[\"Housing\"].map(Housing)\n",
        "\n",
        "Job={'A174':\"management/ highly qualified employee\", 'A173':\"skilled employee / official\", 'A172':\"unskilled - resident\", 'A171':\"unemployed/ unskilled  - non-resident\"}\n",
        "df[\"Job\"]=df[\"Job\"].map(Job)\n",
        "\n",
        "Telephone={'A192':\"yes\", 'A191':\"none\"}\n",
        "df[\"Telephone\"]=df[\"Telephone\"].map(Telephone)\n",
        "\n",
        "foreign_worker={'A201':\"yes\", 'A202':\"no\"}\n",
        "df[\"foreign worker\"]=df[\"foreign worker\"].map(foreign_worker)\n",
        "\n",
        "risk={1:\"Good Risk\", 2:\"Bad Risk\"}\n",
        "df[\"Cost Matrix(Risk)\"]=df[\"Cost Matrix(Risk)\"].map(risk)"
      ],
      "metadata": {
        "id": "1sL2kgb6Vtks"
      },
      "execution_count": null,
      "outputs": []
    },
    {
      "cell_type": "code",
      "source": [
        "#shorten headers\n",
        "headers=[\"Status_checking_account\",\"Duration\",\"Credit_history\",\\\n",
        "         \"Purpose\",\"Credit_amount\",\"Savings\",\"Employment_since\",\\\n",
        "         \"Installment_percent\",\"Personal_status_sex\",\\\n",
        "         \"Other_debtors_guarantors\",\"Residence_since\",\"Property\",\"Age\",\\\n",
        "        \"Other_installment\",\"Housing\",\"Existing_credits\",\\\n",
        "        \"Job\",\"Liability\",\"Telephone\",\"Foreign\",\"Cost_Matrix_Risk\"]\n",
        "\n",
        "\n",
        "df.columns=headers"
      ],
      "metadata": {
        "id": "syEuipE9WpDa"
      },
      "execution_count": null,
      "outputs": []
    },
    {
      "cell_type": "code",
      "source": [
        "df.describe()"
      ],
      "metadata": {
        "colab": {
          "base_uri": "https://localhost:8080/",
          "height": 300
        },
        "id": "rToEcpuuXNAQ",
        "outputId": "ac5df89c-598a-4cc3-b58e-5f82e3b7cf01"
      },
      "execution_count": null,
      "outputs": [
        {
          "output_type": "execute_result",
          "data": {
            "text/plain": [
              "          Duration  Credit_amount  Installment_percent  Residence_since  \\\n",
              "count  1000.000000    1000.000000          1000.000000      1000.000000   \n",
              "mean     20.903000    3271.258000             2.973000         2.845000   \n",
              "std      12.058814    2822.736876             1.118715         1.103718   \n",
              "min       4.000000     250.000000             1.000000         1.000000   \n",
              "25%      12.000000    1365.500000             2.000000         2.000000   \n",
              "50%      18.000000    2319.500000             3.000000         3.000000   \n",
              "75%      24.000000    3972.250000             4.000000         4.000000   \n",
              "max      72.000000   18424.000000             4.000000         4.000000   \n",
              "\n",
              "               Age  Existing_credits    Liability  \n",
              "count  1000.000000       1000.000000  1000.000000  \n",
              "mean     35.546000          1.407000     1.155000  \n",
              "std      11.375469          0.577654     0.362086  \n",
              "min      19.000000          1.000000     1.000000  \n",
              "25%      27.000000          1.000000     1.000000  \n",
              "50%      33.000000          1.000000     1.000000  \n",
              "75%      42.000000          2.000000     1.000000  \n",
              "max      75.000000          4.000000     2.000000  "
            ],
            "text/html": [
              "\n",
              "  <div id=\"df-9a4d4eac-9c3c-4cdc-afcb-f641441abaf2\">\n",
              "    <div class=\"colab-df-container\">\n",
              "      <div>\n",
              "<style scoped>\n",
              "    .dataframe tbody tr th:only-of-type {\n",
              "        vertical-align: middle;\n",
              "    }\n",
              "\n",
              "    .dataframe tbody tr th {\n",
              "        vertical-align: top;\n",
              "    }\n",
              "\n",
              "    .dataframe thead th {\n",
              "        text-align: right;\n",
              "    }\n",
              "</style>\n",
              "<table border=\"1\" class=\"dataframe\">\n",
              "  <thead>\n",
              "    <tr style=\"text-align: right;\">\n",
              "      <th></th>\n",
              "      <th>Duration</th>\n",
              "      <th>Credit_amount</th>\n",
              "      <th>Installment_percent</th>\n",
              "      <th>Residence_since</th>\n",
              "      <th>Age</th>\n",
              "      <th>Existing_credits</th>\n",
              "      <th>Liability</th>\n",
              "    </tr>\n",
              "  </thead>\n",
              "  <tbody>\n",
              "    <tr>\n",
              "      <th>count</th>\n",
              "      <td>1000.000000</td>\n",
              "      <td>1000.000000</td>\n",
              "      <td>1000.000000</td>\n",
              "      <td>1000.000000</td>\n",
              "      <td>1000.000000</td>\n",
              "      <td>1000.000000</td>\n",
              "      <td>1000.000000</td>\n",
              "    </tr>\n",
              "    <tr>\n",
              "      <th>mean</th>\n",
              "      <td>20.903000</td>\n",
              "      <td>3271.258000</td>\n",
              "      <td>2.973000</td>\n",
              "      <td>2.845000</td>\n",
              "      <td>35.546000</td>\n",
              "      <td>1.407000</td>\n",
              "      <td>1.155000</td>\n",
              "    </tr>\n",
              "    <tr>\n",
              "      <th>std</th>\n",
              "      <td>12.058814</td>\n",
              "      <td>2822.736876</td>\n",
              "      <td>1.118715</td>\n",
              "      <td>1.103718</td>\n",
              "      <td>11.375469</td>\n",
              "      <td>0.577654</td>\n",
              "      <td>0.362086</td>\n",
              "    </tr>\n",
              "    <tr>\n",
              "      <th>min</th>\n",
              "      <td>4.000000</td>\n",
              "      <td>250.000000</td>\n",
              "      <td>1.000000</td>\n",
              "      <td>1.000000</td>\n",
              "      <td>19.000000</td>\n",
              "      <td>1.000000</td>\n",
              "      <td>1.000000</td>\n",
              "    </tr>\n",
              "    <tr>\n",
              "      <th>25%</th>\n",
              "      <td>12.000000</td>\n",
              "      <td>1365.500000</td>\n",
              "      <td>2.000000</td>\n",
              "      <td>2.000000</td>\n",
              "      <td>27.000000</td>\n",
              "      <td>1.000000</td>\n",
              "      <td>1.000000</td>\n",
              "    </tr>\n",
              "    <tr>\n",
              "      <th>50%</th>\n",
              "      <td>18.000000</td>\n",
              "      <td>2319.500000</td>\n",
              "      <td>3.000000</td>\n",
              "      <td>3.000000</td>\n",
              "      <td>33.000000</td>\n",
              "      <td>1.000000</td>\n",
              "      <td>1.000000</td>\n",
              "    </tr>\n",
              "    <tr>\n",
              "      <th>75%</th>\n",
              "      <td>24.000000</td>\n",
              "      <td>3972.250000</td>\n",
              "      <td>4.000000</td>\n",
              "      <td>4.000000</td>\n",
              "      <td>42.000000</td>\n",
              "      <td>2.000000</td>\n",
              "      <td>1.000000</td>\n",
              "    </tr>\n",
              "    <tr>\n",
              "      <th>max</th>\n",
              "      <td>72.000000</td>\n",
              "      <td>18424.000000</td>\n",
              "      <td>4.000000</td>\n",
              "      <td>4.000000</td>\n",
              "      <td>75.000000</td>\n",
              "      <td>4.000000</td>\n",
              "      <td>2.000000</td>\n",
              "    </tr>\n",
              "  </tbody>\n",
              "</table>\n",
              "</div>\n",
              "      <button class=\"colab-df-convert\" onclick=\"convertToInteractive('df-9a4d4eac-9c3c-4cdc-afcb-f641441abaf2')\"\n",
              "              title=\"Convert this dataframe to an interactive table.\"\n",
              "              style=\"display:none;\">\n",
              "        \n",
              "  <svg xmlns=\"http://www.w3.org/2000/svg\" height=\"24px\"viewBox=\"0 0 24 24\"\n",
              "       width=\"24px\">\n",
              "    <path d=\"M0 0h24v24H0V0z\" fill=\"none\"/>\n",
              "    <path d=\"M18.56 5.44l.94 2.06.94-2.06 2.06-.94-2.06-.94-.94-2.06-.94 2.06-2.06.94zm-11 1L8.5 8.5l.94-2.06 2.06-.94-2.06-.94L8.5 2.5l-.94 2.06-2.06.94zm10 10l.94 2.06.94-2.06 2.06-.94-2.06-.94-.94-2.06-.94 2.06-2.06.94z\"/><path d=\"M17.41 7.96l-1.37-1.37c-.4-.4-.92-.59-1.43-.59-.52 0-1.04.2-1.43.59L10.3 9.45l-7.72 7.72c-.78.78-.78 2.05 0 2.83L4 21.41c.39.39.9.59 1.41.59.51 0 1.02-.2 1.41-.59l7.78-7.78 2.81-2.81c.8-.78.8-2.07 0-2.86zM5.41 20L4 18.59l7.72-7.72 1.47 1.35L5.41 20z\"/>\n",
              "  </svg>\n",
              "      </button>\n",
              "      \n",
              "  <style>\n",
              "    .colab-df-container {\n",
              "      display:flex;\n",
              "      flex-wrap:wrap;\n",
              "      gap: 12px;\n",
              "    }\n",
              "\n",
              "    .colab-df-convert {\n",
              "      background-color: #E8F0FE;\n",
              "      border: none;\n",
              "      border-radius: 50%;\n",
              "      cursor: pointer;\n",
              "      display: none;\n",
              "      fill: #1967D2;\n",
              "      height: 32px;\n",
              "      padding: 0 0 0 0;\n",
              "      width: 32px;\n",
              "    }\n",
              "\n",
              "    .colab-df-convert:hover {\n",
              "      background-color: #E2EBFA;\n",
              "      box-shadow: 0px 1px 2px rgba(60, 64, 67, 0.3), 0px 1px 3px 1px rgba(60, 64, 67, 0.15);\n",
              "      fill: #174EA6;\n",
              "    }\n",
              "\n",
              "    [theme=dark] .colab-df-convert {\n",
              "      background-color: #3B4455;\n",
              "      fill: #D2E3FC;\n",
              "    }\n",
              "\n",
              "    [theme=dark] .colab-df-convert:hover {\n",
              "      background-color: #434B5C;\n",
              "      box-shadow: 0px 1px 3px 1px rgba(0, 0, 0, 0.15);\n",
              "      filter: drop-shadow(0px 1px 2px rgba(0, 0, 0, 0.3));\n",
              "      fill: #FFFFFF;\n",
              "    }\n",
              "  </style>\n",
              "\n",
              "      <script>\n",
              "        const buttonEl =\n",
              "          document.querySelector('#df-9a4d4eac-9c3c-4cdc-afcb-f641441abaf2 button.colab-df-convert');\n",
              "        buttonEl.style.display =\n",
              "          google.colab.kernel.accessAllowed ? 'block' : 'none';\n",
              "\n",
              "        async function convertToInteractive(key) {\n",
              "          const element = document.querySelector('#df-9a4d4eac-9c3c-4cdc-afcb-f641441abaf2');\n",
              "          const dataTable =\n",
              "            await google.colab.kernel.invokeFunction('convertToInteractive',\n",
              "                                                     [key], {});\n",
              "          if (!dataTable) return;\n",
              "\n",
              "          const docLinkHtml = 'Like what you see? Visit the ' +\n",
              "            '<a target=\"_blank\" href=https://colab.research.google.com/notebooks/data_table.ipynb>data table notebook</a>'\n",
              "            + ' to learn more about interactive tables.';\n",
              "          element.innerHTML = '';\n",
              "          dataTable['output_type'] = 'display_data';\n",
              "          await google.colab.output.renderOutput(dataTable, element);\n",
              "          const docLink = document.createElement('div');\n",
              "          docLink.innerHTML = docLinkHtml;\n",
              "          element.appendChild(docLink);\n",
              "        }\n",
              "      </script>\n",
              "    </div>\n",
              "  </div>\n",
              "  "
            ]
          },
          "metadata": {},
          "execution_count": 9
        }
      ]
    },
    {
      "cell_type": "code",
      "source": [
        "#correlation between numeric variables\n",
        "sns.heatmap(df.corr(),annot=True ,fmt=\".2f\", cmap=\"coolwarm\")"
      ],
      "metadata": {
        "colab": {
          "base_uri": "https://localhost:8080/",
          "height": 378
        },
        "id": "asW_LRk7yVds",
        "outputId": "7538ebb2-90bc-4be9-9e90-9652f4fa12db"
      },
      "execution_count": null,
      "outputs": [
        {
          "output_type": "execute_result",
          "data": {
            "text/plain": [
              "<matplotlib.axes._subplots.AxesSubplot at 0x7f29722f04d0>"
            ]
          },
          "metadata": {},
          "execution_count": 10
        },
        {
          "output_type": "display_data",
          "data": {
            "text/plain": [
              "<Figure size 432x288 with 2 Axes>"
            ],
            "image/png": "[encoded data removed]"
          },
          "metadata": {
            "needs_background": "light"
          }
        }
      ]
    },
    {
      "cell_type": "code",
      "source": [
        "# split Personal_status_sex, into two categories\n",
        "sex={ 'A95':\"female\",'A94':\"male\",'A93':\"male\", 'A92':\"female\", 'A91':\"male\"}\n",
        "df[\"Sex\"]=df[\"Personal_status_sex\"].map(sex)\n",
        "\n",
        "status={ 'A95':\"single\",'A94':\"notsingle\",'A93':\"single\", 'A92':\"notsingle\", 'A91':\"notsingle\"}\n",
        "df[\"Status\"]=df[\"Personal_status_sex\"].map(status)\n",
        "\n",
        "df[[\"Sex\",\"Status\"]]"
      ],
      "metadata": {
        "colab": {
          "base_uri": "https://localhost:8080/",
          "height": 423
        },
        "id": "O42g6-9kuGOJ",
        "outputId": "0ddea753-571c-4042-9115-b68e138aa5c3"
      },
      "execution_count": null,
      "outputs": [
        {
          "output_type": "execute_result",
          "data": {
            "text/plain": [
              "        Sex     Status\n",
              "0      male     single\n",
              "1    female  notsingle\n",
              "2      male     single\n",
              "3      male     single\n",
              "4      male     single\n",
              "..      ...        ...\n",
              "995  female  notsingle\n",
              "996    male  notsingle\n",
              "997    male     single\n",
              "998    male     single\n",
              "999    male     single\n",
              "\n",
              "[1000 rows x 2 columns]"
            ],
            "text/html": [
              "\n",
              "  <div id=\"df-bdabc6fd-730d-4782-b031-f72ce4ac4bbd\">\n",
              "    <div class=\"colab-df-container\">\n",
              "      <div>\n",
              "<style scoped>\n",
              "    .dataframe tbody tr th:only-of-type {\n",
              "        vertical-align: middle;\n",
              "    }\n",
              "\n",
              "    .dataframe tbody tr th {\n",
              "        vertical-align: top;\n",
              "    }\n",
              "\n",
              "    .dataframe thead th {\n",
              "        text-align: right;\n",
              "    }\n",
              "</style>\n",
              "<table border=\"1\" class=\"dataframe\">\n",
              "  <thead>\n",
              "    <tr style=\"text-align: right;\">\n",
              "      <th></th>\n",
              "      <th>Sex</th>\n",
              "      <th>Status</th>\n",
              "    </tr>\n",
              "  </thead>\n",
              "  <tbody>\n",
              "    <tr>\n",
              "      <th>0</th>\n",
              "      <td>male</td>\n",
              "      <td>single</td>\n",
              "    </tr>\n",
              "    <tr>\n",
              "      <th>1</th>\n",
              "      <td>female</td>\n",
              "      <td>notsingle</td>\n",
              "    </tr>\n",
              "    <tr>\n",
              "      <th>2</th>\n",
              "      <td>male</td>\n",
              "      <td>single</td>\n",
              "    </tr>\n",
              "    <tr>\n",
              "      <th>3</th>\n",
              "      <td>male</td>\n",
              "      <td>single</td>\n",
              "    </tr>\n",
              "    <tr>\n",
              "      <th>4</th>\n",
              "      <td>male</td>\n",
              "      <td>single</td>\n",
              "    </tr>\n",
              "    <tr>\n",
              "      <th>...</th>\n",
              "      <td>...</td>\n",
              "      <td>...</td>\n",
              "    </tr>\n",
              "    <tr>\n",
              "      <th>995</th>\n",
              "      <td>female</td>\n",
              "      <td>notsingle</td>\n",
              "    </tr>\n",
              "    <tr>\n",
              "      <th>996</th>\n",
              "      <td>male</td>\n",
              "      <td>notsingle</td>\n",
              "    </tr>\n",
              "    <tr>\n",
              "      <th>997</th>\n",
              "      <td>male</td>\n",
              "      <td>single</td>\n",
              "    </tr>\n",
              "    <tr>\n",
              "      <th>998</th>\n",
              "      <td>male</td>\n",
              "      <td>single</td>\n",
              "    </tr>\n",
              "    <tr>\n",
              "      <th>999</th>\n",
              "      <td>male</td>\n",
              "      <td>single</td>\n",
              "    </tr>\n",
              "  </tbody>\n",
              "</table>\n",
              "<p>1000 rows × 2 columns</p>\n",
              "</div>\n",
              "      <button class=\"colab-df-convert\" onclick=\"convertToInteractive('df-bdabc6fd-730d-4782-b031-f72ce4ac4bbd')\"\n",
              "              title=\"Convert this dataframe to an interactive table.\"\n",
              "              style=\"display:none;\">\n",
              "        \n",
              "  <svg xmlns=\"http://www.w3.org/2000/svg\" height=\"24px\"viewBox=\"0 0 24 24\"\n",
              "       width=\"24px\">\n",
              "    <path d=\"M0 0h24v24H0V0z\" fill=\"none\"/>\n",
              "    <path d=\"M18.56 5.44l.94 2.06.94-2.06 2.06-.94-2.06-.94-.94-2.06-.94 2.06-2.06.94zm-11 1L8.5 8.5l.94-2.06 2.06-.94-2.06-.94L8.5 2.5l-.94 2.06-2.06.94zm10 10l.94 2.06.94-2.06 2.06-.94-2.06-.94-.94-2.06-.94 2.06-2.06.94z\"/><path d=\"M17.41 7.96l-1.37-1.37c-.4-.4-.92-.59-1.43-.59-.52 0-1.04.2-1.43.59L10.3 9.45l-7.72 7.72c-.78.78-.78 2.05 0 2.83L4 21.41c.39.39.9.59 1.41.59.51 0 1.02-.2 1.41-.59l7.78-7.78 2.81-2.81c.8-.78.8-2.07 0-2.86zM5.41 20L4 18.59l7.72-7.72 1.47 1.35L5.41 20z\"/>\n",
              "  </svg>\n",
              "      </button>\n",
              "      \n",
              "  <style>\n",
              "    .colab-df-container {\n",
              "      display:flex;\n",
              "      flex-wrap:wrap;\n",
              "      gap: 12px;\n",
              "    }\n",
              "\n",
              "    .colab-df-convert {\n",
              "      background-color: #E8F0FE;\n",
              "      border: none;\n",
              "      border-radius: 50%;\n",
              "      cursor: pointer;\n",
              "      display: none;\n",
              "      fill: #1967D2;\n",
              "      height: 32px;\n",
              "      padding: 0 0 0 0;\n",
              "      width: 32px;\n",
              "    }\n",
              "\n",
              "    .colab-df-convert:hover {\n",
              "      background-color: #E2EBFA;\n",
              "      box-shadow: 0px 1px 2px rgba(60, 64, 67, 0.3), 0px 1px 3px 1px rgba(60, 64, 67, 0.15);\n",
              "      fill: #174EA6;\n",
              "    }\n",
              "\n",
              "    [theme=dark] .colab-df-convert {\n",
              "      background-color: #3B4455;\n",
              "      fill: #D2E3FC;\n",
              "    }\n",
              "\n",
              "    [theme=dark] .colab-df-convert:hover {\n",
              "      background-color: #434B5C;\n",
              "      box-shadow: 0px 1px 3px 1px rgba(0, 0, 0, 0.15);\n",
              "      filter: drop-shadow(0px 1px 2px rgba(0, 0, 0, 0.3));\n",
              "      fill: #FFFFFF;\n",
              "    }\n",
              "  </style>\n",
              "\n",
              "      <script>\n",
              "        const buttonEl =\n",
              "          document.querySelector('#df-bdabc6fd-730d-4782-b031-f72ce4ac4bbd button.colab-df-convert');\n",
              "        buttonEl.style.display =\n",
              "          google.colab.kernel.accessAllowed ? 'block' : 'none';\n",
              "\n",
              "        async function convertToInteractive(key) {\n",
              "          const element = document.querySelector('#df-bdabc6fd-730d-4782-b031-f72ce4ac4bbd');\n",
              "          const dataTable =\n",
              "            await google.colab.kernel.invokeFunction('convertToInteractive',\n",
              "                                                     [key], {});\n",
              "          if (!dataTable) return;\n",
              "\n",
              "          const docLinkHtml = 'Like what you see? Visit the ' +\n",
              "            '<a target=\"_blank\" href=https://colab.research.google.com/notebooks/data_table.ipynb>data table notebook</a>'\n",
              "            + ' to learn more about interactive tables.';\n",
              "          element.innerHTML = '';\n",
              "          dataTable['output_type'] = 'display_data';\n",
              "          await google.colab.output.renderOutput(dataTable, element);\n",
              "          const docLink = document.createElement('div');\n",
              "          docLink.innerHTML = docLinkHtml;\n",
              "          element.appendChild(docLink);\n",
              "        }\n",
              "      </script>\n",
              "    </div>\n",
              "  </div>\n",
              "  "
            ]
          },
          "metadata": {},
          "execution_count": 11
        }
      ]
    },
    {
      "cell_type": "code",
      "source": [
        "# which should be the protected/unprotected groups?\n",
        "# Probably female/male, we considered age, marital status and foreign status too "
      ],
      "metadata": {
        "id": "o45JSecbzXWL"
      },
      "execution_count": null,
      "outputs": []
    },
    {
      "cell_type": "code",
      "source": [
        "# feature selection, remove or merge to have enough data in each categories\n",
        "df.columns"
      ],
      "metadata": {
        "id": "FWYzLqESz_5I",
        "colab": {
          "base_uri": "https://localhost:8080/"
        },
        "outputId": "3a62f019-5860-46b0-8b69-bcf25a750705"
      },
      "execution_count": null,
      "outputs": [
        {
          "output_type": "execute_result",
          "data": {
            "text/plain": [
              "Index(['Status_checking_account', 'Duration', 'Credit_history', 'Purpose',\n",
              "       'Credit_amount', 'Savings', 'Employment_since', 'Installment_percent',\n",
              "       'Personal_status_sex', 'Other_debtors_guarantors', 'Residence_since',\n",
              "       'Property', 'Age', 'Other_installment', 'Housing', 'Existing_credits',\n",
              "       'Job', 'Liability', 'Telephone', 'Foreign', 'Cost_Matrix_Risk', 'Sex',\n",
              "       'Status'],\n",
              "      dtype='object')"
            ]
          },
          "metadata": {},
          "execution_count": 13
        }
      ]
    },
    {
      "cell_type": "code",
      "source": [
        "df[\"Sex\"].value_counts()"
      ],
      "metadata": {
        "colab": {
          "base_uri": "https://localhost:8080/"
        },
        "id": "Dz6Nl3ek3yWq",
        "outputId": "094e1834-c8b2-4ca6-e9d3-a32c596e4406"
      },
      "execution_count": null,
      "outputs": [
        {
          "output_type": "execute_result",
          "data": {
            "text/plain": [
              "male      690\n",
              "female    310\n",
              "Name: Sex, dtype: int64"
            ]
          },
          "metadata": {},
          "execution_count": 14
        }
      ]
    },
    {
      "cell_type": "code",
      "source": [
        "df[\"Status\"].value_counts()"
      ],
      "metadata": {
        "colab": {
          "base_uri": "https://localhost:8080/"
        },
        "id": "5IvavW_I3c4R",
        "outputId": "9e9e88bc-0ebe-41f9-a02b-856c5d013160"
      },
      "execution_count": null,
      "outputs": [
        {
          "output_type": "execute_result",
          "data": {
            "text/plain": [
              "single       548\n",
              "notsingle    452\n",
              "Name: Status, dtype: int64"
            ]
          },
          "metadata": {},
          "execution_count": 15
        }
      ]
    },
    {
      "cell_type": "code",
      "source": [
        "df[\"Foreign\"].value_counts()"
      ],
      "metadata": {
        "colab": {
          "base_uri": "https://localhost:8080/"
        },
        "id": "rCcEs3C85hS8",
        "outputId": "5d81b682-62b0-4cde-a7c5-443e531654f3"
      },
      "execution_count": null,
      "outputs": [
        {
          "output_type": "execute_result",
          "data": {
            "text/plain": [
              "yes    963\n",
              "no      37\n",
              "Name: Foreign, dtype: int64"
            ]
          },
          "metadata": {},
          "execution_count": 16
        }
      ]
    },
    {
      "cell_type": "code",
      "source": [
        "df[\"Age\"].hist()\n",
        "df['Age_bin'] = pd.cut(df['Age'], bins=[0,25,35,45,100], labels=[\"Under25\", \"Under35\", \"Under45\", \"Older\"])  \n",
        "df['Age_bin'].value_counts()\n"
      ],
      "metadata": {
        "colab": {
          "base_uri": "https://localhost:8080/",
          "height": 359
        },
        "id": "t2SrKwFB4ebL",
        "outputId": "c380a47a-d6ed-4525-cec7-e049fbc8af79"
      },
      "execution_count": null,
      "outputs": [
        {
          "output_type": "execute_result",
          "data": {
            "text/plain": [
              "Under35    398\n",
              "Under45    226\n",
              "Under25    190\n",
              "Older      186\n",
              "Name: Age_bin, dtype: int64"
            ]
          },
          "metadata": {},
          "execution_count": 17
        },
        {
          "output_type": "display_data",
          "data": {
            "text/plain": [
              "<Figure size 432x288 with 1 Axes>"
            ],
            "image/png": "[encoded data removed]"
          },
          "metadata": {
            "needs_background": "light"
          }
        }
      ]
    },
    {
      "cell_type": "code",
      "source": [
        "pd.crosstab(df.Age, df.Cost_Matrix_Risk)"
      ],
      "metadata": {
        "id": "x37p27cJ8Waa",
        "colab": {
          "base_uri": "https://localhost:8080/",
          "height": 1000
        },
        "outputId": "4049b78a-7c84-4a80-bf96-5f39cbc56871"
      },
      "execution_count": null,
      "outputs": [
        {
          "output_type": "execute_result",
          "data": {
            "text/plain": [
              "Cost_Matrix_Risk  Bad Risk  Good Risk\n",
              "Age                                  \n",
              "19                       1          1\n",
              "20                       5          9\n",
              "21                       5          9\n",
              "22                      11         16\n",
              "23                      20         28\n",
              "24                      19         25\n",
              "25                      19         22\n",
              "26                      14         36\n",
              "27                      13         38\n",
              "28                      15         28\n",
              "29                      15         22\n",
              "30                      11         29\n",
              "31                      11         27\n",
              "32                       9         25\n",
              "33                      13         20\n",
              "34                      11         21\n",
              "35                       6         34\n",
              "36                       6         33\n",
              "37                       8         21\n",
              "38                       4         20\n",
              "39                       6         15\n",
              "40                       6         19\n",
              "41                       4         13\n",
              "42                       8         14\n",
              "43                       5         12\n",
              "44                       5         12\n",
              "45                       3         12\n",
              "46                       4         14\n",
              "47                       5         12\n",
              "48                       3          9\n",
              "49                       1         13\n",
              "50                       3          9\n",
              "51                       1          7\n",
              "52                       1          8\n",
              "53                       5          2\n",
              "54                       2          8\n",
              "55                       3          5\n",
              "56                       0          3\n",
              "57                       3          6\n",
              "58                       2          3\n",
              "59                       1          2\n",
              "60                       3          3\n",
              "61                       3          4\n",
              "62                       0          2\n",
              "63                       1          7\n",
              "64                       0          5\n",
              "65                       1          4\n",
              "66                       2          3\n",
              "67                       0          3\n",
              "68                       2          1\n",
              "70                       0          1\n",
              "74                       1          3\n",
              "75                       0          2"
            ],
            "text/html": [
              "\n",
              "  <div id=\"df-284ad4de-bc02-4652-b252-6890a7c39f53\">\n",
              "    <div class=\"colab-df-container\">\n",
              "      <div>\n",
              "<style scoped>\n",
              "    .dataframe tbody tr th:only-of-type {\n",
              "        vertical-align: middle;\n",
              "    }\n",
              "\n",
              "    .dataframe tbody tr th {\n",
              "        vertical-align: top;\n",
              "    }\n",
              "\n",
              "    .dataframe thead th {\n",
              "        text-align: right;\n",
              "    }\n",
              "</style>\n",
              "<table border=\"1\" class=\"dataframe\">\n",
              "  <thead>\n",
              "    <tr style=\"text-align: right;\">\n",
              "      <th>Cost_Matrix_Risk</th>\n",
              "      <th>Bad Risk</th>\n",
              "      <th>Good Risk</th>\n",
              "    </tr>\n",
              "    <tr>\n",
              "      <th>Age</th>\n",
              "      <th></th>\n",
              "      <th></th>\n",
              "    </tr>\n",
              "  </thead>\n",
              "  <tbody>\n",
              "    <tr>\n",
              "      <th>19</th>\n",
              "      <td>1</td>\n",
              "      <td>1</td>\n",
              "    </tr>\n",
              "    <tr>\n",
              "      <th>20</th>\n",
              "      <td>5</td>\n",
              "      <td>9</td>\n",
              "    </tr>\n",
              "    <tr>\n",
              "      <th>21</th>\n",
              "      <td>5</td>\n",
              "      <td>9</td>\n",
              "    </tr>\n",
              "    <tr>\n",
              "      <th>22</th>\n",
              "      <td>11</td>\n",
              "      <td>16</td>\n",
              "    </tr>\n",
              "    <tr>\n",
              "      <th>23</th>\n",
              "      <td>20</td>\n",
              "      <td>28</td>\n",
              "    </tr>\n",
              "    <tr>\n",
              "      <th>24</th>\n",
              "      <td>19</td>\n",
              "      <td>25</td>\n",
              "    </tr>\n",
              "    <tr>\n",
              "      <th>25</th>\n",
              "      <td>19</td>\n",
              "      <td>22</td>\n",
              "    </tr>\n",
              "    <tr>\n",
              "      <th>26</th>\n",
              "      <td>14</td>\n",
              "      <td>36</td>\n",
              "    </tr>\n",
              "    <tr>\n",
              "      <th>27</th>\n",
              "      <td>13</td>\n",
              "      <td>38</td>\n",
              "    </tr>\n",
              "    <tr>\n",
              "      <th>28</th>\n",
              "      <td>15</td>\n",
              "      <td>28</td>\n",
              "    </tr>\n",
              "    <tr>\n",
              "      <th>29</th>\n",
              "      <td>15</td>\n",
              "      <td>22</td>\n",
              "    </tr>\n",
              "    <tr>\n",
              "      <th>30</th>\n",
              "      <td>11</td>\n",
              "      <td>29</td>\n",
              "    </tr>\n",
              "    <tr>\n",
              "      <th>31</th>\n",
              "      <td>11</td>\n",
              "      <td>27</td>\n",
              "    </tr>\n",
              "    <tr>\n",
              "      <th>32</th>\n",
              "      <td>9</td>\n",
              "      <td>25</td>\n",
              "    </tr>\n",
              "    <tr>\n",
              "      <th>33</th>\n",
              "      <td>13</td>\n",
              "      <td>20</td>\n",
              "    </tr>\n",
              "    <tr>\n",
              "      <th>34</th>\n",
              "      <td>11</td>\n",
              "      <td>21</td>\n",
              "    </tr>\n",
              "    <tr>\n",
              "      <th>35</th>\n",
              "      <td>6</td>\n",
              "      <td>34</td>\n",
              "    </tr>\n",
              "    <tr>\n",
              "      <th>36</th>\n",
              "      <td>6</td>\n",
              "      <td>33</td>\n",
              "    </tr>\n",
              "    <tr>\n",
              "      <th>37</th>\n",
              "      <td>8</td>\n",
              "      <td>21</td>\n",
              "    </tr>\n",
              "    <tr>\n",
              "      <th>38</th>\n",
              "      <td>4</td>\n",
              "      <td>20</td>\n",
              "    </tr>\n",
              "    <tr>\n",
              "      <th>39</th>\n",
              "      <td>6</td>\n",
              "      <td>15</td>\n",
              "    </tr>\n",
              "    <tr>\n",
              "      <th>40</th>\n",
              "      <td>6</td>\n",
              "      <td>19</td>\n",
              "    </tr>\n",
              "    <tr>\n",
              "      <th>41</th>\n",
              "      <td>4</td>\n",
              "      <td>13</td>\n",
              "    </tr>\n",
              "    <tr>\n",
              "      <th>42</th>\n",
              "      <td>8</td>\n",
              "      <td>14</td>\n",
              "    </tr>\n",
              "    <tr>\n",
              "      <th>43</th>\n",
              "      <td>5</td>\n",
              "      <td>12</td>\n",
              "    </tr>\n",
              "    <tr>\n",
              "      <th>44</th>\n",
              "      <td>5</td>\n",
              "      <td>12</td>\n",
              "    </tr>\n",
              "    <tr>\n",
              "      <th>45</th>\n",
              "      <td>3</td>\n",
              "      <td>12</td>\n",
              "    </tr>\n",
              "    <tr>\n",
              "      <th>46</th>\n",
              "      <td>4</td>\n",
              "      <td>14</td>\n",
              "    </tr>\n",
              "    <tr>\n",
              "      <th>47</th>\n",
              "      <td>5</td>\n",
              "      <td>12</td>\n",
              "    </tr>\n",
              "    <tr>\n",
              "      <th>48</th>\n",
              "      <td>3</td>\n",
              "      <td>9</td>\n",
              "    </tr>\n",
              "    <tr>\n",
              "      <th>49</th>\n",
              "      <td>1</td>\n",
              "      <td>13</td>\n",
              "    </tr>\n",
              "    <tr>\n",
              "      <th>50</th>\n",
              "      <td>3</td>\n",
              "      <td>9</td>\n",
              "    </tr>\n",
              "    <tr>\n",
              "      <th>51</th>\n",
              "      <td>1</td>\n",
              "      <td>7</td>\n",
              "    </tr>\n",
              "    <tr>\n",
              "      <th>52</th>\n",
              "      <td>1</td>\n",
              "      <td>8</td>\n",
              "    </tr>\n",
              "    <tr>\n",
              "      <th>53</th>\n",
              "      <td>5</td>\n",
              "      <td>2</td>\n",
              "    </tr>\n",
              "    <tr>\n",
              "      <th>54</th>\n",
              "      <td>2</td>\n",
              "      <td>8</td>\n",
              "    </tr>\n",
              "    <tr>\n",
              "      <th>55</th>\n",
              "      <td>3</td>\n",
              "      <td>5</td>\n",
              "    </tr>\n",
              "    <tr>\n",
              "      <th>56</th>\n",
              "      <td>0</td>\n",
              "      <td>3</td>\n",
              "    </tr>\n",
              "    <tr>\n",
              "      <th>57</th>\n",
              "      <td>3</td>\n",
              "      <td>6</td>\n",
              "    </tr>\n",
              "    <tr>\n",
              "      <th>58</th>\n",
              "      <td>2</td>\n",
              "      <td>3</td>\n",
              "    </tr>\n",
              "    <tr>\n",
              "      <th>59</th>\n",
              "      <td>1</td>\n",
              "      <td>2</td>\n",
              "    </tr>\n",
              "    <tr>\n",
              "      <th>60</th>\n",
              "      <td>3</td>\n",
              "      <td>3</td>\n",
              "    </tr>\n",
              "    <tr>\n",
              "      <th>61</th>\n",
              "      <td>3</td>\n",
              "      <td>4</td>\n",
              "    </tr>\n",
              "    <tr>\n",
              "      <th>62</th>\n",
              "      <td>0</td>\n",
              "      <td>2</td>\n",
              "    </tr>\n",
              "    <tr>\n",
              "      <th>63</th>\n",
              "      <td>1</td>\n",
              "      <td>7</td>\n",
              "    </tr>\n",
              "    <tr>\n",
              "      <th>64</th>\n",
              "      <td>0</td>\n",
              "      <td>5</td>\n",
              "    </tr>\n",
              "    <tr>\n",
              "      <th>65</th>\n",
              "      <td>1</td>\n",
              "      <td>4</td>\n",
              "    </tr>\n",
              "    <tr>\n",
              "      <th>66</th>\n",
              "      <td>2</td>\n",
              "      <td>3</td>\n",
              "    </tr>\n",
              "    <tr>\n",
              "      <th>67</th>\n",
              "      <td>0</td>\n",
              "      <td>3</td>\n",
              "    </tr>\n",
              "    <tr>\n",
              "      <th>68</th>\n",
              "      <td>2</td>\n",
              "      <td>1</td>\n",
              "    </tr>\n",
              "    <tr>\n",
              "      <th>70</th>\n",
              "      <td>0</td>\n",
              "      <td>1</td>\n",
              "    </tr>\n",
              "    <tr>\n",
              "      <th>74</th>\n",
              "      <td>1</td>\n",
              "      <td>3</td>\n",
              "    </tr>\n",
              "    <tr>\n",
              "      <th>75</th>\n",
              "      <td>0</td>\n",
              "      <td>2</td>\n",
              "    </tr>\n",
              "  </tbody>\n",
              "</table>\n",
              "</div>\n",
              "      <button class=\"colab-df-convert\" onclick=\"convertToInteractive('df-284ad4de-bc02-4652-b252-6890a7c39f53')\"\n",
              "              title=\"Convert this dataframe to an interactive table.\"\n",
              "              style=\"display:none;\">\n",
              "        \n",
              "  <svg xmlns=\"http://www.w3.org/2000/svg\" height=\"24px\"viewBox=\"0 0 24 24\"\n",
              "       width=\"24px\">\n",
              "    <path d=\"M0 0h24v24H0V0z\" fill=\"none\"/>\n",
              "    <path d=\"M18.56 5.44l.94 2.06.94-2.06 2.06-.94-2.06-.94-.94-2.06-.94 2.06-2.06.94zm-11 1L8.5 8.5l.94-2.06 2.06-.94-2.06-.94L8.5 2.5l-.94 2.06-2.06.94zm10 10l.94 2.06.94-2.06 2.06-.94-2.06-.94-.94-2.06-.94 2.06-2.06.94z\"/><path d=\"M17.41 7.96l-1.37-1.37c-.4-.4-.92-.59-1.43-.59-.52 0-1.04.2-1.43.59L10.3 9.45l-7.72 7.72c-.78.78-.78 2.05 0 2.83L4 21.41c.39.39.9.59 1.41.59.51 0 1.02-.2 1.41-.59l7.78-7.78 2.81-2.81c.8-.78.8-2.07 0-2.86zM5.41 20L4 18.59l7.72-7.72 1.47 1.35L5.41 20z\"/>\n",
              "  </svg>\n",
              "      </button>\n",
              "      \n",
              "  <style>\n",
              "    .colab-df-container {\n",
              "      display:flex;\n",
              "      flex-wrap:wrap;\n",
              "      gap: 12px;\n",
              "    }\n",
              "\n",
              "    .colab-df-convert {\n",
              "      background-color: #E8F0FE;\n",
              "      border: none;\n",
              "      border-radius: 50%;\n",
              "      cursor: pointer;\n",
              "      display: none;\n",
              "      fill: #1967D2;\n",
              "      height: 32px;\n",
              "      padding: 0 0 0 0;\n",
              "      width: 32px;\n",
              "    }\n",
              "\n",
              "    .colab-df-convert:hover {\n",
              "      background-color: #E2EBFA;\n",
              "      box-shadow: 0px 1px 2px rgba(60, 64, 67, 0.3), 0px 1px 3px 1px rgba(60, 64, 67, 0.15);\n",
              "      fill: #174EA6;\n",
              "    }\n",
              "\n",
              "    [theme=dark] .colab-df-convert {\n",
              "      background-color: #3B4455;\n",
              "      fill: #D2E3FC;\n",
              "    }\n",
              "\n",
              "    [theme=dark] .colab-df-convert:hover {\n",
              "      background-color: #434B5C;\n",
              "      box-shadow: 0px 1px 3px 1px rgba(0, 0, 0, 0.15);\n",
              "      filter: drop-shadow(0px 1px 2px rgba(0, 0, 0, 0.3));\n",
              "      fill: #FFFFFF;\n",
              "    }\n",
              "  </style>\n",
              "\n",
              "      <script>\n",
              "        const buttonEl =\n",
              "          document.querySelector('#df-284ad4de-bc02-4652-b252-6890a7c39f53 button.colab-df-convert');\n",
              "        buttonEl.style.display =\n",
              "          google.colab.kernel.accessAllowed ? 'block' : 'none';\n",
              "\n",
              "        async function convertToInteractive(key) {\n",
              "          const element = document.querySelector('#df-284ad4de-bc02-4652-b252-6890a7c39f53');\n",
              "          const dataTable =\n",
              "            await google.colab.kernel.invokeFunction('convertToInteractive',\n",
              "                                                     [key], {});\n",
              "          if (!dataTable) return;\n",
              "\n",
              "          const docLinkHtml = 'Like what you see? Visit the ' +\n",
              "            '<a target=\"_blank\" href=https://colab.research.google.com/notebooks/data_table.ipynb>data table notebook</a>'\n",
              "            + ' to learn more about interactive tables.';\n",
              "          element.innerHTML = '';\n",
              "          dataTable['output_type'] = 'display_data';\n",
              "          await google.colab.output.renderOutput(dataTable, element);\n",
              "          const docLink = document.createElement('div');\n",
              "          docLink.innerHTML = docLinkHtml;\n",
              "          element.appendChild(docLink);\n",
              "        }\n",
              "      </script>\n",
              "    </div>\n",
              "  </div>\n",
              "  "
            ]
          },
          "metadata": {},
          "execution_count": 18
        }
      ]
    },
    {
      "cell_type": "code",
      "source": [
        "from matplotlib import pyplot  as plt\n",
        "df.hist(column='Cost_Matrix_Risk', by='Sex')\n",
        "plt.ylim(ymin=0,ymax=370)\n"
      ],
      "metadata": {
        "colab": {
          "base_uri": "https://localhost:8080/",
          "height": 339
        },
        "id": "kPEynr8D-hIO",
        "outputId": "ecf10722-d747-4721-cb38-836849ddef55"
      },
      "execution_count": null,
      "outputs": [
        {
          "output_type": "execute_result",
          "data": {
            "text/plain": [
              "(0.0, 370.0)"
            ]
          },
          "metadata": {},
          "execution_count": 19
        },
        {
          "output_type": "display_data",
          "data": {
            "text/plain": [
              "<Figure size 432x288 with 2 Axes>"
            ],
            "image/png": "[encoded data removed]"
          },
          "metadata": {
            "needs_background": "light"
          }
        }
      ]
    },
    {
      "cell_type": "code",
      "source": [
        "df.Age[df.Cost_Matrix_Risk == 'Bad Risk'].plot(kind='kde')    \n",
        "df.Age[df.Cost_Matrix_Risk == 'Good Risk'].plot(kind='kde')\n",
        "plt.legend(('Bad Risk', 'Good Risk'),loc='best') \n",
        "plt.plot()"
      ],
      "metadata": {
        "id": "ypzAvCHRAKfa",
        "outputId": "03a8d922-6c84-40bb-f2aa-c80235293577",
        "colab": {
          "base_uri": "https://localhost:8080/",
          "height": 284
        }
      },
      "execution_count": null,
      "outputs": [
        {
          "output_type": "execute_result",
          "data": {
            "text/plain": [
              "[]"
            ]
          },
          "metadata": {},
          "execution_count": 20
        },
        {
          "output_type": "display_data",
          "data": {
            "text/plain": [
              "<Figure size 432x288 with 1 Axes>"
            ],
            "image/png": "[encoded data removed]"
          },
          "metadata": {
            "needs_background": "light"
          }
        }
      ]
    },
    {
      "cell_type": "code",
      "source": [
        "#generating the features list from what we choose to remove\n",
        "not_features = ['Foreign', 'Personal_status_sex', 'Age', 'Age_above_25'] #keep only Age_bin\n",
        "features = list(set(df.columns)-set(not_features))\n",
        "print(features)"
      ],
      "metadata": {
        "id": "vxfiT0FaA13f",
        "colab": {
          "base_uri": "https://localhost:8080/"
        },
        "outputId": "3341fdec-64e3-4421-bf40-11b9ca0d58c1"
      },
      "execution_count": null,
      "outputs": [
        {
          "output_type": "stream",
          "name": "stdout",
          "text": [
            "['Liability', 'Residence_since', 'Other_debtors_guarantors', 'Existing_credits', 'Age_bin', 'Savings', 'Credit_history', 'Property', 'Telephone', 'Housing', 'Cost_Matrix_Risk', 'Credit_amount', 'Job', 'Duration', 'Other_installment', 'Status_checking_account', 'Status', 'Installment_percent', 'Sex', 'Employment_since', 'Purpose']\n"
          ]
        }
      ]
    },
    {
      "cell_type": "markdown",
      "source": [
        "##BELOW HERE IS A MODIFIED DATAFRAME\n",
        "\n",
        "This dataframe is based on the frame df above, but made separate to keep it clean. The main thing is it one-hot-encodes all the categorical variables, to pass them to the model - we do it in stages as we worked through them one at a time to check it was doing what was intended. A faster way would be to make a list of all the categorical variables, then do the pd.get_dummies in one step."
      ],
      "metadata": {
        "id": "5VZMCR6uSobX"
      }
    },
    {
      "cell_type": "code",
      "source": [
        "features = ['Sex','Duration','Housing','Cost_Matrix_Risk','Status_checking_account','Age_bin','Job']"
      ],
      "metadata": {
        "id": "z_jzrU05Evvk"
      },
      "execution_count": null,
      "outputs": []
    },
    {
      "cell_type": "code",
      "source": [
        "df.Sex.replace(('female', 'male'), (1, 0), inplace=True)"
      ],
      "metadata": {
        "id": "IPRRxDVLFjCO"
      },
      "execution_count": null,
      "outputs": []
    },
    {
      "cell_type": "code",
      "source": [
        "df_ohe = df[features]"
      ],
      "metadata": {
        "id": "2w2xdSLTHLM2"
      },
      "execution_count": null,
      "outputs": []
    },
    {
      "cell_type": "code",
      "source": [
        "pd.get_dummies(df_ohe.Age_bin, prefix='Age')"
      ],
      "metadata": {
        "colab": {
          "base_uri": "https://localhost:8080/",
          "height": 423
        },
        "id": "6u_GjburS4RG",
        "outputId": "8699bbe7-0831-46df-f04f-356f5c21d195"
      },
      "execution_count": null,
      "outputs": [
        {
          "output_type": "execute_result",
          "data": {
            "text/plain": [
              "     Age_Under25  Age_Under35  Age_Under45  Age_Older\n",
              "0              0            0            0          1\n",
              "1              1            0            0          0\n",
              "2              0            0            0          1\n",
              "3              0            0            1          0\n",
              "4              0            0            0          1\n",
              "..           ...          ...          ...        ...\n",
              "995            0            1            0          0\n",
              "996            0            0            1          0\n",
              "997            0            0            1          0\n",
              "998            1            0            0          0\n",
              "999            0            1            0          0\n",
              "\n",
              "[1000 rows x 4 columns]"
            ],
            "text/html": [
              "\n",
              "  <div id=\"df-61c9efda-4b41-4583-a4a2-c6b1a92c613f\">\n",
              "    <div class=\"colab-df-container\">\n",
              "      <div>\n",
              "<style scoped>\n",
              "    .dataframe tbody tr th:only-of-type {\n",
              "        vertical-align: middle;\n",
              "    }\n",
              "\n",
              "    .dataframe tbody tr th {\n",
              "        vertical-align: top;\n",
              "    }\n",
              "\n",
              "    .dataframe thead th {\n",
              "        text-align: right;\n",
              "    }\n",
              "</style>\n",
              "<table border=\"1\" class=\"dataframe\">\n",
              "  <thead>\n",
              "    <tr style=\"text-align: right;\">\n",
              "      <th></th>\n",
              "      <th>Age_Under25</th>\n",
              "      <th>Age_Under35</th>\n",
              "      <th>Age_Under45</th>\n",
              "      <th>Age_Older</th>\n",
              "    </tr>\n",
              "  </thead>\n",
              "  <tbody>\n",
              "    <tr>\n",
              "      <th>0</th>\n",
              "      <td>0</td>\n",
              "      <td>0</td>\n",
              "      <td>0</td>\n",
              "      <td>1</td>\n",
              "    </tr>\n",
              "    <tr>\n",
              "      <th>1</th>\n",
              "      <td>1</td>\n",
              "      <td>0</td>\n",
              "      <td>0</td>\n",
              "      <td>0</td>\n",
              "    </tr>\n",
              "    <tr>\n",
              "      <th>2</th>\n",
              "      <td>0</td>\n",
              "      <td>0</td>\n",
              "      <td>0</td>\n",
              "      <td>1</td>\n",
              "    </tr>\n",
              "    <tr>\n",
              "      <th>3</th>\n",
              "      <td>0</td>\n",
              "      <td>0</td>\n",
              "      <td>1</td>\n",
              "      <td>0</td>\n",
              "    </tr>\n",
              "    <tr>\n",
              "      <th>4</th>\n",
              "      <td>0</td>\n",
              "      <td>0</td>\n",
              "      <td>0</td>\n",
              "      <td>1</td>\n",
              "    </tr>\n",
              "    <tr>\n",
              "      <th>...</th>\n",
              "      <td>...</td>\n",
              "      <td>...</td>\n",
              "      <td>...</td>\n",
              "      <td>...</td>\n",
              "    </tr>\n",
              "    <tr>\n",
              "      <th>995</th>\n",
              "      <td>0</td>\n",
              "      <td>1</td>\n",
              "      <td>0</td>\n",
              "      <td>0</td>\n",
              "    </tr>\n",
              "    <tr>\n",
              "      <th>996</th>\n",
              "      <td>0</td>\n",
              "      <td>0</td>\n",
              "      <td>1</td>\n",
              "      <td>0</td>\n",
              "    </tr>\n",
              "    <tr>\n",
              "      <th>997</th>\n",
              "      <td>0</td>\n",
              "      <td>0</td>\n",
              "      <td>1</td>\n",
              "      <td>0</td>\n",
              "    </tr>\n",
              "    <tr>\n",
              "      <th>998</th>\n",
              "      <td>1</td>\n",
              "      <td>0</td>\n",
              "      <td>0</td>\n",
              "      <td>0</td>\n",
              "    </tr>\n",
              "    <tr>\n",
              "      <th>999</th>\n",
              "      <td>0</td>\n",
              "      <td>1</td>\n",
              "      <td>0</td>\n",
              "      <td>0</td>\n",
              "    </tr>\n",
              "  </tbody>\n",
              "</table>\n",
              "<p>1000 rows × 4 columns</p>\n",
              "</div>\n",
              "      <button class=\"colab-df-convert\" onclick=\"convertToInteractive('df-61c9efda-4b41-4583-a4a2-c6b1a92c613f')\"\n",
              "              title=\"Convert this dataframe to an interactive table.\"\n",
              "              style=\"display:none;\">\n",
              "        \n",
              "  <svg xmlns=\"http://www.w3.org/2000/svg\" height=\"24px\"viewBox=\"0 0 24 24\"\n",
              "       width=\"24px\">\n",
              "    <path d=\"M0 0h24v24H0V0z\" fill=\"none\"/>\n",
              "    <path d=\"M18.56 5.44l.94 2.06.94-2.06 2.06-.94-2.06-.94-.94-2.06-.94 2.06-2.06.94zm-11 1L8.5 8.5l.94-2.06 2.06-.94-2.06-.94L8.5 2.5l-.94 2.06-2.06.94zm10 10l.94 2.06.94-2.06 2.06-.94-2.06-.94-.94-2.06-.94 2.06-2.06.94z\"/><path d=\"M17.41 7.96l-1.37-1.37c-.4-.4-.92-.59-1.43-.59-.52 0-1.04.2-1.43.59L10.3 9.45l-7.72 7.72c-.78.78-.78 2.05 0 2.83L4 21.41c.39.39.9.59 1.41.59.51 0 1.02-.2 1.41-.59l7.78-7.78 2.81-2.81c.8-.78.8-2.07 0-2.86zM5.41 20L4 18.59l7.72-7.72 1.47 1.35L5.41 20z\"/>\n",
              "  </svg>\n",
              "      </button>\n",
              "      \n",
              "  <style>\n",
              "    .colab-df-container {\n",
              "      display:flex;\n",
              "      flex-wrap:wrap;\n",
              "      gap: 12px;\n",
              "    }\n",
              "\n",
              "    .colab-df-convert {\n",
              "      background-color: #E8F0FE;\n",
              "      border: none;\n",
              "      border-radius: 50%;\n",
              "      cursor: pointer;\n",
              "      display: none;\n",
              "      fill: #1967D2;\n",
              "      height: 32px;\n",
              "      padding: 0 0 0 0;\n",
              "      width: 32px;\n",
              "    }\n",
              "\n",
              "    .colab-df-convert:hover {\n",
              "      background-color: #E2EBFA;\n",
              "      box-shadow: 0px 1px 2px rgba(60, 64, 67, 0.3), 0px 1px 3px 1px rgba(60, 64, 67, 0.15);\n",
              "      fill: #174EA6;\n",
              "    }\n",
              "\n",
              "    [theme=dark] .colab-df-convert {\n",
              "      background-color: #3B4455;\n",
              "      fill: #D2E3FC;\n",
              "    }\n",
              "\n",
              "    [theme=dark] .colab-df-convert:hover {\n",
              "      background-color: #434B5C;\n",
              "      box-shadow: 0px 1px 3px 1px rgba(0, 0, 0, 0.15);\n",
              "      filter: drop-shadow(0px 1px 2px rgba(0, 0, 0, 0.3));\n",
              "      fill: #FFFFFF;\n",
              "    }\n",
              "  </style>\n",
              "\n",
              "      <script>\n",
              "        const buttonEl =\n",
              "          document.querySelector('#df-61c9efda-4b41-4583-a4a2-c6b1a92c613f button.colab-df-convert');\n",
              "        buttonEl.style.display =\n",
              "          google.colab.kernel.accessAllowed ? 'block' : 'none';\n",
              "\n",
              "        async function convertToInteractive(key) {\n",
              "          const element = document.querySelector('#df-61c9efda-4b41-4583-a4a2-c6b1a92c613f');\n",
              "          const dataTable =\n",
              "            await google.colab.kernel.invokeFunction('convertToInteractive',\n",
              "                                                     [key], {});\n",
              "          if (!dataTable) return;\n",
              "\n",
              "          const docLinkHtml = 'Like what you see? Visit the ' +\n",
              "            '<a target=\"_blank\" href=https://colab.research.google.com/notebooks/data_table.ipynb>data table notebook</a>'\n",
              "            + ' to learn more about interactive tables.';\n",
              "          element.innerHTML = '';\n",
              "          dataTable['output_type'] = 'display_data';\n",
              "          await google.colab.output.renderOutput(dataTable, element);\n",
              "          const docLink = document.createElement('div');\n",
              "          docLink.innerHTML = docLinkHtml;\n",
              "          element.appendChild(docLink);\n",
              "        }\n",
              "      </script>\n",
              "    </div>\n",
              "  </div>\n",
              "  "
            ]
          },
          "metadata": {},
          "execution_count": 25
        }
      ]
    },
    {
      "cell_type": "code",
      "source": [
        "#the issue was here Barbara - this next line generates the dummies as a new frame, you need to join them to the old frame\n",
        "df_ohe=df_ohe.join(pd.get_dummies(df_ohe.Age_bin, prefix='Age'))\n",
        "\n",
        "df_ohe.drop('Age_bin',inplace=True,axis=1)"
      ],
      "metadata": {
        "id": "ROY-eXZkQ6S4"
      },
      "execution_count": null,
      "outputs": []
    },
    {
      "cell_type": "code",
      "source": [
        "df_ohe.head()"
      ],
      "metadata": {
        "colab": {
          "base_uri": "https://localhost:8080/",
          "height": 406
        },
        "id": "dSIvl2jBT_3e",
        "outputId": "ee299335-3536-4a92-d7f2-ab8a55aa7633"
      },
      "execution_count": null,
      "outputs": [
        {
          "output_type": "execute_result",
          "data": {
            "text/plain": [
              "   Sex  Duration   Housing Cost_Matrix_Risk Status_checking_account  \\\n",
              "0    0         6       own        Good Risk                   <0 DM   \n",
              "1    1        48       own         Bad Risk            0 <= <200 DM   \n",
              "2    0        12       own        Good Risk     no checking account   \n",
              "3    0        42  for free        Good Risk                   <0 DM   \n",
              "4    0        24  for free         Bad Risk                   <0 DM   \n",
              "\n",
              "                           Job  Age_Under25  Age_Under35  Age_Under45  \\\n",
              "0  skilled employee / official            0            0            0   \n",
              "1  skilled employee / official            1            0            0   \n",
              "2         unskilled - resident            0            0            0   \n",
              "3  skilled employee / official            0            0            1   \n",
              "4  skilled employee / official            0            0            0   \n",
              "\n",
              "   Age_Older  \n",
              "0          1  \n",
              "1          0  \n",
              "2          1  \n",
              "3          0  \n",
              "4          1  "
            ],
            "text/html": [
              "\n",
              "  <div id=\"df-1c3552a3-607c-43ce-abfe-6ba99adf5fef\">\n",
              "    <div class=\"colab-df-container\">\n",
              "      <div>\n",
              "<style scoped>\n",
              "    .dataframe tbody tr th:only-of-type {\n",
              "        vertical-align: middle;\n",
              "    }\n",
              "\n",
              "    .dataframe tbody tr th {\n",
              "        vertical-align: top;\n",
              "    }\n",
              "\n",
              "    .dataframe thead th {\n",
              "        text-align: right;\n",
              "    }\n",
              "</style>\n",
              "<table border=\"1\" class=\"dataframe\">\n",
              "  <thead>\n",
              "    <tr style=\"text-align: right;\">\n",
              "      <th></th>\n",
              "      <th>Sex</th>\n",
              "      <th>Duration</th>\n",
              "      <th>Housing</th>\n",
              "      <th>Cost_Matrix_Risk</th>\n",
              "      <th>Status_checking_account</th>\n",
              "      <th>Job</th>\n",
              "      <th>Age_Under25</th>\n",
              "      <th>Age_Under35</th>\n",
              "      <th>Age_Under45</th>\n",
              "      <th>Age_Older</th>\n",
              "    </tr>\n",
              "  </thead>\n",
              "  <tbody>\n",
              "    <tr>\n",
              "      <th>0</th>\n",
              "      <td>0</td>\n",
              "      <td>6</td>\n",
              "      <td>own</td>\n",
              "      <td>Good Risk</td>\n",
              "      <td>&lt;0 DM</td>\n",
              "      <td>skilled employee / official</td>\n",
              "      <td>0</td>\n",
              "      <td>0</td>\n",
              "      <td>0</td>\n",
              "      <td>1</td>\n",
              "    </tr>\n",
              "    <tr>\n",
              "      <th>1</th>\n",
              "      <td>1</td>\n",
              "      <td>48</td>\n",
              "      <td>own</td>\n",
              "      <td>Bad Risk</td>\n",
              "      <td>0 &lt;= &lt;200 DM</td>\n",
              "      <td>skilled employee / official</td>\n",
              "      <td>1</td>\n",
              "      <td>0</td>\n",
              "      <td>0</td>\n",
              "      <td>0</td>\n",
              "    </tr>\n",
              "    <tr>\n",
              "      <th>2</th>\n",
              "      <td>0</td>\n",
              "      <td>12</td>\n",
              "      <td>own</td>\n",
              "      <td>Good Risk</td>\n",
              "      <td>no checking account</td>\n",
              "      <td>unskilled - resident</td>\n",
              "      <td>0</td>\n",
              "      <td>0</td>\n",
              "      <td>0</td>\n",
              "      <td>1</td>\n",
              "    </tr>\n",
              "    <tr>\n",
              "      <th>3</th>\n",
              "      <td>0</td>\n",
              "      <td>42</td>\n",
              "      <td>for free</td>\n",
              "      <td>Good Risk</td>\n",
              "      <td>&lt;0 DM</td>\n",
              "      <td>skilled employee / official</td>\n",
              "      <td>0</td>\n",
              "      <td>0</td>\n",
              "      <td>1</td>\n",
              "      <td>0</td>\n",
              "    </tr>\n",
              "    <tr>\n",
              "      <th>4</th>\n",
              "      <td>0</td>\n",
              "      <td>24</td>\n",
              "      <td>for free</td>\n",
              "      <td>Bad Risk</td>\n",
              "      <td>&lt;0 DM</td>\n",
              "      <td>skilled employee / official</td>\n",
              "      <td>0</td>\n",
              "      <td>0</td>\n",
              "      <td>0</td>\n",
              "      <td>1</td>\n",
              "    </tr>\n",
              "  </tbody>\n",
              "</table>\n",
              "</div>\n",
              "      <button class=\"colab-df-convert\" onclick=\"convertToInteractive('df-1c3552a3-607c-43ce-abfe-6ba99adf5fef')\"\n",
              "              title=\"Convert this dataframe to an interactive table.\"\n",
              "              style=\"display:none;\">\n",
              "        \n",
              "  <svg xmlns=\"http://www.w3.org/2000/svg\" height=\"24px\"viewBox=\"0 0 24 24\"\n",
              "       width=\"24px\">\n",
              "    <path d=\"M0 0h24v24H0V0z\" fill=\"none\"/>\n",
              "    <path d=\"M18.56 5.44l.94 2.06.94-2.06 2.06-.94-2.06-.94-.94-2.06-.94 2.06-2.06.94zm-11 1L8.5 8.5l.94-2.06 2.06-.94-2.06-.94L8.5 2.5l-.94 2.06-2.06.94zm10 10l.94 2.06.94-2.06 2.06-.94-2.06-.94-.94-2.06-.94 2.06-2.06.94z\"/><path d=\"M17.41 7.96l-1.37-1.37c-.4-.4-.92-.59-1.43-.59-.52 0-1.04.2-1.43.59L10.3 9.45l-7.72 7.72c-.78.78-.78 2.05 0 2.83L4 21.41c.39.39.9.59 1.41.59.51 0 1.02-.2 1.41-.59l7.78-7.78 2.81-2.81c.8-.78.8-2.07 0-2.86zM5.41 20L4 18.59l7.72-7.72 1.47 1.35L5.41 20z\"/>\n",
              "  </svg>\n",
              "      </button>\n",
              "      \n",
              "  <style>\n",
              "    .colab-df-container {\n",
              "      display:flex;\n",
              "      flex-wrap:wrap;\n",
              "      gap: 12px;\n",
              "    }\n",
              "\n",
              "    .colab-df-convert {\n",
              "      background-color: #E8F0FE;\n",
              "      border: none;\n",
              "      border-radius: 50%;\n",
              "      cursor: pointer;\n",
              "      display: none;\n",
              "      fill: #1967D2;\n",
              "      height: 32px;\n",
              "      padding: 0 0 0 0;\n",
              "      width: 32px;\n",
              "    }\n",
              "\n",
              "    .colab-df-convert:hover {\n",
              "      background-color: #E2EBFA;\n",
              "      box-shadow: 0px 1px 2px rgba(60, 64, 67, 0.3), 0px 1px 3px 1px rgba(60, 64, 67, 0.15);\n",
              "      fill: #174EA6;\n",
              "    }\n",
              "\n",
              "    [theme=dark] .colab-df-convert {\n",
              "      background-color: #3B4455;\n",
              "      fill: #D2E3FC;\n",
              "    }\n",
              "\n",
              "    [theme=dark] .colab-df-convert:hover {\n",
              "      background-color: #434B5C;\n",
              "      box-shadow: 0px 1px 3px 1px rgba(0, 0, 0, 0.15);\n",
              "      filter: drop-shadow(0px 1px 2px rgba(0, 0, 0, 0.3));\n",
              "      fill: #FFFFFF;\n",
              "    }\n",
              "  </style>\n",
              "\n",
              "      <script>\n",
              "        const buttonEl =\n",
              "          document.querySelector('#df-1c3552a3-607c-43ce-abfe-6ba99adf5fef button.colab-df-convert');\n",
              "        buttonEl.style.display =\n",
              "          google.colab.kernel.accessAllowed ? 'block' : 'none';\n",
              "\n",
              "        async function convertToInteractive(key) {\n",
              "          const element = document.querySelector('#df-1c3552a3-607c-43ce-abfe-6ba99adf5fef');\n",
              "          const dataTable =\n",
              "            await google.colab.kernel.invokeFunction('convertToInteractive',\n",
              "                                                     [key], {});\n",
              "          if (!dataTable) return;\n",
              "\n",
              "          const docLinkHtml = 'Like what you see? Visit the ' +\n",
              "            '<a target=\"_blank\" href=https://colab.research.google.com/notebooks/data_table.ipynb>data table notebook</a>'\n",
              "            + ' to learn more about interactive tables.';\n",
              "          element.innerHTML = '';\n",
              "          dataTable['output_type'] = 'display_data';\n",
              "          await google.colab.output.renderOutput(dataTable, element);\n",
              "          const docLink = document.createElement('div');\n",
              "          docLink.innerHTML = docLinkHtml;\n",
              "          element.appendChild(docLink);\n",
              "        }\n",
              "      </script>\n",
              "    </div>\n",
              "  </div>\n",
              "  "
            ]
          },
          "metadata": {},
          "execution_count": 27
        }
      ]
    },
    {
      "cell_type": "code",
      "source": [
        "df.Housing.replace('for free', 'for_free',inplace=True)\n",
        "pd.get_dummies(df.Housing, prefix='Housing')"
      ],
      "metadata": {
        "id": "5RIg4feuIKy5",
        "outputId": "dfb47016-34ea-41a4-f811-26069c2a2e04",
        "colab": {
          "base_uri": "https://localhost:8080/",
          "height": 423
        }
      },
      "execution_count": null,
      "outputs": [
        {
          "output_type": "execute_result",
          "data": {
            "text/plain": [
              "     Housing_for_free  Housing_own  Housing_rent\n",
              "0                   0            1             0\n",
              "1                   0            1             0\n",
              "2                   0            1             0\n",
              "3                   1            0             0\n",
              "4                   1            0             0\n",
              "..                ...          ...           ...\n",
              "995                 0            1             0\n",
              "996                 0            1             0\n",
              "997                 0            1             0\n",
              "998                 1            0             0\n",
              "999                 0            1             0\n",
              "\n",
              "[1000 rows x 3 columns]"
            ],
            "text/html": [
              "\n",
              "  <div id=\"df-447e4169-89bf-405d-a066-746964308fc3\">\n",
              "    <div class=\"colab-df-container\">\n",
              "      <div>\n",
              "<style scoped>\n",
              "    .dataframe tbody tr th:only-of-type {\n",
              "        vertical-align: middle;\n",
              "    }\n",
              "\n",
              "    .dataframe tbody tr th {\n",
              "        vertical-align: top;\n",
              "    }\n",
              "\n",
              "    .dataframe thead th {\n",
              "        text-align: right;\n",
              "    }\n",
              "</style>\n",
              "<table border=\"1\" class=\"dataframe\">\n",
              "  <thead>\n",
              "    <tr style=\"text-align: right;\">\n",
              "      <th></th>\n",
              "      <th>Housing_for_free</th>\n",
              "      <th>Housing_own</th>\n",
              "      <th>Housing_rent</th>\n",
              "    </tr>\n",
              "  </thead>\n",
              "  <tbody>\n",
              "    <tr>\n",
              "      <th>0</th>\n",
              "      <td>0</td>\n",
              "      <td>1</td>\n",
              "      <td>0</td>\n",
              "    </tr>\n",
              "    <tr>\n",
              "      <th>1</th>\n",
              "      <td>0</td>\n",
              "      <td>1</td>\n",
              "      <td>0</td>\n",
              "    </tr>\n",
              "    <tr>\n",
              "      <th>2</th>\n",
              "      <td>0</td>\n",
              "      <td>1</td>\n",
              "      <td>0</td>\n",
              "    </tr>\n",
              "    <tr>\n",
              "      <th>3</th>\n",
              "      <td>1</td>\n",
              "      <td>0</td>\n",
              "      <td>0</td>\n",
              "    </tr>\n",
              "    <tr>\n",
              "      <th>4</th>\n",
              "      <td>1</td>\n",
              "      <td>0</td>\n",
              "      <td>0</td>\n",
              "    </tr>\n",
              "    <tr>\n",
              "      <th>...</th>\n",
              "      <td>...</td>\n",
              "      <td>...</td>\n",
              "      <td>...</td>\n",
              "    </tr>\n",
              "    <tr>\n",
              "      <th>995</th>\n",
              "      <td>0</td>\n",
              "      <td>1</td>\n",
              "      <td>0</td>\n",
              "    </tr>\n",
              "    <tr>\n",
              "      <th>996</th>\n",
              "      <td>0</td>\n",
              "      <td>1</td>\n",
              "      <td>0</td>\n",
              "    </tr>\n",
              "    <tr>\n",
              "      <th>997</th>\n",
              "      <td>0</td>\n",
              "      <td>1</td>\n",
              "      <td>0</td>\n",
              "    </tr>\n",
              "    <tr>\n",
              "      <th>998</th>\n",
              "      <td>1</td>\n",
              "      <td>0</td>\n",
              "      <td>0</td>\n",
              "    </tr>\n",
              "    <tr>\n",
              "      <th>999</th>\n",
              "      <td>0</td>\n",
              "      <td>1</td>\n",
              "      <td>0</td>\n",
              "    </tr>\n",
              "  </tbody>\n",
              "</table>\n",
              "<p>1000 rows × 3 columns</p>\n",
              "</div>\n",
              "      <button class=\"colab-df-convert\" onclick=\"convertToInteractive('df-447e4169-89bf-405d-a066-746964308fc3')\"\n",
              "              title=\"Convert this dataframe to an interactive table.\"\n",
              "              style=\"display:none;\">\n",
              "        \n",
              "  <svg xmlns=\"http://www.w3.org/2000/svg\" height=\"24px\"viewBox=\"0 0 24 24\"\n",
              "       width=\"24px\">\n",
              "    <path d=\"M0 0h24v24H0V0z\" fill=\"none\"/>\n",
              "    <path d=\"M18.56 5.44l.94 2.06.94-2.06 2.06-.94-2.06-.94-.94-2.06-.94 2.06-2.06.94zm-11 1L8.5 8.5l.94-2.06 2.06-.94-2.06-.94L8.5 2.5l-.94 2.06-2.06.94zm10 10l.94 2.06.94-2.06 2.06-.94-2.06-.94-.94-2.06-.94 2.06-2.06.94z\"/><path d=\"M17.41 7.96l-1.37-1.37c-.4-.4-.92-.59-1.43-.59-.52 0-1.04.2-1.43.59L10.3 9.45l-7.72 7.72c-.78.78-.78 2.05 0 2.83L4 21.41c.39.39.9.59 1.41.59.51 0 1.02-.2 1.41-.59l7.78-7.78 2.81-2.81c.8-.78.8-2.07 0-2.86zM5.41 20L4 18.59l7.72-7.72 1.47 1.35L5.41 20z\"/>\n",
              "  </svg>\n",
              "      </button>\n",
              "      \n",
              "  <style>\n",
              "    .colab-df-container {\n",
              "      display:flex;\n",
              "      flex-wrap:wrap;\n",
              "      gap: 12px;\n",
              "    }\n",
              "\n",
              "    .colab-df-convert {\n",
              "      background-color: #E8F0FE;\n",
              "      border: none;\n",
              "      border-radius: 50%;\n",
              "      cursor: pointer;\n",
              "      display: none;\n",
              "      fill: #1967D2;\n",
              "      height: 32px;\n",
              "      padding: 0 0 0 0;\n",
              "      width: 32px;\n",
              "    }\n",
              "\n",
              "    .colab-df-convert:hover {\n",
              "      background-color: #E2EBFA;\n",
              "      box-shadow: 0px 1px 2px rgba(60, 64, 67, 0.3), 0px 1px 3px 1px rgba(60, 64, 67, 0.15);\n",
              "      fill: #174EA6;\n",
              "    }\n",
              "\n",
              "    [theme=dark] .colab-df-convert {\n",
              "      background-color: #3B4455;\n",
              "      fill: #D2E3FC;\n",
              "    }\n",
              "\n",
              "    [theme=dark] .colab-df-convert:hover {\n",
              "      background-color: #434B5C;\n",
              "      box-shadow: 0px 1px 3px 1px rgba(0, 0, 0, 0.15);\n",
              "      filter: drop-shadow(0px 1px 2px rgba(0, 0, 0, 0.3));\n",
              "      fill: #FFFFFF;\n",
              "    }\n",
              "  </style>\n",
              "\n",
              "      <script>\n",
              "        const buttonEl =\n",
              "          document.querySelector('#df-447e4169-89bf-405d-a066-746964308fc3 button.colab-df-convert');\n",
              "        buttonEl.style.display =\n",
              "          google.colab.kernel.accessAllowed ? 'block' : 'none';\n",
              "\n",
              "        async function convertToInteractive(key) {\n",
              "          const element = document.querySelector('#df-447e4169-89bf-405d-a066-746964308fc3');\n",
              "          const dataTable =\n",
              "            await google.colab.kernel.invokeFunction('convertToInteractive',\n",
              "                                                     [key], {});\n",
              "          if (!dataTable) return;\n",
              "\n",
              "          const docLinkHtml = 'Like what you see? Visit the ' +\n",
              "            '<a target=\"_blank\" href=https://colab.research.google.com/notebooks/data_table.ipynb>data table notebook</a>'\n",
              "            + ' to learn more about interactive tables.';\n",
              "          element.innerHTML = '';\n",
              "          dataTable['output_type'] = 'display_data';\n",
              "          await google.colab.output.renderOutput(dataTable, element);\n",
              "          const docLink = document.createElement('div');\n",
              "          docLink.innerHTML = docLinkHtml;\n",
              "          element.appendChild(docLink);\n",
              "        }\n",
              "      </script>\n",
              "    </div>\n",
              "  </div>\n",
              "  "
            ]
          },
          "metadata": {},
          "execution_count": 28
        }
      ]
    },
    {
      "cell_type": "code",
      "source": [
        "df_ohe.replace({'Bad Risk': 0, 'Good Risk': 1}, inplace=True)"
      ],
      "metadata": {
        "id": "R07Xt5BNI6-D"
      },
      "execution_count": null,
      "outputs": []
    },
    {
      "cell_type": "code",
      "source": [
        "df.replace({'Bad Risk': 0, 'Good Risk': 1}, inplace=True)"
      ],
      "metadata": {
        "id": "TxS_WxpRl2S6"
      },
      "execution_count": null,
      "outputs": []
    },
    {
      "cell_type": "code",
      "source": [
        "df_ohe=df_ohe.join(pd.get_dummies(df.Housing, prefix='Housing'))\n"
      ],
      "metadata": {
        "id": "0cJtFNmWHQg7"
      },
      "execution_count": null,
      "outputs": []
    },
    {
      "cell_type": "code",
      "source": [
        "df_ohe.head()"
      ],
      "metadata": {
        "id": "5Li9bcZnKkQ4",
        "colab": {
          "base_uri": "https://localhost:8080/",
          "height": 426
        },
        "outputId": "fd207982-5f32-4f06-d45c-263246756c80"
      },
      "execution_count": null,
      "outputs": [
        {
          "output_type": "execute_result",
          "data": {
            "text/plain": [
              "   Sex  Duration   Housing  Cost_Matrix_Risk Status_checking_account  \\\n",
              "0    0         6       own                 1                   <0 DM   \n",
              "1    1        48       own                 0            0 <= <200 DM   \n",
              "2    0        12       own                 1     no checking account   \n",
              "3    0        42  for free                 1                   <0 DM   \n",
              "4    0        24  for free                 0                   <0 DM   \n",
              "\n",
              "                           Job  Age_Under25  Age_Under35  Age_Under45  \\\n",
              "0  skilled employee / official            0            0            0   \n",
              "1  skilled employee / official            1            0            0   \n",
              "2         unskilled - resident            0            0            0   \n",
              "3  skilled employee / official            0            0            1   \n",
              "4  skilled employee / official            0            0            0   \n",
              "\n",
              "   Age_Older  Housing_for_free  Housing_own  Housing_rent  \n",
              "0          1                 0            1             0  \n",
              "1          0                 0            1             0  \n",
              "2          1                 0            1             0  \n",
              "3          0                 1            0             0  \n",
              "4          1                 1            0             0  "
            ],
            "text/html": [
              "\n",
              "  <div id=\"df-29fd39fa-2276-44ed-8a74-3e1776bf0a59\">\n",
              "    <div class=\"colab-df-container\">\n",
              "      <div>\n",
              "<style scoped>\n",
              "    .dataframe tbody tr th:only-of-type {\n",
              "        vertical-align: middle;\n",
              "    }\n",
              "\n",
              "    .dataframe tbody tr th {\n",
              "        vertical-align: top;\n",
              "    }\n",
              "\n",
              "    .dataframe thead th {\n",
              "        text-align: right;\n",
              "    }\n",
              "</style>\n",
              "<table border=\"1\" class=\"dataframe\">\n",
              "  <thead>\n",
              "    <tr style=\"text-align: right;\">\n",
              "      <th></th>\n",
              "      <th>Sex</th>\n",
              "      <th>Duration</th>\n",
              "      <th>Housing</th>\n",
              "      <th>Cost_Matrix_Risk</th>\n",
              "      <th>Status_checking_account</th>\n",
              "      <th>Job</th>\n",
              "      <th>Age_Under25</th>\n",
              "      <th>Age_Under35</th>\n",
              "      <th>Age_Under45</th>\n",
              "      <th>Age_Older</th>\n",
              "      <th>Housing_for_free</th>\n",
              "      <th>Housing_own</th>\n",
              "      <th>Housing_rent</th>\n",
              "    </tr>\n",
              "  </thead>\n",
              "  <tbody>\n",
              "    <tr>\n",
              "      <th>0</th>\n",
              "      <td>0</td>\n",
              "      <td>6</td>\n",
              "      <td>own</td>\n",
              "      <td>1</td>\n",
              "      <td>&lt;0 DM</td>\n",
              "      <td>skilled employee / official</td>\n",
              "      <td>0</td>\n",
              "      <td>0</td>\n",
              "      <td>0</td>\n",
              "      <td>1</td>\n",
              "      <td>0</td>\n",
              "      <td>1</td>\n",
              "      <td>0</td>\n",
              "    </tr>\n",
              "    <tr>\n",
              "      <th>1</th>\n",
              "      <td>1</td>\n",
              "      <td>48</td>\n",
              "      <td>own</td>\n",
              "      <td>0</td>\n",
              "      <td>0 &lt;= &lt;200 DM</td>\n",
              "      <td>skilled employee / official</td>\n",
              "      <td>1</td>\n",
              "      <td>0</td>\n",
              "      <td>0</td>\n",
              "      <td>0</td>\n",
              "      <td>0</td>\n",
              "      <td>1</td>\n",
              "      <td>0</td>\n",
              "    </tr>\n",
              "    <tr>\n",
              "      <th>2</th>\n",
              "      <td>0</td>\n",
              "      <td>12</td>\n",
              "      <td>own</td>\n",
              "      <td>1</td>\n",
              "      <td>no checking account</td>\n",
              "      <td>unskilled - resident</td>\n",
              "      <td>0</td>\n",
              "      <td>0</td>\n",
              "      <td>0</td>\n",
              "      <td>1</td>\n",
              "      <td>0</td>\n",
              "      <td>1</td>\n",
              "      <td>0</td>\n",
              "    </tr>\n",
              "    <tr>\n",
              "      <th>3</th>\n",
              "      <td>0</td>\n",
              "      <td>42</td>\n",
              "      <td>for free</td>\n",
              "      <td>1</td>\n",
              "      <td>&lt;0 DM</td>\n",
              "      <td>skilled employee / official</td>\n",
              "      <td>0</td>\n",
              "      <td>0</td>\n",
              "      <td>1</td>\n",
              "      <td>0</td>\n",
              "      <td>1</td>\n",
              "      <td>0</td>\n",
              "      <td>0</td>\n",
              "    </tr>\n",
              "    <tr>\n",
              "      <th>4</th>\n",
              "      <td>0</td>\n",
              "      <td>24</td>\n",
              "      <td>for free</td>\n",
              "      <td>0</td>\n",
              "      <td>&lt;0 DM</td>\n",
              "      <td>skilled employee / official</td>\n",
              "      <td>0</td>\n",
              "      <td>0</td>\n",
              "      <td>0</td>\n",
              "      <td>1</td>\n",
              "      <td>1</td>\n",
              "      <td>0</td>\n",
              "      <td>0</td>\n",
              "    </tr>\n",
              "  </tbody>\n",
              "</table>\n",
              "</div>\n",
              "      <button class=\"colab-df-convert\" onclick=\"convertToInteractive('df-29fd39fa-2276-44ed-8a74-3e1776bf0a59')\"\n",
              "              title=\"Convert this dataframe to an interactive table.\"\n",
              "              style=\"display:none;\">\n",
              "        \n",
              "  <svg xmlns=\"http://www.w3.org/2000/svg\" height=\"24px\"viewBox=\"0 0 24 24\"\n",
              "       width=\"24px\">\n",
              "    <path d=\"M0 0h24v24H0V0z\" fill=\"none\"/>\n",
              "    <path d=\"M18.56 5.44l.94 2.06.94-2.06 2.06-.94-2.06-.94-.94-2.06-.94 2.06-2.06.94zm-11 1L8.5 8.5l.94-2.06 2.06-.94-2.06-.94L8.5 2.5l-.94 2.06-2.06.94zm10 10l.94 2.06.94-2.06 2.06-.94-2.06-.94-.94-2.06-.94 2.06-2.06.94z\"/><path d=\"M17.41 7.96l-1.37-1.37c-.4-.4-.92-.59-1.43-.59-.52 0-1.04.2-1.43.59L10.3 9.45l-7.72 7.72c-.78.78-.78 2.05 0 2.83L4 21.41c.39.39.9.59 1.41.59.51 0 1.02-.2 1.41-.59l7.78-7.78 2.81-2.81c.8-.78.8-2.07 0-2.86zM5.41 20L4 18.59l7.72-7.72 1.47 1.35L5.41 20z\"/>\n",
              "  </svg>\n",
              "      </button>\n",
              "      \n",
              "  <style>\n",
              "    .colab-df-container {\n",
              "      display:flex;\n",
              "      flex-wrap:wrap;\n",
              "      gap: 12px;\n",
              "    }\n",
              "\n",
              "    .colab-df-convert {\n",
              "      background-color: #E8F0FE;\n",
              "      border: none;\n",
              "      border-radius: 50%;\n",
              "      cursor: pointer;\n",
              "      display: none;\n",
              "      fill: #1967D2;\n",
              "      height: 32px;\n",
              "      padding: 0 0 0 0;\n",
              "      width: 32px;\n",
              "    }\n",
              "\n",
              "    .colab-df-convert:hover {\n",
              "      background-color: #E2EBFA;\n",
              "      box-shadow: 0px 1px 2px rgba(60, 64, 67, 0.3), 0px 1px 3px 1px rgba(60, 64, 67, 0.15);\n",
              "      fill: #174EA6;\n",
              "    }\n",
              "\n",
              "    [theme=dark] .colab-df-convert {\n",
              "      background-color: #3B4455;\n",
              "      fill: #D2E3FC;\n",
              "    }\n",
              "\n",
              "    [theme=dark] .colab-df-convert:hover {\n",
              "      background-color: #434B5C;\n",
              "      box-shadow: 0px 1px 3px 1px rgba(0, 0, 0, 0.15);\n",
              "      filter: drop-shadow(0px 1px 2px rgba(0, 0, 0, 0.3));\n",
              "      fill: #FFFFFF;\n",
              "    }\n",
              "  </style>\n",
              "\n",
              "      <script>\n",
              "        const buttonEl =\n",
              "          document.querySelector('#df-29fd39fa-2276-44ed-8a74-3e1776bf0a59 button.colab-df-convert');\n",
              "        buttonEl.style.display =\n",
              "          google.colab.kernel.accessAllowed ? 'block' : 'none';\n",
              "\n",
              "        async function convertToInteractive(key) {\n",
              "          const element = document.querySelector('#df-29fd39fa-2276-44ed-8a74-3e1776bf0a59');\n",
              "          const dataTable =\n",
              "            await google.colab.kernel.invokeFunction('convertToInteractive',\n",
              "                                                     [key], {});\n",
              "          if (!dataTable) return;\n",
              "\n",
              "          const docLinkHtml = 'Like what you see? Visit the ' +\n",
              "            '<a target=\"_blank\" href=https://colab.research.google.com/notebooks/data_table.ipynb>data table notebook</a>'\n",
              "            + ' to learn more about interactive tables.';\n",
              "          element.innerHTML = '';\n",
              "          dataTable['output_type'] = 'display_data';\n",
              "          await google.colab.output.renderOutput(dataTable, element);\n",
              "          const docLink = document.createElement('div');\n",
              "          docLink.innerHTML = docLinkHtml;\n",
              "          element.appendChild(docLink);\n",
              "        }\n",
              "      </script>\n",
              "    </div>\n",
              "  </div>\n",
              "  "
            ]
          },
          "metadata": {},
          "execution_count": 32
        }
      ]
    },
    {
      "cell_type": "code",
      "source": [
        "df_ohe.drop('Housing', inplace=True, axis=1)"
      ],
      "metadata": {
        "id": "5FzmjUwGJTSD"
      },
      "execution_count": null,
      "outputs": []
    },
    {
      "cell_type": "code",
      "source": [
        "df_ohe=df_ohe.join(pd.get_dummies(df_ohe.Status_checking_account, prefix='SCA'))"
      ],
      "metadata": {
        "id": "lU3rSQXvJYWP"
      },
      "execution_count": null,
      "outputs": []
    },
    {
      "cell_type": "code",
      "source": [
        "df_ohe.drop('Status_checking_account',inplace=True,axis=1)"
      ],
      "metadata": {
        "id": "-jGOnbeWJuFo"
      },
      "execution_count": null,
      "outputs": []
    },
    {
      "cell_type": "code",
      "source": [
        "df_ohe=df_ohe.join(pd.get_dummies(df_ohe.Job, prefix='Job'))"
      ],
      "metadata": {
        "id": "25CVbUDhJ1Vv"
      },
      "execution_count": null,
      "outputs": []
    },
    {
      "cell_type": "code",
      "source": [
        "df_ohe.drop('Job',inplace=True,axis=1)"
      ],
      "metadata": {
        "id": "vFZaORJ6KFLS"
      },
      "execution_count": null,
      "outputs": []
    },
    {
      "cell_type": "code",
      "source": [
        "df_ohe.head()"
      ],
      "metadata": {
        "id": "C1Jx498QKJ2Y",
        "colab": {
          "base_uri": "https://localhost:8080/",
          "height": 322
        },
        "outputId": "bd16800e-33aa-4d86-c550-0dadf65b2434"
      },
      "execution_count": null,
      "outputs": [
        {
          "output_type": "execute_result",
          "data": {
            "text/plain": [
              "   Sex  Duration  Cost_Matrix_Risk  Age_Under25  Age_Under35  Age_Under45  \\\n",
              "0    0         6                 1            0            0            0   \n",
              "1    1        48                 0            1            0            0   \n",
              "2    0        12                 1            0            0            0   \n",
              "3    0        42                 1            0            0            1   \n",
              "4    0        24                 0            0            0            0   \n",
              "\n",
              "   Age_Older  Housing_for_free  Housing_own  Housing_rent  SCA_0 <= <200 DM  \\\n",
              "0          1                 0            1             0                 0   \n",
              "1          0                 0            1             0                 1   \n",
              "2          1                 0            1             0                 0   \n",
              "3          0                 1            0             0                 0   \n",
              "4          1                 1            0             0                 0   \n",
              "\n",
              "   SCA_<0 DM  SCA_>= 200 DM   SCA_no checking account  \\\n",
              "0          1               0                        0   \n",
              "1          0               0                        0   \n",
              "2          0               0                        1   \n",
              "3          1               0                        0   \n",
              "4          1               0                        0   \n",
              "\n",
              "   Job_management/ highly qualified employee  Job_skilled employee / official  \\\n",
              "0                                          0                                1   \n",
              "1                                          0                                1   \n",
              "2                                          0                                0   \n",
              "3                                          0                                1   \n",
              "4                                          0                                1   \n",
              "\n",
              "   Job_unemployed/ unskilled  - non-resident  Job_unskilled - resident  \n",
              "0                                          0                         0  \n",
              "1                                          0                         0  \n",
              "2                                          0                         1  \n",
              "3                                          0                         0  \n",
              "4                                          0                         0  "
            ],
            "text/html": [
              "\n",
              "  <div id=\"df-af8e0a89-06e9-4034-b533-31781a23c17e\">\n",
              "    <div class=\"colab-df-container\">\n",
              "      <div>\n",
              "<style scoped>\n",
              "    .dataframe tbody tr th:only-of-type {\n",
              "        vertical-align: middle;\n",
              "    }\n",
              "\n",
              "    .dataframe tbody tr th {\n",
              "        vertical-align: top;\n",
              "    }\n",
              "\n",
              "    .dataframe thead th {\n",
              "        text-align: right;\n",
              "    }\n",
              "</style>\n",
              "<table border=\"1\" class=\"dataframe\">\n",
              "  <thead>\n",
              "    <tr style=\"text-align: right;\">\n",
              "      <th></th>\n",
              "      <th>Sex</th>\n",
              "      <th>Duration</th>\n",
              "      <th>Cost_Matrix_Risk</th>\n",
              "      <th>Age_Under25</th>\n",
              "      <th>Age_Under35</th>\n",
              "      <th>Age_Under45</th>\n",
              "      <th>Age_Older</th>\n",
              "      <th>Housing_for_free</th>\n",
              "      <th>Housing_own</th>\n",
              "      <th>Housing_rent</th>\n",
              "      <th>SCA_0 &lt;= &lt;200 DM</th>\n",
              "      <th>SCA_&lt;0 DM</th>\n",
              "      <th>SCA_&gt;= 200 DM</th>\n",
              "      <th>SCA_no checking account</th>\n",
              "      <th>Job_management/ highly qualified employee</th>\n",
              "      <th>Job_skilled employee / official</th>\n",
              "      <th>Job_unemployed/ unskilled  - non-resident</th>\n",
              "      <th>Job_unskilled - resident</th>\n",
              "    </tr>\n",
              "  </thead>\n",
              "  <tbody>\n",
              "    <tr>\n",
              "      <th>0</th>\n",
              "      <td>0</td>\n",
              "      <td>6</td>\n",
              "      <td>1</td>\n",
              "      <td>0</td>\n",
              "      <td>0</td>\n",
              "      <td>0</td>\n",
              "      <td>1</td>\n",
              "      <td>0</td>\n",
              "      <td>1</td>\n",
              "      <td>0</td>\n",
              "      <td>0</td>\n",
              "      <td>1</td>\n",
              "      <td>0</td>\n",
              "      <td>0</td>\n",
              "      <td>0</td>\n",
              "      <td>1</td>\n",
              "      <td>0</td>\n",
              "      <td>0</td>\n",
              "    </tr>\n",
              "    <tr>\n",
              "      <th>1</th>\n",
              "      <td>1</td>\n",
              "      <td>48</td>\n",
              "      <td>0</td>\n",
              "      <td>1</td>\n",
              "      <td>0</td>\n",
              "      <td>0</td>\n",
              "      <td>0</td>\n",
              "      <td>0</td>\n",
              "      <td>1</td>\n",
              "      <td>0</td>\n",
              "      <td>1</td>\n",
              "      <td>0</td>\n",
              "      <td>0</td>\n",
              "      <td>0</td>\n",
              "      <td>0</td>\n",
              "      <td>1</td>\n",
              "      <td>0</td>\n",
              "      <td>0</td>\n",
              "    </tr>\n",
              "    <tr>\n",
              "      <th>2</th>\n",
              "      <td>0</td>\n",
              "      <td>12</td>\n",
              "      <td>1</td>\n",
              "      <td>0</td>\n",
              "      <td>0</td>\n",
              "      <td>0</td>\n",
              "      <td>1</td>\n",
              "      <td>0</td>\n",
              "      <td>1</td>\n",
              "      <td>0</td>\n",
              "      <td>0</td>\n",
              "      <td>0</td>\n",
              "      <td>0</td>\n",
              "      <td>1</td>\n",
              "      <td>0</td>\n",
              "      <td>0</td>\n",
              "      <td>0</td>\n",
              "      <td>1</td>\n",
              "    </tr>\n",
              "    <tr>\n",
              "      <th>3</th>\n",
              "      <td>0</td>\n",
              "      <td>42</td>\n",
              "      <td>1</td>\n",
              "      <td>0</td>\n",
              "      <td>0</td>\n",
              "      <td>1</td>\n",
              "      <td>0</td>\n",
              "      <td>1</td>\n",
              "      <td>0</td>\n",
              "      <td>0</td>\n",
              "      <td>0</td>\n",
              "      <td>1</td>\n",
              "      <td>0</td>\n",
              "      <td>0</td>\n",
              "      <td>0</td>\n",
              "      <td>1</td>\n",
              "      <td>0</td>\n",
              "      <td>0</td>\n",
              "    </tr>\n",
              "    <tr>\n",
              "      <th>4</th>\n",
              "      <td>0</td>\n",
              "      <td>24</td>\n",
              "      <td>0</td>\n",
              "      <td>0</td>\n",
              "      <td>0</td>\n",
              "      <td>0</td>\n",
              "      <td>1</td>\n",
              "      <td>1</td>\n",
              "      <td>0</td>\n",
              "      <td>0</td>\n",
              "      <td>0</td>\n",
              "      <td>1</td>\n",
              "      <td>0</td>\n",
              "      <td>0</td>\n",
              "      <td>0</td>\n",
              "      <td>1</td>\n",
              "      <td>0</td>\n",
              "      <td>0</td>\n",
              "    </tr>\n",
              "  </tbody>\n",
              "</table>\n",
              "</div>\n",
              "      <button class=\"colab-df-convert\" onclick=\"convertToInteractive('df-af8e0a89-06e9-4034-b533-31781a23c17e')\"\n",
              "              title=\"Convert this dataframe to an interactive table.\"\n",
              "              style=\"display:none;\">\n",
              "        \n",
              "  <svg xmlns=\"http://www.w3.org/2000/svg\" height=\"24px\"viewBox=\"0 0 24 24\"\n",
              "       width=\"24px\">\n",
              "    <path d=\"M0 0h24v24H0V0z\" fill=\"none\"/>\n",
              "    <path d=\"M18.56 5.44l.94 2.06.94-2.06 2.06-.94-2.06-.94-.94-2.06-.94 2.06-2.06.94zm-11 1L8.5 8.5l.94-2.06 2.06-.94-2.06-.94L8.5 2.5l-.94 2.06-2.06.94zm10 10l.94 2.06.94-2.06 2.06-.94-2.06-.94-.94-2.06-.94 2.06-2.06.94z\"/><path d=\"M17.41 7.96l-1.37-1.37c-.4-.4-.92-.59-1.43-.59-.52 0-1.04.2-1.43.59L10.3 9.45l-7.72 7.72c-.78.78-.78 2.05 0 2.83L4 21.41c.39.39.9.59 1.41.59.51 0 1.02-.2 1.41-.59l7.78-7.78 2.81-2.81c.8-.78.8-2.07 0-2.86zM5.41 20L4 18.59l7.72-7.72 1.47 1.35L5.41 20z\"/>\n",
              "  </svg>\n",
              "      </button>\n",
              "      \n",
              "  <style>\n",
              "    .colab-df-container {\n",
              "      display:flex;\n",
              "      flex-wrap:wrap;\n",
              "      gap: 12px;\n",
              "    }\n",
              "\n",
              "    .colab-df-convert {\n",
              "      background-color: #E8F0FE;\n",
              "      border: none;\n",
              "      border-radius: 50%;\n",
              "      cursor: pointer;\n",
              "      display: none;\n",
              "      fill: #1967D2;\n",
              "      height: 32px;\n",
              "      padding: 0 0 0 0;\n",
              "      width: 32px;\n",
              "    }\n",
              "\n",
              "    .colab-df-convert:hover {\n",
              "      background-color: #E2EBFA;\n",
              "      box-shadow: 0px 1px 2px rgba(60, 64, 67, 0.3), 0px 1px 3px 1px rgba(60, 64, 67, 0.15);\n",
              "      fill: #174EA6;\n",
              "    }\n",
              "\n",
              "    [theme=dark] .colab-df-convert {\n",
              "      background-color: #3B4455;\n",
              "      fill: #D2E3FC;\n",
              "    }\n",
              "\n",
              "    [theme=dark] .colab-df-convert:hover {\n",
              "      background-color: #434B5C;\n",
              "      box-shadow: 0px 1px 3px 1px rgba(0, 0, 0, 0.15);\n",
              "      filter: drop-shadow(0px 1px 2px rgba(0, 0, 0, 0.3));\n",
              "      fill: #FFFFFF;\n",
              "    }\n",
              "  </style>\n",
              "\n",
              "      <script>\n",
              "        const buttonEl =\n",
              "          document.querySelector('#df-af8e0a89-06e9-4034-b533-31781a23c17e button.colab-df-convert');\n",
              "        buttonEl.style.display =\n",
              "          google.colab.kernel.accessAllowed ? 'block' : 'none';\n",
              "\n",
              "        async function convertToInteractive(key) {\n",
              "          const element = document.querySelector('#df-af8e0a89-06e9-4034-b533-31781a23c17e');\n",
              "          const dataTable =\n",
              "            await google.colab.kernel.invokeFunction('convertToInteractive',\n",
              "                                                     [key], {});\n",
              "          if (!dataTable) return;\n",
              "\n",
              "          const docLinkHtml = 'Like what you see? Visit the ' +\n",
              "            '<a target=\"_blank\" href=https://colab.research.google.com/notebooks/data_table.ipynb>data table notebook</a>'\n",
              "            + ' to learn more about interactive tables.';\n",
              "          element.innerHTML = '';\n",
              "          dataTable['output_type'] = 'display_data';\n",
              "          await google.colab.output.renderOutput(dataTable, element);\n",
              "          const docLink = document.createElement('div');\n",
              "          docLink.innerHTML = docLinkHtml;\n",
              "          element.appendChild(docLink);\n",
              "        }\n",
              "      </script>\n",
              "    </div>\n",
              "  </div>\n",
              "  "
            ]
          },
          "metadata": {},
          "execution_count": 38
        }
      ]
    },
    {
      "cell_type": "code",
      "source": [
        "df_ohe.Cost_Risk_Matrix=df_ohe.Cost_Matrix_Risk.astype(int)"
      ],
      "metadata": {
        "id": "tgSj6UMgMdQe",
        "colab": {
          "base_uri": "https://localhost:8080/"
        },
        "outputId": "d9ce8ee3-cd6b-46a9-f55d-039c2f93d35e"
      },
      "execution_count": null,
      "outputs": [
        {
          "output_type": "stream",
          "name": "stderr",
          "text": [
            "/usr/local/lib/python3.7/dist-packages/ipykernel_launcher.py:1: UserWarning: Pandas doesn't allow columns to be created via a new attribute name - see https://pandas.pydata.org/pandas-docs/stable/indexing.html#attribute-access\n",
            "  \"\"\"Entry point for launching an IPython kernel.\n"
          ]
        }
      ]
    },
    {
      "cell_type": "code",
      "source": [
        "#correlation between numerical and hot-encoded variables.. hard to see anything here\n",
        "fig, ax = plt.subplots(figsize=(10,10))\n",
        "sns.set(font_scale=0.7) \n",
        "sns.heatmap(df_ohe.corr(),annot=True ,fmt=\".2f\", cmap=\"coolwarm\", ax=ax);"
      ],
      "metadata": {
        "colab": {
          "base_uri": "https://localhost:8080/",
          "height": 808
        },
        "id": "ZFBSJmwy1NJi",
        "outputId": "b84acb58-57fd-4835-bcad-f9cf10394a1d"
      },
      "execution_count": null,
      "outputs": [
        {
          "output_type": "display_data",
          "data": {
            "text/plain": [
              "<Figure size 720x720 with 2 Axes>"
            ],
            "image/png": "[encoded data removed]"
          },
          "metadata": {
            "needs_background": "light"
          }
        }
      ]
    },
    {
      "cell_type": "code",
      "source": [
        "#top ten highest correlated variables, it's absolute values, so hot-encoded variables which anti-correlate show up\n",
        "corr=df_ohe.corr()\n",
        "corr_unstacked = corr.unstack().abs()\n",
        "ranked_corr = corr_unstacked.sort_values(kind=\"quicksort\", ascending=False)\n",
        "ranked_corr = ranked_corr[ranked_corr != 1]\n",
        "ranked_corr.head(20)"
      ],
      "metadata": {
        "colab": {
          "base_uri": "https://localhost:8080/"
        },
        "id": "vi90m8QN1V_z",
        "outputId": "7b1a0954-9add-457b-80e5-3ec9464296ad"
      },
      "execution_count": null,
      "outputs": [
        {
          "output_type": "execute_result",
          "data": {
            "text/plain": [
              "Housing_own                                Housing_rent                                 0.735968\n",
              "Housing_rent                               Housing_own                                  0.735968\n",
              "Job_unskilled - resident                   Job_skilled employee / official              0.652438\n",
              "Job_skilled employee / official            Job_unskilled - resident                     0.652438\n",
              "Housing_for_free                           Housing_own                                  0.548445\n",
              "Housing_own                                Housing_for_free                             0.548445\n",
              "Job_skilled employee / official            Job_management/ highly qualified employee    0.543852\n",
              "Job_management/ highly qualified employee  Job_skilled employee / official              0.543852\n",
              "SCA_no checking account                    SCA_<0 DM                                    0.495358\n",
              "SCA_<0 DM                                  SCA_no checking account                      0.495358\n",
              "SCA_no checking account                    SCA_0 <= <200 DM                             0.489136\n",
              "SCA_0 <= <200 DM                           SCA_no checking account                      0.489136\n",
              "Age_Under35                                Age_Under45                                  0.439367\n",
              "Age_Under45                                Age_Under35                                  0.439367\n",
              "Age_Under35                                Age_Under25                                  0.393802\n",
              "Age_Under25                                Age_Under35                                  0.393802\n",
              "Age_Under35                                Age_Older                                    0.388676\n",
              "Age_Older                                  Age_Under35                                  0.388676\n",
              "SCA_0 <= <200 DM                           SCA_<0 DM                                    0.372670\n",
              "SCA_<0 DM                                  SCA_0 <= <200 DM                             0.372670\n",
              "dtype: float64"
            ]
          },
          "metadata": {},
          "execution_count": 41
        }
      ]
    },
    {
      "cell_type": "code",
      "source": [
        ""
      ],
      "metadata": {
        "id": "3JPSD9sOAWuO"
      },
      "execution_count": null,
      "outputs": []
    },
    {
      "cell_type": "markdown",
      "source": [
        "## Logistic regression\n",
        "\n"
      ],
      "metadata": {
        "id": "5vhUKQihAXT9"
      }
    },
    {
      "cell_type": "code",
      "source": [
        "#Setting up the model training infrastructure.\n",
        "np.random.seed(31415) \n",
        "from sklearn.model_selection import train_test_split\n",
        "from sklearn.linear_model import LogisticRegression\n",
        "from sklearn.utils import check_random_state as sd\n",
        "\n",
        "train,test = train_test_split(df_ohe,test_size = 0.25,random_state=5)\n",
        "\n",
        "X_train = train.loc[:, train.columns != 'Cost_Matrix_Risk']\n",
        "X_test = test.loc[:, test.columns != 'Cost_Matrix_Risk']\n",
        "y_train = train['Cost_Matrix_Risk']\n",
        "y_test = test['Cost_Matrix_Risk']\n",
        "\n",
        "from sklearn.pipeline import make_pipeline\n",
        "from sklearn.preprocessing import StandardScaler\n",
        "\n",
        "#pipe = make_pipeline(StandardScaler(), LogisticRegression(solver='liblinear'))\n",
        "#pipe.fit(X_train, y_train)\n",
        "\n",
        "clf=LogisticRegression(random_state=5,solver='liblinear')\n",
        "clf.fit(X_train, y_train)"
      ],
      "metadata": {
        "colab": {
          "base_uri": "https://localhost:8080/"
        },
        "id": "HhuMObAo5Sda",
        "outputId": "9cd667f7-4926-487a-91f5-0da2c1987ac8"
      },
      "execution_count": null,
      "outputs": [
        {
          "output_type": "execute_result",
          "data": {
            "text/plain": [
              "LogisticRegression(random_state=5, solver='liblinear')"
            ]
          },
          "metadata": {},
          "execution_count": 42
        }
      ]
    },
    {
      "cell_type": "markdown",
      "source": [
        "##above there is a trained model, below we get scores and manually implement the fairness metrics."
      ],
      "metadata": {
        "id": "XIX_xAhsNXkk"
      }
    },
    {
      "cell_type": "code",
      "source": [
        "# predict \n",
        "y_pred=clf.predict(X_test)"
      ],
      "metadata": {
        "id": "1cjqDldLK-Qh"
      },
      "execution_count": null,
      "outputs": []
    },
    {
      "cell_type": "code",
      "source": [
        "# get metrics \n",
        "from sklearn.metrics import confusion_matrix\n",
        "cm=confusion_matrix(y_test, y_pred)\n",
        "tn, fp, fn, tp =cm.ravel()\n"
      ],
      "metadata": {
        "id": "OvsizEIuzfxE"
      },
      "execution_count": null,
      "outputs": []
    },
    {
      "cell_type": "code",
      "source": [
        "import seaborn as sn \n",
        "df_cm = pd.DataFrame(cm, [\"Bad Risk\",\"Good Risk\"], [\"Bad Risk\",\"Good Risk\"]) \n",
        "sn.set(font_scale=1.4) \n",
        "sn.heatmap(df_cm, annot=True, fmt='d', cmap=\"YlGnBu\");\n"
      ],
      "metadata": {
        "colab": {
          "base_uri": "https://localhost:8080/",
          "height": 273
        },
        "id": "1ZiSczt4FnEc",
        "outputId": "75a64ffd-591b-4ef3-bb9b-d6b37d68e6b2"
      },
      "execution_count": null,
      "outputs": [
        {
          "output_type": "display_data",
          "data": {
            "text/plain": [
              "<Figure size 432x288 with 2 Axes>"
            ],
            "image/png": "[encoded data removed]"
          },
          "metadata": {}
        }
      ]
    },
    {
      "cell_type": "code",
      "source": [
        "from sklearn import metrics\n",
        "print(metrics.classification_report(y_test, clf.predict(X_test)))"
      ],
      "metadata": {
        "id": "koQgzAjvUv5d",
        "colab": {
          "base_uri": "https://localhost:8080/"
        },
        "outputId": "1f4c3080-a21e-4df0-8c45-93f8c19add7a"
      },
      "execution_count": null,
      "outputs": [
        {
          "output_type": "stream",
          "name": "stdout",
          "text": [
            "              precision    recall  f1-score   support\n",
            "\n",
            "           0       0.46      0.33      0.38        70\n",
            "           1       0.77      0.85      0.81       180\n",
            "\n",
            "    accuracy                           0.70       250\n",
            "   macro avg       0.61      0.59      0.59       250\n",
            "weighted avg       0.68      0.70      0.69       250\n",
            "\n"
          ]
        }
      ]
    },
    {
      "cell_type": "markdown",
      "source": [
        "Changing the age into bins flipped two from tn to something else. Very nice for all that work :("
      ],
      "metadata": {
        "id": "VdW5NkwTUcYw"
      }
    },
    {
      "cell_type": "code",
      "source": [
        "# check fairness of your algorithm\n",
        "#1. TPR and FPR--> equalized odds\n",
        "y_pred_male = clf.predict(X_test[X_test.Sex==0])\n",
        "y_pred_female =clf.predict(X_test[X_test.Sex==1])\n",
        "y_test_male = test[test.Sex==0].Cost_Matrix_Risk\n",
        "y_test_female = test[test.Sex==1].Cost_Matrix_Risk\n",
        "\n",
        "cm_male = confusion_matrix(y_test_male, y_pred_male)\n",
        "tn_m, fp_m, fn_m, tp_m =cm_male.ravel()\n",
        "\n",
        "cm_female = confusion_matrix(y_test_female, y_pred_female)\n",
        "tn_f, fp_f, fn_f, tp_f =cm_female.ravel()\n",
        "\n",
        "tpr_male = tp_m/(tp_m+fn_m)\n",
        "fpr_male = fp_m/(tn_m+fp_m)\n",
        "tpr_female = tp_f/(tp_f+fn_f)\n",
        "fpr_female = fp_f/(tn_f+fp_f)\n",
        "\n",
        "print(tpr_male,tpr_female)\n",
        "print(fpr_male,fpr_female)\n",
        "\n",
        "\n",
        "#2. Group fairness --> equal assigment to group credit for protected/unprotected\n",
        "#Doesn't use the test truth, just the test predictions - simple counts.\n",
        "\n",
        "print(sum(y_pred_male)/len(y_pred_male),sum(y_pred_female)/len(y_pred_female))\n",
        "\n",
        "#-- Treatment equality FPR/FNR for each group\n",
        "#3. Overall accuracy equality\n",
        "\n",
        "acc_male = (tp_m+tn_m) / (tp_m+tn_m+fp_m+fn_m)\n",
        "acc_female = (tp_f+tn_f) / (tp_f+tn_f+fp_f+fn_f)\n",
        "\n",
        "print(acc_male,acc_female)\n",
        "\n",
        "#Conclusion, we're unfair to women in this model."
      ],
      "metadata": {
        "id": "WxFESRfgvzmY",
        "colab": {
          "base_uri": "https://localhost:8080/"
        },
        "outputId": "a4213887-36ef-4347-b7ec-859c8ba056cb"
      },
      "execution_count": null,
      "outputs": [
        {
          "output_type": "stream",
          "name": "stdout",
          "text": [
            "0.888 0.7636363636363637\n",
            "0.7555555555555555 0.52\n",
            "0.8529411764705882 0.6875\n",
            "0.7176470588235294 0.675\n"
          ]
        }
      ]
    },
    {
      "cell_type": "code",
      "source": [
        "male_score = [tpr_male,fpr_male,sum(y_pred_male)/len(y_pred_male),acc_male]\n",
        "female_score = [tpr_female,fpr_female,sum(y_pred_female)/len(y_pred_female),acc_female]\n",
        "\n",
        "fairness_score_df = pd.DataFrame(male_score)\n",
        "fairness_score_df['1']=pd.Series(female_score)\n"
      ],
      "metadata": {
        "id": "nbbMgX4lawc5"
      },
      "execution_count": null,
      "outputs": []
    },
    {
      "cell_type": "code",
      "source": [
        "fairness_score_df.columns = ['male_score', 'female_score']\n",
        "fairness_score_df.index=['tpr','fpr','predicted probability','accuracy']"
      ],
      "metadata": {
        "id": "d_OjKXXrbcRA"
      },
      "execution_count": null,
      "outputs": []
    },
    {
      "cell_type": "code",
      "source": [
        "fairness_score_df"
      ],
      "metadata": {
        "id": "tzP9u8Nwb8bJ",
        "outputId": "a5b3add3-ad31-44cc-a7a1-1e16149528a2",
        "colab": {
          "base_uri": "https://localhost:8080/",
          "height": 175
        }
      },
      "execution_count": null,
      "outputs": [
        {
          "output_type": "execute_result",
          "data": {
            "text/plain": [
              "                       male_score  female_score\n",
              "tpr                      0.888000      0.763636\n",
              "fpr                      0.755556      0.520000\n",
              "predicted probability    0.852941      0.687500\n",
              "accuracy                 0.717647      0.675000"
            ],
            "text/html": [
              "\n",
              "  <div id=\"df-bf345fdd-c435-42d1-8d0a-5d09dee4a195\">\n",
              "    <div class=\"colab-df-container\">\n",
              "      <div>\n",
              "<style scoped>\n",
              "    .dataframe tbody tr th:only-of-type {\n",
              "        vertical-align: middle;\n",
              "    }\n",
              "\n",
              "    .dataframe tbody tr th {\n",
              "        vertical-align: top;\n",
              "    }\n",
              "\n",
              "    .dataframe thead th {\n",
              "        text-align: right;\n",
              "    }\n",
              "</style>\n",
              "<table border=\"1\" class=\"dataframe\">\n",
              "  <thead>\n",
              "    <tr style=\"text-align: right;\">\n",
              "      <th></th>\n",
              "      <th>male_score</th>\n",
              "      <th>female_score</th>\n",
              "    </tr>\n",
              "  </thead>\n",
              "  <tbody>\n",
              "    <tr>\n",
              "      <th>tpr</th>\n",
              "      <td>0.888000</td>\n",
              "      <td>0.763636</td>\n",
              "    </tr>\n",
              "    <tr>\n",
              "      <th>fpr</th>\n",
              "      <td>0.755556</td>\n",
              "      <td>0.520000</td>\n",
              "    </tr>\n",
              "    <tr>\n",
              "      <th>predicted probability</th>\n",
              "      <td>0.852941</td>\n",
              "      <td>0.687500</td>\n",
              "    </tr>\n",
              "    <tr>\n",
              "      <th>accuracy</th>\n",
              "      <td>0.717647</td>\n",
              "      <td>0.675000</td>\n",
              "    </tr>\n",
              "  </tbody>\n",
              "</table>\n",
              "</div>\n",
              "      <button class=\"colab-df-convert\" onclick=\"convertToInteractive('df-bf345fdd-c435-42d1-8d0a-5d09dee4a195')\"\n",
              "              title=\"Convert this dataframe to an interactive table.\"\n",
              "              style=\"display:none;\">\n",
              "        \n",
              "  <svg xmlns=\"http://www.w3.org/2000/svg\" height=\"24px\"viewBox=\"0 0 24 24\"\n",
              "       width=\"24px\">\n",
              "    <path d=\"M0 0h24v24H0V0z\" fill=\"none\"/>\n",
              "    <path d=\"M18.56 5.44l.94 2.06.94-2.06 2.06-.94-2.06-.94-.94-2.06-.94 2.06-2.06.94zm-11 1L8.5 8.5l.94-2.06 2.06-.94-2.06-.94L8.5 2.5l-.94 2.06-2.06.94zm10 10l.94 2.06.94-2.06 2.06-.94-2.06-.94-.94-2.06-.94 2.06-2.06.94z\"/><path d=\"M17.41 7.96l-1.37-1.37c-.4-.4-.92-.59-1.43-.59-.52 0-1.04.2-1.43.59L10.3 9.45l-7.72 7.72c-.78.78-.78 2.05 0 2.83L4 21.41c.39.39.9.59 1.41.59.51 0 1.02-.2 1.41-.59l7.78-7.78 2.81-2.81c.8-.78.8-2.07 0-2.86zM5.41 20L4 18.59l7.72-7.72 1.47 1.35L5.41 20z\"/>\n",
              "  </svg>\n",
              "      </button>\n",
              "      \n",
              "  <style>\n",
              "    .colab-df-container {\n",
              "      display:flex;\n",
              "      flex-wrap:wrap;\n",
              "      gap: 12px;\n",
              "    }\n",
              "\n",
              "    .colab-df-convert {\n",
              "      background-color: #E8F0FE;\n",
              "      border: none;\n",
              "      border-radius: 50%;\n",
              "      cursor: pointer;\n",
              "      display: none;\n",
              "      fill: #1967D2;\n",
              "      height: 32px;\n",
              "      padding: 0 0 0 0;\n",
              "      width: 32px;\n",
              "    }\n",
              "\n",
              "    .colab-df-convert:hover {\n",
              "      background-color: #E2EBFA;\n",
              "      box-shadow: 0px 1px 2px rgba(60, 64, 67, 0.3), 0px 1px 3px 1px rgba(60, 64, 67, 0.15);\n",
              "      fill: #174EA6;\n",
              "    }\n",
              "\n",
              "    [theme=dark] .colab-df-convert {\n",
              "      background-color: #3B4455;\n",
              "      fill: #D2E3FC;\n",
              "    }\n",
              "\n",
              "    [theme=dark] .colab-df-convert:hover {\n",
              "      background-color: #434B5C;\n",
              "      box-shadow: 0px 1px 3px 1px rgba(0, 0, 0, 0.15);\n",
              "      filter: drop-shadow(0px 1px 2px rgba(0, 0, 0, 0.3));\n",
              "      fill: #FFFFFF;\n",
              "    }\n",
              "  </style>\n",
              "\n",
              "      <script>\n",
              "        const buttonEl =\n",
              "          document.querySelector('#df-bf345fdd-c435-42d1-8d0a-5d09dee4a195 button.colab-df-convert');\n",
              "        buttonEl.style.display =\n",
              "          google.colab.kernel.accessAllowed ? 'block' : 'none';\n",
              "\n",
              "        async function convertToInteractive(key) {\n",
              "          const element = document.querySelector('#df-bf345fdd-c435-42d1-8d0a-5d09dee4a195');\n",
              "          const dataTable =\n",
              "            await google.colab.kernel.invokeFunction('convertToInteractive',\n",
              "                                                     [key], {});\n",
              "          if (!dataTable) return;\n",
              "\n",
              "          const docLinkHtml = 'Like what you see? Visit the ' +\n",
              "            '<a target=\"_blank\" href=https://colab.research.google.com/notebooks/data_table.ipynb>data table notebook</a>'\n",
              "            + ' to learn more about interactive tables.';\n",
              "          element.innerHTML = '';\n",
              "          dataTable['output_type'] = 'display_data';\n",
              "          await google.colab.output.renderOutput(dataTable, element);\n",
              "          const docLink = document.createElement('div');\n",
              "          docLink.innerHTML = docLinkHtml;\n",
              "          element.appendChild(docLink);\n",
              "        }\n",
              "      </script>\n",
              "    </div>\n",
              "  </div>\n",
              "  "
            ]
          },
          "metadata": {},
          "execution_count": 50
        }
      ]
    },
    {
      "cell_type": "code",
      "source": [
        "original_variables = X_train.columns\n",
        "model_coefficients = clf.coef_[0]\n",
        "odds = np.exp(clf.coef_[0])\n",
        "\n",
        "coefficient_df = pd.DataFrame({\"Variable\" : original_variables, \"Coefficient\": model_coefficients, \"Odds\": odds})\n",
        "coefficient_df.sort_values(by=['Odds'], inplace=True)\n",
        "print(coefficient_df)"
      ],
      "metadata": {
        "colab": {
          "base_uri": "https://localhost:8080/"
        },
        "id": "tB8an3P7WJT3",
        "outputId": "04c0dc1e-33cc-4fd4-eb89-6dc0973c9e72"
      },
      "execution_count": null,
      "outputs": [
        {
          "output_type": "stream",
          "name": "stdout",
          "text": [
            "                                     Variable  Coefficient      Odds\n",
            "10                                  SCA_<0 DM    -0.773062  0.461598\n",
            "0                                         Sex    -0.412633  0.661905\n",
            "9                            SCA_0 <= <200 DM    -0.112948  0.893197\n",
            "1                                    Duration    -0.040741  0.960078\n",
            "16                   Job_unskilled - resident     0.043662  1.044629\n",
            "2                                 Age_Under25     0.058568  1.060317\n",
            "13  Job_management/ highly qualified employee     0.091277  1.095572\n",
            "6                            Housing_for_free     0.114332  1.121124\n",
            "8                                Housing_rent     0.121506  1.129196\n",
            "3                                 Age_Under35     0.151336  1.163387\n",
            "14            Job_skilled employee / official     0.182236  1.199897\n",
            "4                                 Age_Under45     0.303117  1.354072\n",
            "5                                   Age_Older     0.360308  1.433770\n",
            "11                             SCA_>= 200 DM      0.441442  1.554948\n",
            "15  Job_unemployed/ unskilled  - non-resident     0.556154  1.743952\n",
            "7                                 Housing_own     0.637490  1.891727\n",
            "12                    SCA_no checking account     1.317896  3.735554\n"
          ]
        }
      ]
    },
    {
      "cell_type": "code",
      "source": [
        "df.hist(column='Cost_Matrix_Risk', by='Status_checking_account');"
      ],
      "metadata": {
        "colab": {
          "base_uri": "https://localhost:8080/",
          "height": 301
        },
        "id": "k1wKNqwmXBGt",
        "outputId": "b3afe731-31e2-460e-e1db-d6ae4f179598"
      },
      "execution_count": null,
      "outputs": [
        {
          "output_type": "display_data",
          "data": {
            "text/plain": [
              "<Figure size 432x288 with 4 Axes>"
            ],
            "image/png": "[encoded data removed]"
          },
          "metadata": {}
        }
      ]
    },
    {
      "cell_type": "markdown",
      "source": [
        "## Using aif360 to get fairness metrics and to try different methods for debiasing\n",
        "\n",
        "Besides de aif360 IBM tutorials and documentation, we followed some parts of [this](https://towardsdatascience.com/tutorial-breaking-myths-about-ai-fairness-the-case-of-biased-automated-recruitment-9ee9b2ecc3a) tutorial to get things to work using our own pandas dataframe  "
      ],
      "metadata": {
        "id": "LyQ5Fcz8GvP0"
      }
    },
    {
      "cell_type": "code",
      "source": [
        "#!pip install aif360"
      ],
      "metadata": {
        "id": "BwIonKuoxiCw",
        "colab": {
          "base_uri": "https://localhost:8080/"
        },
        "outputId": "a792478e-fcb0-41aa-e198-64e683951b9d"
      },
      "execution_count": null,
      "outputs": [
        {
          "output_type": "stream",
          "name": "stdout",
          "text": [
            "Collecting aif360\n",
            "  Downloading aif360-0.4.0-py3-none-any.whl (175 kB)\n",
            "\u001b[?25l\r\u001b[K     |█▉                              | 10 kB 18.1 MB/s eta 0:00:01\r\u001b[K     |███▊                            | 20 kB 20.0 MB/s eta 0:00:01\r\u001b[K     |█████▋                          | 30 kB 7.2 MB/s eta 0:00:01\r\u001b[K     |███████▌                        | 40 kB 7.9 MB/s eta 0:00:01\r\u001b[K     |█████████▍                      | 51 kB 7.2 MB/s eta 0:00:01\r\u001b[K     |███████████▎                    | 61 kB 8.4 MB/s eta 0:00:01\r\u001b[K     |█████████████                   | 71 kB 7.2 MB/s eta 0:00:01\r\u001b[K     |███████████████                 | 81 kB 5.6 MB/s eta 0:00:01\r\u001b[K     |████████████████▉               | 92 kB 6.2 MB/s eta 0:00:01\r\u001b[K     |██████████████████▊             | 102 kB 6.8 MB/s eta 0:00:01\r\u001b[K     |████████████████████▋           | 112 kB 6.8 MB/s eta 0:00:01\r\u001b[K     |██████████████████████▌         | 122 kB 6.8 MB/s eta 0:00:01\r\u001b[K     |████████████████████████▎       | 133 kB 6.8 MB/s eta 0:00:01\r\u001b[K     |██████████████████████████▏     | 143 kB 6.8 MB/s eta 0:00:01\r\u001b[K     |████████████████████████████    | 153 kB 6.8 MB/s eta 0:00:01\r\u001b[K     |██████████████████████████████  | 163 kB 6.8 MB/s eta 0:00:01\r\u001b[K     |███████████████████████████████▉| 174 kB 6.8 MB/s eta 0:00:01\r\u001b[K     |████████████████████████████████| 175 kB 6.8 MB/s \n",
            "\u001b[?25hRequirement already satisfied: scikit-learn>=0.22.1 in /usr/local/lib/python3.7/dist-packages (from aif360) (1.0.2)\n",
            "Requirement already satisfied: matplotlib in /usr/local/lib/python3.7/dist-packages (from aif360) (3.2.2)\n",
            "Collecting tempeh\n",
            "  Downloading tempeh-0.1.12-py3-none-any.whl (39 kB)\n",
            "Requirement already satisfied: pandas>=0.24.0 in /usr/local/lib/python3.7/dist-packages (from aif360) (1.3.5)\n",
            "Requirement already satisfied: numpy>=1.16 in /usr/local/lib/python3.7/dist-packages (from aif360) (1.21.5)\n",
            "Requirement already satisfied: scipy<1.6.0,>=1.2.0 in /usr/local/lib/python3.7/dist-packages (from aif360) (1.4.1)\n",
            "Requirement already satisfied: python-dateutil>=2.7.3 in /usr/local/lib/python3.7/dist-packages (from pandas>=0.24.0->aif360) (2.8.2)\n",
            "Requirement already satisfied: pytz>=2017.3 in /usr/local/lib/python3.7/dist-packages (from pandas>=0.24.0->aif360) (2018.9)\n",
            "Requirement already satisfied: six>=1.5 in /usr/local/lib/python3.7/dist-packages (from python-dateutil>=2.7.3->pandas>=0.24.0->aif360) (1.15.0)\n",
            "Requirement already satisfied: joblib>=0.11 in /usr/local/lib/python3.7/dist-packages (from scikit-learn>=0.22.1->aif360) (1.1.0)\n",
            "Requirement already satisfied: threadpoolctl>=2.0.0 in /usr/local/lib/python3.7/dist-packages (from scikit-learn>=0.22.1->aif360) (3.1.0)\n",
            "Requirement already satisfied: pyparsing!=2.0.4,!=2.1.2,!=2.1.6,>=2.0.1 in /usr/local/lib/python3.7/dist-packages (from matplotlib->aif360) (3.0.7)\n",
            "Requirement already satisfied: kiwisolver>=1.0.1 in /usr/local/lib/python3.7/dist-packages (from matplotlib->aif360) (1.3.2)\n",
            "Requirement already satisfied: cycler>=0.10 in /usr/local/lib/python3.7/dist-packages (from matplotlib->aif360) (0.11.0)\n",
            "Collecting memory-profiler\n",
            "  Downloading memory_profiler-0.60.0.tar.gz (38 kB)\n",
            "Collecting shap\n",
            "  Downloading shap-0.40.0-cp37-cp37m-manylinux2010_x86_64.whl (564 kB)\n",
            "\u001b[K     |████████████████████████████████| 564 kB 21.5 MB/s \n",
            "\u001b[?25hRequirement already satisfied: requests in /usr/local/lib/python3.7/dist-packages (from tempeh->aif360) (2.23.0)\n",
            "Requirement already satisfied: pytest in /usr/local/lib/python3.7/dist-packages (from tempeh->aif360) (3.6.4)\n",
            "Requirement already satisfied: psutil in /usr/local/lib/python3.7/dist-packages (from memory-profiler->tempeh->aif360) (5.4.8)\n",
            "Requirement already satisfied: atomicwrites>=1.0 in /usr/local/lib/python3.7/dist-packages (from pytest->tempeh->aif360) (1.4.0)\n",
            "Requirement already satisfied: more-itertools>=4.0.0 in /usr/local/lib/python3.7/dist-packages (from pytest->tempeh->aif360) (8.12.0)\n",
            "Requirement already satisfied: pluggy<0.8,>=0.5 in /usr/local/lib/python3.7/dist-packages (from pytest->tempeh->aif360) (0.7.1)\n",
            "Requirement already satisfied: attrs>=17.4.0 in /usr/local/lib/python3.7/dist-packages (from pytest->tempeh->aif360) (21.4.0)\n",
            "Requirement already satisfied: setuptools in /usr/local/lib/python3.7/dist-packages (from pytest->tempeh->aif360) (57.4.0)\n",
            "Requirement already satisfied: py>=1.5.0 in /usr/local/lib/python3.7/dist-packages (from pytest->tempeh->aif360) (1.11.0)\n",
            "Requirement already satisfied: chardet<4,>=3.0.2 in /usr/local/lib/python3.7/dist-packages (from requests->tempeh->aif360) (3.0.4)\n",
            "Requirement already satisfied: idna<3,>=2.5 in /usr/local/lib/python3.7/dist-packages (from requests->tempeh->aif360) (2.10)\n",
            "Requirement already satisfied: certifi>=2017.4.17 in /usr/local/lib/python3.7/dist-packages (from requests->tempeh->aif360) (2021.10.8)\n",
            "Requirement already satisfied: urllib3!=1.25.0,!=1.25.1,<1.26,>=1.21.1 in /usr/local/lib/python3.7/dist-packages (from requests->tempeh->aif360) (1.24.3)\n",
            "Requirement already satisfied: tqdm>4.25.0 in /usr/local/lib/python3.7/dist-packages (from shap->tempeh->aif360) (4.63.0)\n",
            "Collecting slicer==0.0.7\n",
            "  Downloading slicer-0.0.7-py3-none-any.whl (14 kB)\n",
            "Requirement already satisfied: packaging>20.9 in /usr/local/lib/python3.7/dist-packages (from shap->tempeh->aif360) (21.3)\n",
            "Requirement already satisfied: numba in /usr/local/lib/python3.7/dist-packages (from shap->tempeh->aif360) (0.51.2)\n",
            "Requirement already satisfied: cloudpickle in /usr/local/lib/python3.7/dist-packages (from shap->tempeh->aif360) (1.3.0)\n",
            "Requirement already satisfied: llvmlite<0.35,>=0.34.0.dev0 in /usr/local/lib/python3.7/dist-packages (from numba->shap->tempeh->aif360) (0.34.0)\n",
            "Building wheels for collected packages: memory-profiler\n",
            "  Building wheel for memory-profiler (setup.py) ... \u001b[?25l\u001b[?25hdone\n",
            "  Created wheel for memory-profiler: filename=memory_profiler-0.60.0-py3-none-any.whl size=31284 sha256=0afecbbdd30bf75d2d3f9e040677897a621037d5251d773b901fc1ab81d02a87\n",
            "  Stored in directory: /root/.cache/pip/wheels/67/2b/fb/326e30d638c538e69a5eb0aa47f4223d979f502bbdb403950f\n",
            "Successfully built memory-profiler\n",
            "Installing collected packages: slicer, shap, memory-profiler, tempeh, aif360\n",
            "Successfully installed aif360-0.4.0 memory-profiler-0.60.0 shap-0.40.0 slicer-0.0.7 tempeh-0.1.12\n"
          ]
        }
      ]
    },
    {
      "cell_type": "code",
      "source": [
        "from aif360.datasets import BinaryLabelDataset\n",
        "from sklearn.model_selection import train_test_split\n",
        "\n",
        "df_ohe=df_ohe.set_index('Sex', drop=False) #this line puts Sex in the index,\n",
        "# which is later needed to use aif360 - sklearn compatible metrics\n",
        "np.random.seed(31415) \n",
        "train,test = train_test_split(df_ohe,test_size = 0.25,random_state=5)\n",
        "\n",
        "X_train = train.loc[:, train.columns != 'Cost_Matrix_Risk']\n",
        "X_test = test.loc[:, test.columns != 'Cost_Matrix_Risk']\n",
        "\n",
        "y_train = train.loc[:, train.columns =='Cost_Matrix_Risk']\n",
        "y_test = test.loc[:, train.columns =='Cost_Matrix_Risk']\n",
        "\n",
        "attributes_params = dict(\n",
        "    protected_attribute_names=['Sex'],\n",
        "    label_names=['Cost_Matrix_Risk']\n",
        ")\n",
        "\n",
        "dt_train = BinaryLabelDataset(df=train, **attributes_params)\n",
        "dt_test = BinaryLabelDataset(df=test, **attributes_params)\n"
      ],
      "metadata": {
        "id": "7r8Q5KY9G57p",
        "colab": {
          "base_uri": "https://localhost:8080/",
          "height": 388
        },
        "outputId": "643805cb-23da-4c0b-8b17-a68d66031d9a"
      },
      "execution_count": 57,
      "outputs": [
        {
          "output_type": "error",
          "ename": "ModuleNotFoundError",
          "evalue": "ignored",
          "traceback": [
            "\u001b[0;31m---------------------------------------------------------------------------\u001b[0m",
            "\u001b[0;31mModuleNotFoundError\u001b[0m                       Traceback (most recent call last)",
            "\u001b[0;32m<ipython-input-57-629777c18c93>\u001b[0m in \u001b[0;36m<module>\u001b[0;34m()\u001b[0m\n\u001b[0;32m----> 1\u001b[0;31m \u001b[0;32mfrom\u001b[0m \u001b[0maif360\u001b[0m\u001b[0;34m.\u001b[0m\u001b[0mdatasets\u001b[0m \u001b[0;32mimport\u001b[0m \u001b[0mBinaryLabelDataset\u001b[0m\u001b[0;34m\u001b[0m\u001b[0;34m\u001b[0m\u001b[0m\n\u001b[0m\u001b[1;32m      2\u001b[0m \u001b[0;32mfrom\u001b[0m \u001b[0msklearn\u001b[0m\u001b[0;34m.\u001b[0m\u001b[0mmodel_selection\u001b[0m \u001b[0;32mimport\u001b[0m \u001b[0mtrain_test_split\u001b[0m\u001b[0;34m\u001b[0m\u001b[0;34m\u001b[0m\u001b[0m\n\u001b[1;32m      3\u001b[0m \u001b[0;34m\u001b[0m\u001b[0m\n\u001b[1;32m      4\u001b[0m \u001b[0mdf_ohe\u001b[0m\u001b[0;34m=\u001b[0m\u001b[0mdf_ohe\u001b[0m\u001b[0;34m.\u001b[0m\u001b[0mset_index\u001b[0m\u001b[0;34m(\u001b[0m\u001b[0;34m'Sex'\u001b[0m\u001b[0;34m,\u001b[0m \u001b[0mdrop\u001b[0m\u001b[0;34m=\u001b[0m\u001b[0;32mFalse\u001b[0m\u001b[0;34m)\u001b[0m \u001b[0;31m#this line puts Sex in the index,\u001b[0m\u001b[0;34m\u001b[0m\u001b[0;34m\u001b[0m\u001b[0m\n\u001b[1;32m      5\u001b[0m \u001b[0;31m# which is later needed to use aif360 - sklearn compatible metrics\u001b[0m\u001b[0;34m\u001b[0m\u001b[0;34m\u001b[0m\u001b[0;34m\u001b[0m\u001b[0m\n",
            "\u001b[0;31mModuleNotFoundError\u001b[0m: No module named 'aif360'",
            "",
            "\u001b[0;31m---------------------------------------------------------------------------\u001b[0;32m\nNOTE: If your import is failing due to a missing package, you can\nmanually install dependencies using either !pip or !apt.\n\nTo view examples of installing some common dependencies, click the\n\"Open Examples\" button below.\n\u001b[0;31m---------------------------------------------------------------------------\u001b[0m\n"
          ],
          "errorDetails": {
            "actions": [
              {
                "action": "open_url",
                "actionText": "Open Examples",
                "url": "/notebooks/snippets/importing_libraries.ipynb"
              }
            ]
          }
        }
      ]
    },
    {
      "cell_type": "code",
      "source": [
        "# The index should contain protected attribute!!\n",
        "df_ohe.head()\n",
        "X_train.head()\n",
        "y_train.head()"
      ],
      "metadata": {
        "id": "W2wE4xns1zJq"
      },
      "execution_count": null,
      "outputs": []
    },
    {
      "cell_type": "code",
      "source": [
        "#Baseline, redo the logistic regression on the dt_train and dt_test datasets (in the expected aif360 format)\n",
        "from sklearn.pipeline import Pipeline\n",
        "from sklearn.compose import ColumnTransformer\n",
        "from sklearn.preprocessing import RobustScaler\n",
        "from sklearn.dummy import DummyClassifier\n",
        "from sklearn.linear_model import LogisticRegression\n",
        "preprocessing = ColumnTransformer(\n",
        "    [('scaler', RobustScaler(), [0, 1])], \n",
        "    remainder='passthrough'\n",
        ")\n",
        "lr = Pipeline([\n",
        "    ('preprocessing', preprocessing), \n",
        "    # no preprocessing (commenting above line) yields the same confusion matrix\n",
        "    ('lr', LogisticRegression(random_state=5,solver='liblinear'))\n",
        "])\n",
        "lr.fit(\n",
        "    dt_train.features,\n",
        "    dt_train.labels.ravel()\n",
        ");\n",
        "y_pred = lr.predict(dt_test.features)\n",
        "\n"
      ],
      "metadata": {
        "id": "cfGrG4XpOJVJ"
      },
      "execution_count": null,
      "outputs": []
    },
    {
      "cell_type": "code",
      "source": [
        "# get metrics to check everything is roughly equal\n",
        "from sklearn.metrics import confusion_matrix\n",
        "cm=confusion_matrix(y_test, y_pred)\n",
        "tn, fp, fn, tp =cm.ravel()"
      ],
      "metadata": {
        "id": "cC27X2OXYg3q"
      },
      "execution_count": null,
      "outputs": []
    },
    {
      "cell_type": "code",
      "source": [
        "# the new predictions look the same as before\n",
        "import seaborn as sn \n",
        "df_cm = pd.DataFrame(cm, [\"Bad Risk\",\"Good Risk\"], [\"Bad Risk\",\"Good Risk\"]) \n",
        "sn.set(font_scale=1.4) \n",
        "sn.heatmap(df_cm, annot=True, fmt='d', cmap=\"YlGnBu\");\n"
      ],
      "metadata": {
        "id": "SFv5dNWJZxmR"
      },
      "execution_count": null,
      "outputs": []
    },
    {
      "cell_type": "code",
      "source": [
        "#to parse the actual training dataset:\n",
        "#dt_train.import_dataset"
      ],
      "metadata": {
        "id": "Ut6hhp43TRrP"
      },
      "execution_count": null,
      "outputs": []
    },
    {
      "cell_type": "code",
      "source": [
        "from aif360.metrics import BinaryLabelDatasetMetric #compute fairness metrics"
      ],
      "metadata": {
        "id": "Txzyi11jptEf"
      },
      "execution_count": null,
      "outputs": []
    },
    {
      "cell_type": "code",
      "source": [
        "#Fairness metric: Compare the percentage of favorable results for the privileged\n",
        "#and unprivileged groups, subtracting the former percentage from the latter\n",
        "privileged_groups = [{'Sex': 0}] # Male\n",
        "unprivileged_groups = [{'Sex': 1}] # Female\n",
        "metric_orig_train = BinaryLabelDatasetMetric(dt_train, \n",
        "              unprivileged_groups=unprivileged_groups, \n",
        "              privileged_groups=privileged_groups) \n",
        "\n",
        "print(\"Protected attribute\",dt_train.protected_attribute_names)\n",
        "print(\"Difference between unprivileged and privileged groups =\" ,metric_orig_train.mean_difference()) #aka statistical parity difference P(y=1|woman)-P(y=1|man)), should be 0\n",
        "print(\"Ratio between unprivileged and privileged groups =\" ,metric_orig_train.disparate_impact()) #P(y=1|woman)/P(y=1|man)), should be 1\n",
        "#P(y=1|man) |P(y=1|woman)\n",
        "#0.852941\t   0.687500 # from before, right???\n",
        "print(\"Difference between unprivileged and privileged groups before =\" , 0.6875-0.852941)\n",
        "print(\"Ratio between unprivileged and privileged groups before =\", 0.6875/0.852941) \n",
        "# I don't get why we don't have the same metrics...\n"
      ],
      "metadata": {
        "id": "md7gHcLqe1xw"
      },
      "execution_count": null,
      "outputs": []
    },
    {
      "cell_type": "code",
      "source": [
        "# \"aif360 sklearn\" compatible metrics !!!! This was not easy ... :P\n",
        "# needs this line way back at the beginning --> df_ohe=df_ohe.set_index('Sex', drop=False) #this puts Sex in the index, which is later useful\n",
        "# https://aif360.readthedocs.io/en/latest/modules/generated/aif360.sklearn.metrics.difference.html#aif360.sklearn.metrics.difference\n",
        "from aif360.sklearn.metrics import disparate_impact_ratio, average_odds_error\n",
        "from sklearn.metrics import accuracy_score\n",
        "from sklearn.metrics import recall_score\n",
        "print(\"Accuracy: \",accuracy_score(y_test, y_pred))\n",
        "print('Specificity: ', recall_score(y_test, y_pred, pos_label=0))\n",
        "print(\"Diparate impact ratio: \",disparate_impact_ratio(y_test, prot_attr='Sex',priv_group=0))\n",
        "print(\"Average  odds error: \",average_odds_error(y_test, y_pred)) #this should be equal to equalized odds, expects header\n",
        "#average of the absolute values of the true positive rate (TPR) difference and false positive rate (FPR)#\n",
        "FPR_m=0.888\n",
        "FPR_w=0.7636363636363637\n",
        "TPR_m=0.7555555555555555\n",
        "TPR_w=0.52\n",
        "\n",
        "print(\"Average odds error before:\",0.5*(abs(FPR_m-FPR_w)+abs(TPR_m-TPR_w))) #this one checks\n"
      ],
      "metadata": {
        "id": "YWqUssayuNLB"
      },
      "execution_count": null,
      "outputs": []
    },
    {
      "cell_type": "code",
      "source": [
        "#Remove sensitive attribute  (What Lisandra and Atul had implemented, checking bias for a model run without Sex feature)\n",
        "lr.fit( dt_train.features[:, 0:2],  # this is how we remove Sex\n",
        "    dt_train.labels.ravel());\n",
        "y_pred = lr.predict(dt_test.features[:, 0:2])\n",
        "cm=confusion_matrix(y_test, y_pred)\n",
        "df_cm = pd.DataFrame(cm, [\"Bad Risk\",\"Good Risk\"], [\"Bad Risk\",\"Good Risk\"]) \n",
        "sn.set(font_scale=1.4) \n",
        "sn.heatmap(df_cm, annot=True, fmt='d', cmap=\"YlGnBu\");\n",
        "print(\"Average odds error originally 0.17, and now: \",round(average_odds_error(y_test, y_pred),2))\n",
        "print(\"Accuracy beofre 0.704: \",accuracy_score(y_test, y_pred))\n",
        "print('Specificity before 0.357 and now: ', recall_score(y_test, y_pred, pos_label=0))"
      ],
      "metadata": {
        "id": "U9IB4ljXQDMl"
      },
      "execution_count": null,
      "outputs": []
    },
    {
      "cell_type": "code",
      "source": [
        "#Preprocessing by reweighing\n",
        "from aif360.algorithms.preprocessing import Reweighing\n",
        "privileged_groups_params = dict(\n",
        "    privileged_groups=[{'Sex': 0}],\n",
        "    unprivileged_groups=[{'Sex': 1}]\n",
        ")\n",
        "RW = Reweighing(**privileged_groups_params)\n",
        "dt_train_reweighed = RW.fit_transform(dt_train)\n",
        "weights = dt_train_reweighed.instance_weights"
      ],
      "metadata": {
        "id": "eZLIAoeMQf8_"
      },
      "execution_count": null,
      "outputs": []
    },
    {
      "cell_type": "code",
      "source": [
        "lr.fit(\n",
        "    dt_train.features[:, 0:2],\n",
        "    dt_train.labels.ravel(),\n",
        "    lr__sample_weight=weights        # this is how we use weights\n",
        ");\n",
        "y_pred = lr.predict(dt_test.features[:, 0:2])\n",
        "cm=confusion_matrix(y_test, y_pred)\n",
        "df_cm = pd.DataFrame(cm, [\"Bad Risk\",\"Good Risk\"], [\"Bad Risk\",\"Good Risk\"]) \n",
        "sn.set(font_scale=1.4) \n",
        "sn.heatmap(df_cm, annot=True, fmt='d', cmap=\"YlGnBu\");\n",
        "print(\"Average odds error originally 0.17, and now: \",round(average_odds_error(y_test, y_pred),2))\n",
        "print(\"Accuracy beofre 0.704: \",accuracy_score(y_test, y_pred))\n",
        "print('Specificity before 0.357 and now: ', recall_score(y_test, y_pred, pos_label=0))"
      ],
      "metadata": {
        "id": "jDq1Zl3RQ73T"
      },
      "execution_count": null,
      "outputs": []
    },
    {
      "cell_type": "code",
      "source": [
        "#Post-processing by rejecting\n",
        "lr.fit(\n",
        "    dt_train.features[:, 0:2],\n",
        "    dt_train.labels.ravel()\n",
        ");\n",
        "y_prob = lr.predict_proba(dt_test.features[:, 0:2])[:, 1]"
      ],
      "metadata": {
        "id": "BtI7zBH1RWtl"
      },
      "execution_count": null,
      "outputs": []
    },
    {
      "cell_type": "code",
      "source": [
        "from aif360.algorithms.postprocessing import (\n",
        "    RejectOptionClassification\n",
        ")\n",
        "ROC = RejectOptionClassification(**privileged_groups_params)\n",
        "ROC.classification_threshold = 0.5\n",
        "ROC.ROC_margin = 0.15\n",
        "dt_test.scores = y_prob.reshape(-1, 1)\n",
        "y_pred = ROC.predict(dt_test).labels\n",
        "print(\"Average odds error originally 0.17, and now: \",round(average_odds_error(y_test, y_pred),2))\n",
        "print(\"Accuracy beofre 0.704: \",accuracy_score(y_test, y_pred))\n",
        "print('Specificity before 0.357 and now: ', recall_score(y_test, y_pred, pos_label=0))"
      ],
      "metadata": {
        "id": "DYAPvJEkRm_M"
      },
      "execution_count": null,
      "outputs": []
    },
    {
      "cell_type": "code",
      "source": [
        "# needed to import: from aif360.algorithms.inprocessing import PrejudiceRemover\n",
        "#!pip install fairlearn"
      ],
      "metadata": {
        "id": "A1madNQsSVZ6"
      },
      "execution_count": null,
      "outputs": []
    },
    {
      "cell_type": "code",
      "source": [
        "# In-processing with constraints\n",
        "from aif360.algorithms.inprocessing import PrejudiceRemover\n",
        "pr = PrejudiceRemover(eta=100.0)\n",
        "dt_train.features = preprocessing.fit_transform(dt_train.features)\n",
        "dt_test.features = preprocessing.transform(dt_test.features)\n",
        "pr.fit(dt_train);\n",
        "y_pred = pr.predict(dt_test).scores >= 0.5\n",
        "\n",
        "print(\"Average odds error originally 0.17, and now: \",round(average_odds_error(y_test, y_pred),2))\n",
        "print(\"Accuracy before 0.704: \",accuracy_score(y_test, y_pred))\n",
        "print('Specificity before 0.357 and now: ', recall_score(y_test, y_pred, pos_label=0))\n"
      ],
      "metadata": {
        "id": "QdvGXyOeRp5u"
      },
      "execution_count": null,
      "outputs": []
    },
    {
      "cell_type": "markdown",
      "source": [
        "## Below here is getting the notebook example using their wrapper working, retraining and setting up testing."
      ],
      "metadata": {
        "id": "qadJ688gYoNF"
      }
    },
    {
      "cell_type": "markdown",
      "source": [
        "How this goes:\n",
        "1. importing the standard dataset object they use, and subclassing it to make a version of the german dataset function they had - here it uses our frame from the beginning modified using the features we selected but didn't work on. It doesn't process using any of their dictionaries, but we could do that. It also doesn't use the scaler, by choice to make it work as we had it before and make the code easier\n",
        "2. Splitting into test and train, training the classifier and making it work like before - the only difference comes in collecting the predictions.\n",
        "3. Collecting the predictions is more annoying since to use their postprocessor function / model, we need to keep ourselves in their datastructure - so we make copies of our originals and then manually fill them with the terms we get from the classifier - that's manaually extracting probabilties and taking them to binary output. \n",
        "4. With this, we can 'train' their post processor, and reprocess our output and measure it. Here the results are surprising, and not the absolute best. I think the best thing here would be to include the validation steps because otherwise we have to reuse the training data, which isn't ideal for this. \n",
        "\n",
        "NOTES: \n",
        "\n",
        "*   To use this method you cannot do it in an ad hoc way. You absolutely need to plan for it.\n",
        "* It's still super annoying and not really transparent at all, since you have to use their strange datastructure which isn't ideal to use.\n",
        "\n"
      ],
      "metadata": {
        "id": "pGHz3GJwjLLG"
      }
    },
    {
      "cell_type": "code",
      "source": [
        "from aif360.datasets import StandardDataset"
      ],
      "metadata": {
        "id": "s7Upi_ljKTEy"
      },
      "execution_count": null,
      "outputs": []
    },
    {
      "cell_type": "code",
      "source": [
        "features = ['Sex','Duration','Housing','Cost_Matrix_Risk','Status_checking_account','Age','Job']\n",
        "categorical_features = ['Housing','Status_checking_account','Job']\n",
        "privileged_groups = [{'Sex': 1}]\n",
        "unprivileged_groups = [{'Sex': 0}]\n",
        "\n",
        "class GermanDataset(StandardDataset):\n",
        "    \"\"\"\n",
        "    Custom data importing for aif360\n",
        "    \"\"\"\n",
        "\n",
        "    def __init__(self, label_name='Cost_Matrix_Risk', favorable_classes=[1],\n",
        "                 protected_attribute_names=['Sex'],\n",
        "                 privileged_classes=[[1]],\n",
        "                 instance_weights_name=None,\n",
        "                 categorical_features=categorical_features,\n",
        "                 features_to_keep=[], features_to_drop=[],\n",
        "                 na_values=[], custom_preprocessing=None,\n",
        "                 metadata=None):\n",
        "        \"\"\"See :obj:`StandardDataset` for a description of the arguments.\n",
        "        By default, this code converts the 'age' attribute to a binary value\n",
        "        where privileged is `age > 25` and unprivileged is `age <= 25` as\n",
        "        proposed by Kamiran and Calders [1]_.\n",
        "        References:\n",
        "            .. [1] F. Kamiran and T. Calders, \"Classifying without\n",
        "               discriminating,\" 2nd International Conference on Computer,\n",
        "               Control and Communication, 2009.\n",
        "        Examples:\n",
        "            In some cases, it may be useful to keep track of a mapping from\n",
        "            `float -> str` for protected attributes and/or labels. If our use\n",
        "            case differs from the default, we can modify the mapping stored in\n",
        "            `metadata`:\n",
        "            >>> label_map = {1.0: 'Good Credit', 0.0: 'Bad Credit'}\n",
        "            >>> protected_attribute_maps = [{1.0: 'Male', 0.0: 'Female'}]\n",
        "            >>> gd = GermanDataset(protected_attribute_names=['sex'],\n",
        "            ... privileged_classes=[['male']], metadata={'label_map': label_map,\n",
        "            ... 'protected_attribute_maps': protected_attribute_maps})\n",
        "            Now this information will stay attached to the dataset and can be\n",
        "            used for more descriptive visualizations.\n",
        "        \"\"\"\n",
        "\n",
        "        #filepath = os.path.join(os.path.dirname(os.path.abspath(__file__)),\n",
        "                                #'..', 'data', 'raw', 'german', 'german.data')\n",
        "        # as given by german.doc\n",
        "        #column_names = ['status', 'month', 'credit_history',\n",
        "            #'purpose', 'credit_amount', 'savings', 'employment',\n",
        "            #'investment_as_income_percentage', 'personal_status',\n",
        "            #'other_debtors', 'residence_since', 'property', 'age',\n",
        "            #'installment_plans', 'housing', 'number_of_credits',\n",
        "            #'skill_level', 'people_liable_for', 'telephone',\n",
        "            #'foreign_worker', 'credit']\n",
        "        #try:\n",
        "           # df = pd.read_csv(filepath, sep=' ', header=None, names=column_names,\n",
        "                             #na_values=na_values)\n",
        "        #except IOError as err:\n",
        "            #print(\"IOError: {}\".format(err))\n",
        "            #print(\"To use this class, please download the following files:\")\n",
        "            #print(\"\\n\\thttps://archive.ics.uci.edu/ml/machine-learning-databases/statlog/german/german.data\")\n",
        "            #print(\"\\thttps://archive.ics.uci.edu/ml/machine-learning-databases/statlog/german/german.doc\")\n",
        "            #print(\"\\nand place them, as-is, in the folder:\")\n",
        "            #print(\"\\n\\t{}\\n\".format(os.path.abspath(os.path.join(\n",
        "                #os.path.abspath(__file__), '..', '..', 'data', 'raw', 'german'))))\n",
        "           # import sys\n",
        "           # sys.exit(1)\n",
        "\n",
        "        super(GermanDataset, self).__init__(df=df[features],\n",
        "            label_name=label_name,\n",
        "            favorable_classes=favorable_classes,\n",
        "            protected_attribute_names=protected_attribute_names,\n",
        "            privileged_classes=privileged_classes,\n",
        "            instance_weights_name=instance_weights_name,\n",
        "            categorical_features=categorical_features,\n",
        "            features_to_keep=features_to_keep,\n",
        "            features_to_drop=features_to_drop, na_values=na_values,\n",
        "            custom_preprocessing=custom_preprocessing, metadata=metadata)"
      ],
      "metadata": {
        "id": "kuXE6a31QQfh"
      },
      "execution_count": null,
      "outputs": []
    },
    {
      "cell_type": "code",
      "source": [
        "data = GermanDataset()"
      ],
      "metadata": {
        "id": "s_d029sZXUS1"
      },
      "execution_count": null,
      "outputs": []
    },
    {
      "cell_type": "code",
      "source": [
        "data_train, data_test = data.split([0.75], shuffle=True, seed=5)\n",
        "#data_valid, data_test = data_vt.split([0.5], shuffle=True, seed = 5)"
      ],
      "metadata": {
        "id": "1HecjcsfbN8Z"
      },
      "execution_count": null,
      "outputs": []
    },
    {
      "cell_type": "code",
      "source": [
        "X_train = data_train.features\n",
        "y_train = data_train.labels.ravel()\n",
        "X_test = data_test.features\n",
        "y_test = data_test.labels.ravel()"
      ],
      "metadata": {
        "id": "Y9UdOw-abgF6"
      },
      "execution_count": null,
      "outputs": []
    },
    {
      "cell_type": "code",
      "source": [
        "data_train_pred = data_train.copy(deepcopy=True)\n",
        "data_test_pred = data_test.copy(deepcopy=True)"
      ],
      "metadata": {
        "id": "QMKwaUYPdfZp"
      },
      "execution_count": null,
      "outputs": []
    },
    {
      "cell_type": "code",
      "source": [
        "clf=LogisticRegression(random_state=5,solver='liblinear')\n",
        "clf.fit(X_train, y_train)"
      ],
      "metadata": {
        "id": "3m2RIf00chAE"
      },
      "execution_count": null,
      "outputs": []
    },
    {
      "cell_type": "code",
      "source": [
        "fav_idx = np.where(clf.classes_ == data_train.favorable_label)[0][0]\n",
        "y_train_pred_prob = clf.predict_proba(X_train)[:,fav_idx]\n",
        "\n",
        "# Prediction probs for testing data\n",
        "\n",
        "y_test_pred_prob = clf.predict_proba(X_test)[:,fav_idx]\n",
        "\n",
        "class_thresh = 0.5\n",
        "data_train_pred.scores = y_train_pred_prob.reshape(-1,1)\n",
        "data_test_pred.scores = y_test_pred_prob.reshape(-1,1)\n",
        "\n",
        "y_train_pred = np.zeros_like(data_train_pred.labels)\n",
        "y_train_pred[y_train_pred_prob >= class_thresh] = data_train_pred.favorable_label\n",
        "y_train_pred[~(y_train_pred_prob >= class_thresh)] = data_train_pred.unfavorable_label\n",
        "data_train_pred.labels = y_train_pred\n",
        "    \n",
        "y_test_pred = np.zeros_like(data_test_pred.labels)\n",
        "y_test_pred[y_test_pred_prob >= class_thresh] = data_test_pred.favorable_label\n",
        "y_test_pred[~(y_test_pred_prob >= class_thresh)] = data_test_pred.unfavorable_label\n",
        "data_test_pred.labels = y_test_pred\n"
      ],
      "metadata": {
        "id": "XYh8AW_fd4PD"
      },
      "execution_count": null,
      "outputs": []
    },
    {
      "cell_type": "code",
      "source": [
        "from aif360.metrics import ClassificationMetric\n",
        "from aif360.metrics.utils import compute_boolean_conditioning_vector"
      ],
      "metadata": {
        "id": "RBvwGOYseuue"
      },
      "execution_count": null,
      "outputs": []
    },
    {
      "cell_type": "code",
      "source": [
        "cm_pred_train = ClassificationMetric(data_train, data_train_pred,\n",
        "                             unprivileged_groups=unprivileged_groups,\n",
        "                             privileged_groups=privileged_groups)\n",
        "display(Markdown(\"#### Original-Predicted training dataset\"))\n",
        "print(\"Difference in GFPR between unprivileged and privileged groups\")\n",
        "print(cm_pred_train.difference(cm_pred_train.generalized_false_positive_rate))\n",
        "print(\"Difference in GFNR between unprivileged and privileged groups\")\n",
        "print(cm_pred_train.difference(cm_pred_train.generalized_false_negative_rate))\n",
        "\n",
        "cm_pred_test = ClassificationMetric(data_test, data_test_pred,\n",
        "                             unprivileged_groups=unprivileged_groups,\n",
        "                             privileged_groups=privileged_groups)\n",
        "display(Markdown(\"#### Original-Predicted testing dataset\"))\n",
        "print(\"Difference in GFPR between unprivileged and privileged groups\")\n",
        "print(cm_pred_test.difference(cm_pred_test.generalized_false_positive_rate))\n",
        "print(\"Difference in GFNR between unprivileged and privileged groups\")\n",
        "print(cm_pred_test.difference(cm_pred_test.generalized_false_negative_rate))"
      ],
      "metadata": {
        "id": "Kzp267Dxe4DW"
      },
      "execution_count": null,
      "outputs": []
    },
    {
      "cell_type": "code",
      "source": [
        "# Odds equalizing post-processing algorithm\n",
        "from aif360.algorithms.postprocessing.calibrated_eq_odds_postprocessing import CalibratedEqOddsPostprocessing\n",
        "from tqdm import tqdm\n",
        "\n",
        "\n",
        "\n",
        "# Learn parameters to equalize odds and apply to create a new dataset\n",
        "cpp = CalibratedEqOddsPostprocessing(privileged_groups = privileged_groups,\n",
        "                                     unprivileged_groups = unprivileged_groups,\n",
        "                                     cost_constraint=\"fnr\", #fpr, fnr, weighted\n",
        "                                     seed=5)\n",
        "cpp = cpp.fit(data_train, data_train_pred)\n"
      ],
      "metadata": {
        "id": "KMK_LoksD4kj"
      },
      "execution_count": null,
      "outputs": []
    },
    {
      "cell_type": "code",
      "source": [
        "data_transf_test_pred = cpp.predict(data_test_pred)"
      ],
      "metadata": {
        "id": "V8Von_HtgR5H"
      },
      "execution_count": null,
      "outputs": []
    },
    {
      "cell_type": "code",
      "source": [
        "cm_transf_test = ClassificationMetric(data_test, data_transf_test_pred,\n",
        "                             unprivileged_groups=unprivileged_groups,\n",
        "                             privileged_groups=privileged_groups)\n",
        "display(Markdown(\"#### Original-Transformed testing dataset\"))\n",
        "print(\"Difference in GFPR between unprivileged and privileged groups\")\n",
        "print(cm_transf_test.difference(cm_transf_test.generalized_false_positive_rate))\n",
        "print(\"Difference in GFNR between unprivileged and privileged groups\")\n",
        "print(cm_transf_test.difference(cm_transf_test.generalized_false_negative_rate))"
      ],
      "metadata": {
        "id": "bAUp-TgTgZgM"
      },
      "execution_count": null,
      "outputs": []
    },
    {
      "cell_type": "code",
      "source": [
        "# Testing: Check if the rates for test have gone down\n",
        "assert np.abs(cm_transf_test.difference(cm_transf_test.generalized_false_negative_rate)) < np.abs(cm_pred_test.difference(cm_pred_test.generalized_false_negative_rate)) \n"
      ],
      "metadata": {
        "id": "XiwyYGJWhdeP"
      },
      "execution_count": null,
      "outputs": []
    },
    {
      "cell_type": "code",
      "source": [
        "# Testing: Check if the rates for test have gone down\n",
        "assert np.abs(cm_transf_test.difference(cm_transf_test.generalized_false_positive_rate)) < np.abs(cm_pred_test.difference(cm_pred_test.generalized_false_positive_rate)) \n"
      ],
      "metadata": {
        "id": "Ms9qFYEth0iV"
      },
      "execution_count": null,
      "outputs": []
    },
    {
      "cell_type": "markdown",
      "source": [
        "With cost = weighted: doing this made the false negatives better, but the false positives worse. I need to put validation sets back.\n",
        "\n",
        "with cost = fpr, fpr is better but fnr is worse\n",
        "\n",
        "with cost = fnr, fnr is better than weighted, but fpr is worse than weighted. I think training it on the training data is a bad idea for this, but this was a prototype"
      ],
      "metadata": {
        "id": "oSpAjOfUh--m"
      }
    },
    {
      "cell_type": "code",
      "source": [
        "#original scores\n",
        "print(metrics.classification_report(y_test, data_test_pred.labels))"
      ],
      "metadata": {
        "id": "O-DXX4zenyjj"
      },
      "execution_count": null,
      "outputs": []
    },
    {
      "cell_type": "code",
      "source": [
        "cm_original=confusion_matrix(y_test, data_test_pred.labels)\n",
        "tn, fp, fn, tp =cm_original.ravel()\n",
        "df_cm = pd.DataFrame(cm_original, [\"Bad Risk\",\"Good Risk\"], [\"Bad Risk\",\"Good Risk\"]) \n",
        "sn.set(font_scale=1.4) \n",
        "sn.heatmap(df_cm, annot=True, fmt='d', cmap=\"YlGnBu\");\n"
      ],
      "metadata": {
        "id": "S0eT9s3OoW-D"
      },
      "execution_count": null,
      "outputs": []
    },
    {
      "cell_type": "markdown",
      "source": [
        "Now again for the postprocessed model"
      ],
      "metadata": {
        "id": "pEu6HKWWpM4Z"
      }
    },
    {
      "cell_type": "code",
      "source": [
        "#original scores\n",
        "print(metrics.classification_report(y_test, data_transf_test_pred.labels))"
      ],
      "metadata": {
        "id": "xlPFWg0TpKBs"
      },
      "execution_count": null,
      "outputs": []
    },
    {
      "cell_type": "code",
      "source": [
        "cm_postprocessed=confusion_matrix(y_test, data_transf_test_pred.labels)\n",
        "tn, fp, fn, tp =cm_postprocessed.ravel()\n",
        "df_cm = pd.DataFrame(cm_postprocessed, [\"Bad Risk\",\"Good Risk\"], [\"Bad Risk\",\"Good Risk\"]) \n",
        "sn.set(font_scale=1.4) \n",
        "sn.heatmap(df_cm, annot=True, fmt='d', cmap=\"YlGnBu\");\n"
      ],
      "metadata": {
        "id": "0VK4bKlppKBv"
      },
      "execution_count": null,
      "outputs": []
    },
    {
      "cell_type": "markdown",
      "source": [
        "Note that the precision for bad risk has gone up after balancing it for fnr. This isn't surprising. the accuracy also only changed by 1%, but it's not great to begin with. I'd like to compute the fpr/fnr over women/men again for the new model and compare them to what we'd get for the basic model - but I'm tired right now."
      ],
      "metadata": {
        "id": "nH60k3J7pkRw"
      }
    }
  ]
}