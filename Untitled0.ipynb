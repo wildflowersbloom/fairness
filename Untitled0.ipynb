{
  "nbformat": 4,
  "nbformat_minor": 0,
  "metadata": {
    "colab": {
      "name": "Untitled0.ipynb",
      "provenance": [],
      "collapsed_sections": [],
      "include_colab_link": true
    },
    "kernelspec": {
      "name": "python3",
      "display_name": "Python 3"
    },
    "language_info": {
      "name": "python"
    }
  },
  "cells": [
    {
      "cell_type": "markdown",
      "metadata": {
        "id": "view-in-github",
        "colab_type": "text"
      },
      "source": [
        "<a href=\"https://colab.research.google.com/github/wildflowersbloom/fairness/blob/main/Untitled0.ipynb\" target=\"_parent\"><img src=\"https://colab.research.google.com/assets/colab-badge.svg\" alt=\"Open In Colab\"/></a>"
      ]
    },
    {
      "cell_type": "markdown",
      "source": [
        ""
      ],
      "metadata": {
        "id": "SxOLbh4CcLwh"
      }
    },
    {
      "cell_type": "markdown",
      "source": [
        "**An exercise in fairness**. We build a logistic regression out of the box to classify good and bad credit risk based on the german credit dataset available [here](https://archive.ics.uci.edu/ml/datasets/Statlog+%28German+Credit+Data%29), and evaluated fairness  using three metrics: 1) equalized odds, 2) group fairness and 3) overall accuracy equality. Our regression is unfair towards women. We did some research on the dataset, guided by Data sheets for datasets by Timnit Gebru, et al. 2018, did some limited exploration of the data and made the (arbitrary to some extent) choice to select sex as a sensitive feature. We selected an algorithm, a subset of features, hot-encoded them and binned age, with the aim to do it in a more systematic way in the future. To do: check feature correlations before feature selection, do a fair split of the test and training sets considering class imbalance, ...  "
      ],
      "metadata": {
        "id": "_9ZrwHfyYt6m"
      }
    },
    {
      "cell_type": "code",
      "source": [
        "import numpy as np\n",
        "import pandas as pd\n",
        "import seaborn as sns"
      ],
      "metadata": {
        "id": "I2fOzYWWQr-M"
      },
      "execution_count": 404,
      "outputs": []
    },
    {
      "cell_type": "code",
      "execution_count": 405,
      "metadata": {
        "id": "-ZydWdi683Ur"
      },
      "outputs": [],
      "source": [
        "df = pd.read_csv(\"german.csv\", header=None, delimiter=r\"\\s+\")"
      ]
    },
    {
      "cell_type": "code",
      "source": [
        "df.head()"
      ],
      "metadata": {
        "colab": {
          "base_uri": "https://localhost:8080/",
          "height": 235
        },
        "id": "GpIfErcRRaAT",
        "outputId": "ec38c6e8-8cad-4f0d-e63e-16292ace08fa"
      },
      "execution_count": 406,
      "outputs": [
        {
          "output_type": "execute_result",
          "data": {
            "text/plain": [
              "    0   1    2    3     4    5    6   7    8     9   ...    11  12    13  \\\n",
              "0  A11   6  A34  A43  1169  A65  A75   4  A93  A101  ...  A121  67  A143   \n",
              "1  A12  48  A32  A43  5951  A61  A73   2  A92  A101  ...  A121  22  A143   \n",
              "2  A14  12  A34  A46  2096  A61  A74   2  A93  A101  ...  A121  49  A143   \n",
              "3  A11  42  A32  A42  7882  A61  A74   2  A93  A103  ...  A122  45  A143   \n",
              "4  A11  24  A33  A40  4870  A61  A73   3  A93  A101  ...  A124  53  A143   \n",
              "\n",
              "     14 15    16 17    18    19 20  \n",
              "0  A152  2  A173  1  A192  A201  1  \n",
              "1  A152  1  A173  1  A191  A201  2  \n",
              "2  A152  1  A172  2  A191  A201  1  \n",
              "3  A153  1  A173  2  A191  A201  1  \n",
              "4  A153  2  A173  2  A191  A201  2  \n",
              "\n",
              "[5 rows x 21 columns]"
            ],
            "text/html": [
              "\n",
              "  <div id=\"df-46bfa500-4db4-4b9a-a465-0449b015ee5c\">\n",
              "    <div class=\"colab-df-container\">\n",
              "      <div>\n",
              "<style scoped>\n",
              "    .dataframe tbody tr th:only-of-type {\n",
              "        vertical-align: middle;\n",
              "    }\n",
              "\n",
              "    .dataframe tbody tr th {\n",
              "        vertical-align: top;\n",
              "    }\n",
              "\n",
              "    .dataframe thead th {\n",
              "        text-align: right;\n",
              "    }\n",
              "</style>\n",
              "<table border=\"1\" class=\"dataframe\">\n",
              "  <thead>\n",
              "    <tr style=\"text-align: right;\">\n",
              "      <th></th>\n",
              "      <th>0</th>\n",
              "      <th>1</th>\n",
              "      <th>2</th>\n",
              "      <th>3</th>\n",
              "      <th>4</th>\n",
              "      <th>5</th>\n",
              "      <th>6</th>\n",
              "      <th>7</th>\n",
              "      <th>8</th>\n",
              "      <th>9</th>\n",
              "      <th>...</th>\n",
              "      <th>11</th>\n",
              "      <th>12</th>\n",
              "      <th>13</th>\n",
              "      <th>14</th>\n",
              "      <th>15</th>\n",
              "      <th>16</th>\n",
              "      <th>17</th>\n",
              "      <th>18</th>\n",
              "      <th>19</th>\n",
              "      <th>20</th>\n",
              "    </tr>\n",
              "  </thead>\n",
              "  <tbody>\n",
              "    <tr>\n",
              "      <th>0</th>\n",
              "      <td>A11</td>\n",
              "      <td>6</td>\n",
              "      <td>A34</td>\n",
              "      <td>A43</td>\n",
              "      <td>1169</td>\n",
              "      <td>A65</td>\n",
              "      <td>A75</td>\n",
              "      <td>4</td>\n",
              "      <td>A93</td>\n",
              "      <td>A101</td>\n",
              "      <td>...</td>\n",
              "      <td>A121</td>\n",
              "      <td>67</td>\n",
              "      <td>A143</td>\n",
              "      <td>A152</td>\n",
              "      <td>2</td>\n",
              "      <td>A173</td>\n",
              "      <td>1</td>\n",
              "      <td>A192</td>\n",
              "      <td>A201</td>\n",
              "      <td>1</td>\n",
              "    </tr>\n",
              "    <tr>\n",
              "      <th>1</th>\n",
              "      <td>A12</td>\n",
              "      <td>48</td>\n",
              "      <td>A32</td>\n",
              "      <td>A43</td>\n",
              "      <td>5951</td>\n",
              "      <td>A61</td>\n",
              "      <td>A73</td>\n",
              "      <td>2</td>\n",
              "      <td>A92</td>\n",
              "      <td>A101</td>\n",
              "      <td>...</td>\n",
              "      <td>A121</td>\n",
              "      <td>22</td>\n",
              "      <td>A143</td>\n",
              "      <td>A152</td>\n",
              "      <td>1</td>\n",
              "      <td>A173</td>\n",
              "      <td>1</td>\n",
              "      <td>A191</td>\n",
              "      <td>A201</td>\n",
              "      <td>2</td>\n",
              "    </tr>\n",
              "    <tr>\n",
              "      <th>2</th>\n",
              "      <td>A14</td>\n",
              "      <td>12</td>\n",
              "      <td>A34</td>\n",
              "      <td>A46</td>\n",
              "      <td>2096</td>\n",
              "      <td>A61</td>\n",
              "      <td>A74</td>\n",
              "      <td>2</td>\n",
              "      <td>A93</td>\n",
              "      <td>A101</td>\n",
              "      <td>...</td>\n",
              "      <td>A121</td>\n",
              "      <td>49</td>\n",
              "      <td>A143</td>\n",
              "      <td>A152</td>\n",
              "      <td>1</td>\n",
              "      <td>A172</td>\n",
              "      <td>2</td>\n",
              "      <td>A191</td>\n",
              "      <td>A201</td>\n",
              "      <td>1</td>\n",
              "    </tr>\n",
              "    <tr>\n",
              "      <th>3</th>\n",
              "      <td>A11</td>\n",
              "      <td>42</td>\n",
              "      <td>A32</td>\n",
              "      <td>A42</td>\n",
              "      <td>7882</td>\n",
              "      <td>A61</td>\n",
              "      <td>A74</td>\n",
              "      <td>2</td>\n",
              "      <td>A93</td>\n",
              "      <td>A103</td>\n",
              "      <td>...</td>\n",
              "      <td>A122</td>\n",
              "      <td>45</td>\n",
              "      <td>A143</td>\n",
              "      <td>A153</td>\n",
              "      <td>1</td>\n",
              "      <td>A173</td>\n",
              "      <td>2</td>\n",
              "      <td>A191</td>\n",
              "      <td>A201</td>\n",
              "      <td>1</td>\n",
              "    </tr>\n",
              "    <tr>\n",
              "      <th>4</th>\n",
              "      <td>A11</td>\n",
              "      <td>24</td>\n",
              "      <td>A33</td>\n",
              "      <td>A40</td>\n",
              "      <td>4870</td>\n",
              "      <td>A61</td>\n",
              "      <td>A73</td>\n",
              "      <td>3</td>\n",
              "      <td>A93</td>\n",
              "      <td>A101</td>\n",
              "      <td>...</td>\n",
              "      <td>A124</td>\n",
              "      <td>53</td>\n",
              "      <td>A143</td>\n",
              "      <td>A153</td>\n",
              "      <td>2</td>\n",
              "      <td>A173</td>\n",
              "      <td>2</td>\n",
              "      <td>A191</td>\n",
              "      <td>A201</td>\n",
              "      <td>2</td>\n",
              "    </tr>\n",
              "  </tbody>\n",
              "</table>\n",
              "<p>5 rows × 21 columns</p>\n",
              "</div>\n",
              "      <button class=\"colab-df-convert\" onclick=\"convertToInteractive('df-46bfa500-4db4-4b9a-a465-0449b015ee5c')\"\n",
              "              title=\"Convert this dataframe to an interactive table.\"\n",
              "              style=\"display:none;\">\n",
              "        \n",
              "  <svg xmlns=\"http://www.w3.org/2000/svg\" height=\"24px\"viewBox=\"0 0 24 24\"\n",
              "       width=\"24px\">\n",
              "    <path d=\"M0 0h24v24H0V0z\" fill=\"none\"/>\n",
              "    <path d=\"M18.56 5.44l.94 2.06.94-2.06 2.06-.94-2.06-.94-.94-2.06-.94 2.06-2.06.94zm-11 1L8.5 8.5l.94-2.06 2.06-.94-2.06-.94L8.5 2.5l-.94 2.06-2.06.94zm10 10l.94 2.06.94-2.06 2.06-.94-2.06-.94-.94-2.06-.94 2.06-2.06.94z\"/><path d=\"M17.41 7.96l-1.37-1.37c-.4-.4-.92-.59-1.43-.59-.52 0-1.04.2-1.43.59L10.3 9.45l-7.72 7.72c-.78.78-.78 2.05 0 2.83L4 21.41c.39.39.9.59 1.41.59.51 0 1.02-.2 1.41-.59l7.78-7.78 2.81-2.81c.8-.78.8-2.07 0-2.86zM5.41 20L4 18.59l7.72-7.72 1.47 1.35L5.41 20z\"/>\n",
              "  </svg>\n",
              "      </button>\n",
              "      \n",
              "  <style>\n",
              "    .colab-df-container {\n",
              "      display:flex;\n",
              "      flex-wrap:wrap;\n",
              "      gap: 12px;\n",
              "    }\n",
              "\n",
              "    .colab-df-convert {\n",
              "      background-color: #E8F0FE;\n",
              "      border: none;\n",
              "      border-radius: 50%;\n",
              "      cursor: pointer;\n",
              "      display: none;\n",
              "      fill: #1967D2;\n",
              "      height: 32px;\n",
              "      padding: 0 0 0 0;\n",
              "      width: 32px;\n",
              "    }\n",
              "\n",
              "    .colab-df-convert:hover {\n",
              "      background-color: #E2EBFA;\n",
              "      box-shadow: 0px 1px 2px rgba(60, 64, 67, 0.3), 0px 1px 3px 1px rgba(60, 64, 67, 0.15);\n",
              "      fill: #174EA6;\n",
              "    }\n",
              "\n",
              "    [theme=dark] .colab-df-convert {\n",
              "      background-color: #3B4455;\n",
              "      fill: #D2E3FC;\n",
              "    }\n",
              "\n",
              "    [theme=dark] .colab-df-convert:hover {\n",
              "      background-color: #434B5C;\n",
              "      box-shadow: 0px 1px 3px 1px rgba(0, 0, 0, 0.15);\n",
              "      filter: drop-shadow(0px 1px 2px rgba(0, 0, 0, 0.3));\n",
              "      fill: #FFFFFF;\n",
              "    }\n",
              "  </style>\n",
              "\n",
              "      <script>\n",
              "        const buttonEl =\n",
              "          document.querySelector('#df-46bfa500-4db4-4b9a-a465-0449b015ee5c button.colab-df-convert');\n",
              "        buttonEl.style.display =\n",
              "          google.colab.kernel.accessAllowed ? 'block' : 'none';\n",
              "\n",
              "        async function convertToInteractive(key) {\n",
              "          const element = document.querySelector('#df-46bfa500-4db4-4b9a-a465-0449b015ee5c');\n",
              "          const dataTable =\n",
              "            await google.colab.kernel.invokeFunction('convertToInteractive',\n",
              "                                                     [key], {});\n",
              "          if (!dataTable) return;\n",
              "\n",
              "          const docLinkHtml = 'Like what you see? Visit the ' +\n",
              "            '<a target=\"_blank\" href=https://colab.research.google.com/notebooks/data_table.ipynb>data table notebook</a>'\n",
              "            + ' to learn more about interactive tables.';\n",
              "          element.innerHTML = '';\n",
              "          dataTable['output_type'] = 'display_data';\n",
              "          await google.colab.output.renderOutput(dataTable, element);\n",
              "          const docLink = document.createElement('div');\n",
              "          docLink.innerHTML = docLinkHtml;\n",
              "          element.appendChild(docLink);\n",
              "        }\n",
              "      </script>\n",
              "    </div>\n",
              "  </div>\n",
              "  "
            ]
          },
          "metadata": {},
          "execution_count": 406
        }
      ]
    },
    {
      "cell_type": "code",
      "source": [
        "headers=[\"Status of existing checking account\",\"Duration in month\",\"Credit history\",\\\n",
        "         \"Purpose\",\"Credit amount\",\"Savings account/bonds\",\"Present employment since\",\\\n",
        "         \"Installment rate in percentage of disposable income\",\"Personal status and sex\",\\\n",
        "         \"Other debtors / guarantors\",\"Present residence since\",\"Property\",\"Age in years\",\\\n",
        "        \"Other installment plans\",\"Housing\",\"Number of existing credits at this bank\",\\\n",
        "        \"Job\",\"Number of people being liable to provide maintenance for\",\"Telephone\",\"foreign worker\",\"Cost Matrix(Risk)\"]\n",
        "df.columns=headers"
      ],
      "metadata": {
        "id": "dTSoyfnzTfWT"
      },
      "execution_count": 407,
      "outputs": []
    },
    {
      "cell_type": "code",
      "source": [
        "#make it more readable (taken from https://wwbw.kaggle.com/pahulpreet/german-credit-risk-analysis-beginner-s-guide)\n",
        "Status_of_existing_checking_account={'A14':\"no checking account\",'A11':\"<0 DM\", 'A12': \"0 <= <200 DM\",'A13':\">= 200 DM \"}\n",
        "df[\"Status of existing checking account\"]=df[\"Status of existing checking account\"].map(Status_of_existing_checking_account)\n",
        "\n",
        "Credit_history={\"A34\":\"critical account\",\"A33\":\"delay in paying off\",\"A32\":\"existing credits paid back duly till now\",\"A31\":\"all credits at this bank paid back duly\",\"A30\":\"no credits taken\"}\n",
        "df[\"Credit history\"]=df[\"Credit history\"].map(Credit_history)\n",
        "\n",
        "Purpose={\"A40\" : \"car (new)\", \"A41\" : \"car (used)\", \"A42\" : \"furniture/equipment\", \"A43\" :\"radio/television\" , \"A44\" : \"domestic appliances\", \"A45\" : \"repairs\", \"A46\" : \"education\", 'A47' : 'vacation','A48' : 'retraining','A49' : 'business','A410' : 'others'}\n",
        "df[\"Purpose\"]=df[\"Purpose\"].map(Purpose)\n",
        "\n",
        "Saving_account={\"A65\" : \"no savings account\",\"A61\" :\"<100 DM\",\"A62\" : \"100 <= <500 DM\",\"A63\" :\"500 <= < 1000 DM\", \"A64\" :\">= 1000 DM\"}\n",
        "df[\"Savings account/bonds\"]=df[\"Savings account/bonds\"].map(Saving_account)\n",
        "\n",
        "Present_employment={'A75':\">=7 years\", 'A74':\"4<= <7 years\",  'A73':\"1<= < 4 years\", 'A72':\"<1 years\",'A71':\"unemployed\"}\n",
        "df[\"Present employment since\"]=df[\"Present employment since\"].map(Present_employment)\n",
        "\n",
        "#Personal_status_and_sex={ 'A95':\"female:single\",'A94':\"male:married/widowed\",'A93':\"male:single\", 'A92':\"female:divorced/separated/married\", 'A91':\"male:divorced/separated\"}\n",
        "#df[\"Personal status and sex\"]=df[\"Personal status and sex\"].map(Personal_status_and_sex)\n",
        "\n",
        "Other_debtors_guarantors={'A101':\"none\", 'A102':\"co-applicant\", 'A103':\"guarantor\"}\n",
        "df[\"Other debtors / guarantors\"]=df[\"Other debtors / guarantors\"].map(Other_debtors_guarantors)\n",
        "\n",
        "Property={'A121':\"real estate\", 'A122':\"savings agreement/life insurance\", 'A123':\"car or other\", 'A124':\"unknown / no property\"}\n",
        "df[\"Property\"]=df[\"Property\"].map(Property)\n",
        "\n",
        "Other_installment_plans={'A143':\"none\", 'A142':\"store\", 'A141':\"bank\"}\n",
        "df[\"Other installment plans\"]=df[\"Other installment plans\"].map(Other_installment_plans)\n",
        "\n",
        "Housing={'A153':\"for free\", 'A152':\"own\", 'A151':\"rent\"}\n",
        "df[\"Housing\"]=df[\"Housing\"].map(Housing)\n",
        "\n",
        "Job={'A174':\"management/ highly qualified employee\", 'A173':\"skilled employee / official\", 'A172':\"unskilled - resident\", 'A171':\"unemployed/ unskilled  - non-resident\"}\n",
        "df[\"Job\"]=df[\"Job\"].map(Job)\n",
        "\n",
        "Telephone={'A192':\"yes\", 'A191':\"none\"}\n",
        "df[\"Telephone\"]=df[\"Telephone\"].map(Telephone)\n",
        "\n",
        "foreign_worker={'A201':\"yes\", 'A202':\"no\"}\n",
        "df[\"foreign worker\"]=df[\"foreign worker\"].map(foreign_worker)\n",
        "\n",
        "risk={1:\"Good Risk\", 2:\"Bad Risk\"}\n",
        "df[\"Cost Matrix(Risk)\"]=df[\"Cost Matrix(Risk)\"].map(risk)"
      ],
      "metadata": {
        "id": "1sL2kgb6Vtks"
      },
      "execution_count": 408,
      "outputs": []
    },
    {
      "cell_type": "code",
      "source": [
        "#shorten headers\n",
        "headers=[\"Status_checking_account\",\"Duration\",\"Credit_history\",\\\n",
        "         \"Purpose\",\"Credit_amount\",\"Savings\",\"Employment_since\",\\\n",
        "         \"Installment_percent\",\"Personal_status_sex\",\\\n",
        "         \"Other_debtors_guarantors\",\"Residence_since\",\"Property\",\"Age\",\\\n",
        "        \"Other_installment\",\"Housing\",\"Existing_credits\",\\\n",
        "        \"Job\",\"Liability\",\"Telephone\",\"Foreign\",\"Cost_Matrix_Risk\"]\n",
        "\n",
        "\n",
        "df.columns=headers"
      ],
      "metadata": {
        "id": "syEuipE9WpDa"
      },
      "execution_count": 409,
      "outputs": []
    },
    {
      "cell_type": "code",
      "source": [
        "df.describe()"
      ],
      "metadata": {
        "colab": {
          "base_uri": "https://localhost:8080/",
          "height": 300
        },
        "id": "rToEcpuuXNAQ",
        "outputId": "399055b2-8a25-4ba0-8cf4-cd09616acf05"
      },
      "execution_count": 410,
      "outputs": [
        {
          "output_type": "execute_result",
          "data": {
            "text/plain": [
              "          Duration  Credit_amount  Installment_percent  Residence_since  \\\n",
              "count  1000.000000    1000.000000          1000.000000      1000.000000   \n",
              "mean     20.903000    3271.258000             2.973000         2.845000   \n",
              "std      12.058814    2822.736876             1.118715         1.103718   \n",
              "min       4.000000     250.000000             1.000000         1.000000   \n",
              "25%      12.000000    1365.500000             2.000000         2.000000   \n",
              "50%      18.000000    2319.500000             3.000000         3.000000   \n",
              "75%      24.000000    3972.250000             4.000000         4.000000   \n",
              "max      72.000000   18424.000000             4.000000         4.000000   \n",
              "\n",
              "               Age  Existing_credits    Liability  \n",
              "count  1000.000000       1000.000000  1000.000000  \n",
              "mean     35.546000          1.407000     1.155000  \n",
              "std      11.375469          0.577654     0.362086  \n",
              "min      19.000000          1.000000     1.000000  \n",
              "25%      27.000000          1.000000     1.000000  \n",
              "50%      33.000000          1.000000     1.000000  \n",
              "75%      42.000000          2.000000     1.000000  \n",
              "max      75.000000          4.000000     2.000000  "
            ],
            "text/html": [
              "\n",
              "  <div id=\"df-07a8216d-b0b8-492e-943c-3b3d33b5a1e1\">\n",
              "    <div class=\"colab-df-container\">\n",
              "      <div>\n",
              "<style scoped>\n",
              "    .dataframe tbody tr th:only-of-type {\n",
              "        vertical-align: middle;\n",
              "    }\n",
              "\n",
              "    .dataframe tbody tr th {\n",
              "        vertical-align: top;\n",
              "    }\n",
              "\n",
              "    .dataframe thead th {\n",
              "        text-align: right;\n",
              "    }\n",
              "</style>\n",
              "<table border=\"1\" class=\"dataframe\">\n",
              "  <thead>\n",
              "    <tr style=\"text-align: right;\">\n",
              "      <th></th>\n",
              "      <th>Duration</th>\n",
              "      <th>Credit_amount</th>\n",
              "      <th>Installment_percent</th>\n",
              "      <th>Residence_since</th>\n",
              "      <th>Age</th>\n",
              "      <th>Existing_credits</th>\n",
              "      <th>Liability</th>\n",
              "    </tr>\n",
              "  </thead>\n",
              "  <tbody>\n",
              "    <tr>\n",
              "      <th>count</th>\n",
              "      <td>1000.000000</td>\n",
              "      <td>1000.000000</td>\n",
              "      <td>1000.000000</td>\n",
              "      <td>1000.000000</td>\n",
              "      <td>1000.000000</td>\n",
              "      <td>1000.000000</td>\n",
              "      <td>1000.000000</td>\n",
              "    </tr>\n",
              "    <tr>\n",
              "      <th>mean</th>\n",
              "      <td>20.903000</td>\n",
              "      <td>3271.258000</td>\n",
              "      <td>2.973000</td>\n",
              "      <td>2.845000</td>\n",
              "      <td>35.546000</td>\n",
              "      <td>1.407000</td>\n",
              "      <td>1.155000</td>\n",
              "    </tr>\n",
              "    <tr>\n",
              "      <th>std</th>\n",
              "      <td>12.058814</td>\n",
              "      <td>2822.736876</td>\n",
              "      <td>1.118715</td>\n",
              "      <td>1.103718</td>\n",
              "      <td>11.375469</td>\n",
              "      <td>0.577654</td>\n",
              "      <td>0.362086</td>\n",
              "    </tr>\n",
              "    <tr>\n",
              "      <th>min</th>\n",
              "      <td>4.000000</td>\n",
              "      <td>250.000000</td>\n",
              "      <td>1.000000</td>\n",
              "      <td>1.000000</td>\n",
              "      <td>19.000000</td>\n",
              "      <td>1.000000</td>\n",
              "      <td>1.000000</td>\n",
              "    </tr>\n",
              "    <tr>\n",
              "      <th>25%</th>\n",
              "      <td>12.000000</td>\n",
              "      <td>1365.500000</td>\n",
              "      <td>2.000000</td>\n",
              "      <td>2.000000</td>\n",
              "      <td>27.000000</td>\n",
              "      <td>1.000000</td>\n",
              "      <td>1.000000</td>\n",
              "    </tr>\n",
              "    <tr>\n",
              "      <th>50%</th>\n",
              "      <td>18.000000</td>\n",
              "      <td>2319.500000</td>\n",
              "      <td>3.000000</td>\n",
              "      <td>3.000000</td>\n",
              "      <td>33.000000</td>\n",
              "      <td>1.000000</td>\n",
              "      <td>1.000000</td>\n",
              "    </tr>\n",
              "    <tr>\n",
              "      <th>75%</th>\n",
              "      <td>24.000000</td>\n",
              "      <td>3972.250000</td>\n",
              "      <td>4.000000</td>\n",
              "      <td>4.000000</td>\n",
              "      <td>42.000000</td>\n",
              "      <td>2.000000</td>\n",
              "      <td>1.000000</td>\n",
              "    </tr>\n",
              "    <tr>\n",
              "      <th>max</th>\n",
              "      <td>72.000000</td>\n",
              "      <td>18424.000000</td>\n",
              "      <td>4.000000</td>\n",
              "      <td>4.000000</td>\n",
              "      <td>75.000000</td>\n",
              "      <td>4.000000</td>\n",
              "      <td>2.000000</td>\n",
              "    </tr>\n",
              "  </tbody>\n",
              "</table>\n",
              "</div>\n",
              "      <button class=\"colab-df-convert\" onclick=\"convertToInteractive('df-07a8216d-b0b8-492e-943c-3b3d33b5a1e1')\"\n",
              "              title=\"Convert this dataframe to an interactive table.\"\n",
              "              style=\"display:none;\">\n",
              "        \n",
              "  <svg xmlns=\"http://www.w3.org/2000/svg\" height=\"24px\"viewBox=\"0 0 24 24\"\n",
              "       width=\"24px\">\n",
              "    <path d=\"M0 0h24v24H0V0z\" fill=\"none\"/>\n",
              "    <path d=\"M18.56 5.44l.94 2.06.94-2.06 2.06-.94-2.06-.94-.94-2.06-.94 2.06-2.06.94zm-11 1L8.5 8.5l.94-2.06 2.06-.94-2.06-.94L8.5 2.5l-.94 2.06-2.06.94zm10 10l.94 2.06.94-2.06 2.06-.94-2.06-.94-.94-2.06-.94 2.06-2.06.94z\"/><path d=\"M17.41 7.96l-1.37-1.37c-.4-.4-.92-.59-1.43-.59-.52 0-1.04.2-1.43.59L10.3 9.45l-7.72 7.72c-.78.78-.78 2.05 0 2.83L4 21.41c.39.39.9.59 1.41.59.51 0 1.02-.2 1.41-.59l7.78-7.78 2.81-2.81c.8-.78.8-2.07 0-2.86zM5.41 20L4 18.59l7.72-7.72 1.47 1.35L5.41 20z\"/>\n",
              "  </svg>\n",
              "      </button>\n",
              "      \n",
              "  <style>\n",
              "    .colab-df-container {\n",
              "      display:flex;\n",
              "      flex-wrap:wrap;\n",
              "      gap: 12px;\n",
              "    }\n",
              "\n",
              "    .colab-df-convert {\n",
              "      background-color: #E8F0FE;\n",
              "      border: none;\n",
              "      border-radius: 50%;\n",
              "      cursor: pointer;\n",
              "      display: none;\n",
              "      fill: #1967D2;\n",
              "      height: 32px;\n",
              "      padding: 0 0 0 0;\n",
              "      width: 32px;\n",
              "    }\n",
              "\n",
              "    .colab-df-convert:hover {\n",
              "      background-color: #E2EBFA;\n",
              "      box-shadow: 0px 1px 2px rgba(60, 64, 67, 0.3), 0px 1px 3px 1px rgba(60, 64, 67, 0.15);\n",
              "      fill: #174EA6;\n",
              "    }\n",
              "\n",
              "    [theme=dark] .colab-df-convert {\n",
              "      background-color: #3B4455;\n",
              "      fill: #D2E3FC;\n",
              "    }\n",
              "\n",
              "    [theme=dark] .colab-df-convert:hover {\n",
              "      background-color: #434B5C;\n",
              "      box-shadow: 0px 1px 3px 1px rgba(0, 0, 0, 0.15);\n",
              "      filter: drop-shadow(0px 1px 2px rgba(0, 0, 0, 0.3));\n",
              "      fill: #FFFFFF;\n",
              "    }\n",
              "  </style>\n",
              "\n",
              "      <script>\n",
              "        const buttonEl =\n",
              "          document.querySelector('#df-07a8216d-b0b8-492e-943c-3b3d33b5a1e1 button.colab-df-convert');\n",
              "        buttonEl.style.display =\n",
              "          google.colab.kernel.accessAllowed ? 'block' : 'none';\n",
              "\n",
              "        async function convertToInteractive(key) {\n",
              "          const element = document.querySelector('#df-07a8216d-b0b8-492e-943c-3b3d33b5a1e1');\n",
              "          const dataTable =\n",
              "            await google.colab.kernel.invokeFunction('convertToInteractive',\n",
              "                                                     [key], {});\n",
              "          if (!dataTable) return;\n",
              "\n",
              "          const docLinkHtml = 'Like what you see? Visit the ' +\n",
              "            '<a target=\"_blank\" href=https://colab.research.google.com/notebooks/data_table.ipynb>data table notebook</a>'\n",
              "            + ' to learn more about interactive tables.';\n",
              "          element.innerHTML = '';\n",
              "          dataTable['output_type'] = 'display_data';\n",
              "          await google.colab.output.renderOutput(dataTable, element);\n",
              "          const docLink = document.createElement('div');\n",
              "          docLink.innerHTML = docLinkHtml;\n",
              "          element.appendChild(docLink);\n",
              "        }\n",
              "      </script>\n",
              "    </div>\n",
              "  </div>\n",
              "  "
            ]
          },
          "metadata": {},
          "execution_count": 410
        }
      ]
    },
    {
      "cell_type": "code",
      "source": [
        "#correlation between numeric variables\n",
        "sns.heatmap(df.corr(),annot=True ,fmt=\".2f\", cmap=\"coolwarm\")"
      ],
      "metadata": {
        "colab": {
          "base_uri": "https://localhost:8080/",
          "height": 435
        },
        "id": "asW_LRk7yVds",
        "outputId": "e60a9ddd-f0e7-405a-e145-33f7d5885041"
      },
      "execution_count": 411,
      "outputs": [
        {
          "output_type": "execute_result",
          "data": {
            "text/plain": [
              "<matplotlib.axes._subplots.AxesSubplot at 0x7f99d7532710>"
            ]
          },
          "metadata": {},
          "execution_count": 411
        },
        {
          "output_type": "display_data",
          "data": {
            "text/plain": [
              "<Figure size 432x288 with 2 Axes>"
            ],
            "image/png": "[encoded data removed]"
          },
          "metadata": {}
        }
      ]
    },
    {
      "cell_type": "code",
      "source": [
        "df.head()"
      ],
      "metadata": {
        "colab": {
          "base_uri": "https://localhost:8080/",
          "height": 456
        },
        "id": "M5vsF9tMXk3h",
        "outputId": "55742e17-6842-4529-f8eb-24b373401551"
      },
      "execution_count": 412,
      "outputs": [
        {
          "output_type": "execute_result",
          "data": {
            "text/plain": [
              "  Status_checking_account  Duration                            Credit_history  \\\n",
              "0                   <0 DM         6                          critical account   \n",
              "1            0 <= <200 DM        48  existing credits paid back duly till now   \n",
              "2     no checking account        12                          critical account   \n",
              "3                   <0 DM        42  existing credits paid back duly till now   \n",
              "4                   <0 DM        24                       delay in paying off   \n",
              "\n",
              "               Purpose  Credit_amount             Savings Employment_since  \\\n",
              "0     radio/television           1169  no savings account        >=7 years   \n",
              "1     radio/television           5951             <100 DM    1<= < 4 years   \n",
              "2            education           2096             <100 DM     4<= <7 years   \n",
              "3  furniture/equipment           7882             <100 DM     4<= <7 years   \n",
              "4            car (new)           4870             <100 DM    1<= < 4 years   \n",
              "\n",
              "   Installment_percent Personal_status_sex Other_debtors_guarantors  ...  \\\n",
              "0                    4                 A93                     none  ...   \n",
              "1                    2                 A92                     none  ...   \n",
              "2                    2                 A93                     none  ...   \n",
              "3                    2                 A93                guarantor  ...   \n",
              "4                    3                 A93                     none  ...   \n",
              "\n",
              "                           Property Age  Other_installment   Housing  \\\n",
              "0                       real estate  67               none       own   \n",
              "1                       real estate  22               none       own   \n",
              "2                       real estate  49               none       own   \n",
              "3  savings agreement/life insurance  45               none  for free   \n",
              "4             unknown / no property  53               none  for free   \n",
              "\n",
              "  Existing_credits                          Job Liability  Telephone Foreign  \\\n",
              "0                2  skilled employee / official         1        yes     yes   \n",
              "1                1  skilled employee / official         1       none     yes   \n",
              "2                1         unskilled - resident         2       none     yes   \n",
              "3                1  skilled employee / official         2       none     yes   \n",
              "4                2  skilled employee / official         2       none     yes   \n",
              "\n",
              "  Cost_Matrix_Risk  \n",
              "0        Good Risk  \n",
              "1         Bad Risk  \n",
              "2        Good Risk  \n",
              "3        Good Risk  \n",
              "4         Bad Risk  \n",
              "\n",
              "[5 rows x 21 columns]"
            ],
            "text/html": [
              "\n",
              "  <div id=\"df-fb6bb033-cae0-4e1c-822d-d4328a9f4d1e\">\n",
              "    <div class=\"colab-df-container\">\n",
              "      <div>\n",
              "<style scoped>\n",
              "    .dataframe tbody tr th:only-of-type {\n",
              "        vertical-align: middle;\n",
              "    }\n",
              "\n",
              "    .dataframe tbody tr th {\n",
              "        vertical-align: top;\n",
              "    }\n",
              "\n",
              "    .dataframe thead th {\n",
              "        text-align: right;\n",
              "    }\n",
              "</style>\n",
              "<table border=\"1\" class=\"dataframe\">\n",
              "  <thead>\n",
              "    <tr style=\"text-align: right;\">\n",
              "      <th></th>\n",
              "      <th>Status_checking_account</th>\n",
              "      <th>Duration</th>\n",
              "      <th>Credit_history</th>\n",
              "      <th>Purpose</th>\n",
              "      <th>Credit_amount</th>\n",
              "      <th>Savings</th>\n",
              "      <th>Employment_since</th>\n",
              "      <th>Installment_percent</th>\n",
              "      <th>Personal_status_sex</th>\n",
              "      <th>Other_debtors_guarantors</th>\n",
              "      <th>...</th>\n",
              "      <th>Property</th>\n",
              "      <th>Age</th>\n",
              "      <th>Other_installment</th>\n",
              "      <th>Housing</th>\n",
              "      <th>Existing_credits</th>\n",
              "      <th>Job</th>\n",
              "      <th>Liability</th>\n",
              "      <th>Telephone</th>\n",
              "      <th>Foreign</th>\n",
              "      <th>Cost_Matrix_Risk</th>\n",
              "    </tr>\n",
              "  </thead>\n",
              "  <tbody>\n",
              "    <tr>\n",
              "      <th>0</th>\n",
              "      <td>&lt;0 DM</td>\n",
              "      <td>6</td>\n",
              "      <td>critical account</td>\n",
              "      <td>radio/television</td>\n",
              "      <td>1169</td>\n",
              "      <td>no savings account</td>\n",
              "      <td>&gt;=7 years</td>\n",
              "      <td>4</td>\n",
              "      <td>A93</td>\n",
              "      <td>none</td>\n",
              "      <td>...</td>\n",
              "      <td>real estate</td>\n",
              "      <td>67</td>\n",
              "      <td>none</td>\n",
              "      <td>own</td>\n",
              "      <td>2</td>\n",
              "      <td>skilled employee / official</td>\n",
              "      <td>1</td>\n",
              "      <td>yes</td>\n",
              "      <td>yes</td>\n",
              "      <td>Good Risk</td>\n",
              "    </tr>\n",
              "    <tr>\n",
              "      <th>1</th>\n",
              "      <td>0 &lt;= &lt;200 DM</td>\n",
              "      <td>48</td>\n",
              "      <td>existing credits paid back duly till now</td>\n",
              "      <td>radio/television</td>\n",
              "      <td>5951</td>\n",
              "      <td>&lt;100 DM</td>\n",
              "      <td>1&lt;= &lt; 4 years</td>\n",
              "      <td>2</td>\n",
              "      <td>A92</td>\n",
              "      <td>none</td>\n",
              "      <td>...</td>\n",
              "      <td>real estate</td>\n",
              "      <td>22</td>\n",
              "      <td>none</td>\n",
              "      <td>own</td>\n",
              "      <td>1</td>\n",
              "      <td>skilled employee / official</td>\n",
              "      <td>1</td>\n",
              "      <td>none</td>\n",
              "      <td>yes</td>\n",
              "      <td>Bad Risk</td>\n",
              "    </tr>\n",
              "    <tr>\n",
              "      <th>2</th>\n",
              "      <td>no checking account</td>\n",
              "      <td>12</td>\n",
              "      <td>critical account</td>\n",
              "      <td>education</td>\n",
              "      <td>2096</td>\n",
              "      <td>&lt;100 DM</td>\n",
              "      <td>4&lt;= &lt;7 years</td>\n",
              "      <td>2</td>\n",
              "      <td>A93</td>\n",
              "      <td>none</td>\n",
              "      <td>...</td>\n",
              "      <td>real estate</td>\n",
              "      <td>49</td>\n",
              "      <td>none</td>\n",
              "      <td>own</td>\n",
              "      <td>1</td>\n",
              "      <td>unskilled - resident</td>\n",
              "      <td>2</td>\n",
              "      <td>none</td>\n",
              "      <td>yes</td>\n",
              "      <td>Good Risk</td>\n",
              "    </tr>\n",
              "    <tr>\n",
              "      <th>3</th>\n",
              "      <td>&lt;0 DM</td>\n",
              "      <td>42</td>\n",
              "      <td>existing credits paid back duly till now</td>\n",
              "      <td>furniture/equipment</td>\n",
              "      <td>7882</td>\n",
              "      <td>&lt;100 DM</td>\n",
              "      <td>4&lt;= &lt;7 years</td>\n",
              "      <td>2</td>\n",
              "      <td>A93</td>\n",
              "      <td>guarantor</td>\n",
              "      <td>...</td>\n",
              "      <td>savings agreement/life insurance</td>\n",
              "      <td>45</td>\n",
              "      <td>none</td>\n",
              "      <td>for free</td>\n",
              "      <td>1</td>\n",
              "      <td>skilled employee / official</td>\n",
              "      <td>2</td>\n",
              "      <td>none</td>\n",
              "      <td>yes</td>\n",
              "      <td>Good Risk</td>\n",
              "    </tr>\n",
              "    <tr>\n",
              "      <th>4</th>\n",
              "      <td>&lt;0 DM</td>\n",
              "      <td>24</td>\n",
              "      <td>delay in paying off</td>\n",
              "      <td>car (new)</td>\n",
              "      <td>4870</td>\n",
              "      <td>&lt;100 DM</td>\n",
              "      <td>1&lt;= &lt; 4 years</td>\n",
              "      <td>3</td>\n",
              "      <td>A93</td>\n",
              "      <td>none</td>\n",
              "      <td>...</td>\n",
              "      <td>unknown / no property</td>\n",
              "      <td>53</td>\n",
              "      <td>none</td>\n",
              "      <td>for free</td>\n",
              "      <td>2</td>\n",
              "      <td>skilled employee / official</td>\n",
              "      <td>2</td>\n",
              "      <td>none</td>\n",
              "      <td>yes</td>\n",
              "      <td>Bad Risk</td>\n",
              "    </tr>\n",
              "  </tbody>\n",
              "</table>\n",
              "<p>5 rows × 21 columns</p>\n",
              "</div>\n",
              "      <button class=\"colab-df-convert\" onclick=\"convertToInteractive('df-fb6bb033-cae0-4e1c-822d-d4328a9f4d1e')\"\n",
              "              title=\"Convert this dataframe to an interactive table.\"\n",
              "              style=\"display:none;\">\n",
              "        \n",
              "  <svg xmlns=\"http://www.w3.org/2000/svg\" height=\"24px\"viewBox=\"0 0 24 24\"\n",
              "       width=\"24px\">\n",
              "    <path d=\"M0 0h24v24H0V0z\" fill=\"none\"/>\n",
              "    <path d=\"M18.56 5.44l.94 2.06.94-2.06 2.06-.94-2.06-.94-.94-2.06-.94 2.06-2.06.94zm-11 1L8.5 8.5l.94-2.06 2.06-.94-2.06-.94L8.5 2.5l-.94 2.06-2.06.94zm10 10l.94 2.06.94-2.06 2.06-.94-2.06-.94-.94-2.06-.94 2.06-2.06.94z\"/><path d=\"M17.41 7.96l-1.37-1.37c-.4-.4-.92-.59-1.43-.59-.52 0-1.04.2-1.43.59L10.3 9.45l-7.72 7.72c-.78.78-.78 2.05 0 2.83L4 21.41c.39.39.9.59 1.41.59.51 0 1.02-.2 1.41-.59l7.78-7.78 2.81-2.81c.8-.78.8-2.07 0-2.86zM5.41 20L4 18.59l7.72-7.72 1.47 1.35L5.41 20z\"/>\n",
              "  </svg>\n",
              "      </button>\n",
              "      \n",
              "  <style>\n",
              "    .colab-df-container {\n",
              "      display:flex;\n",
              "      flex-wrap:wrap;\n",
              "      gap: 12px;\n",
              "    }\n",
              "\n",
              "    .colab-df-convert {\n",
              "      background-color: #E8F0FE;\n",
              "      border: none;\n",
              "      border-radius: 50%;\n",
              "      cursor: pointer;\n",
              "      display: none;\n",
              "      fill: #1967D2;\n",
              "      height: 32px;\n",
              "      padding: 0 0 0 0;\n",
              "      width: 32px;\n",
              "    }\n",
              "\n",
              "    .colab-df-convert:hover {\n",
              "      background-color: #E2EBFA;\n",
              "      box-shadow: 0px 1px 2px rgba(60, 64, 67, 0.3), 0px 1px 3px 1px rgba(60, 64, 67, 0.15);\n",
              "      fill: #174EA6;\n",
              "    }\n",
              "\n",
              "    [theme=dark] .colab-df-convert {\n",
              "      background-color: #3B4455;\n",
              "      fill: #D2E3FC;\n",
              "    }\n",
              "\n",
              "    [theme=dark] .colab-df-convert:hover {\n",
              "      background-color: #434B5C;\n",
              "      box-shadow: 0px 1px 3px 1px rgba(0, 0, 0, 0.15);\n",
              "      filter: drop-shadow(0px 1px 2px rgba(0, 0, 0, 0.3));\n",
              "      fill: #FFFFFF;\n",
              "    }\n",
              "  </style>\n",
              "\n",
              "      <script>\n",
              "        const buttonEl =\n",
              "          document.querySelector('#df-fb6bb033-cae0-4e1c-822d-d4328a9f4d1e button.colab-df-convert');\n",
              "        buttonEl.style.display =\n",
              "          google.colab.kernel.accessAllowed ? 'block' : 'none';\n",
              "\n",
              "        async function convertToInteractive(key) {\n",
              "          const element = document.querySelector('#df-fb6bb033-cae0-4e1c-822d-d4328a9f4d1e');\n",
              "          const dataTable =\n",
              "            await google.colab.kernel.invokeFunction('convertToInteractive',\n",
              "                                                     [key], {});\n",
              "          if (!dataTable) return;\n",
              "\n",
              "          const docLinkHtml = 'Like what you see? Visit the ' +\n",
              "            '<a target=\"_blank\" href=https://colab.research.google.com/notebooks/data_table.ipynb>data table notebook</a>'\n",
              "            + ' to learn more about interactive tables.';\n",
              "          element.innerHTML = '';\n",
              "          dataTable['output_type'] = 'display_data';\n",
              "          await google.colab.output.renderOutput(dataTable, element);\n",
              "          const docLink = document.createElement('div');\n",
              "          docLink.innerHTML = docLinkHtml;\n",
              "          element.appendChild(docLink);\n",
              "        }\n",
              "      </script>\n",
              "    </div>\n",
              "  </div>\n",
              "  "
            ]
          },
          "metadata": {},
          "execution_count": 412
        }
      ]
    },
    {
      "cell_type": "code",
      "source": [
        "# split Personal_status_sex, into two categories\n",
        "sex={ 'A95':\"female\",'A94':\"male\",'A93':\"male\", 'A92':\"female\", 'A91':\"male\"}\n",
        "df[\"Sex\"]=df[\"Personal_status_sex\"].map(sex)\n",
        "\n",
        "status={ 'A95':\"single\",'A94':\"notsingle\",'A93':\"single\", 'A92':\"notsingle\", 'A91':\"notsingle\"}\n",
        "df[\"Status\"]=df[\"Personal_status_sex\"].map(status)\n",
        "\n",
        "df[[\"Sex\",\"Status\"]]"
      ],
      "metadata": {
        "colab": {
          "base_uri": "https://localhost:8080/",
          "height": 423
        },
        "id": "O42g6-9kuGOJ",
        "outputId": "7e0c8c32-e5a2-4be8-e2ba-740b283a859d"
      },
      "execution_count": 413,
      "outputs": [
        {
          "output_type": "execute_result",
          "data": {
            "text/plain": [
              "        Sex     Status\n",
              "0      male     single\n",
              "1    female  notsingle\n",
              "2      male     single\n",
              "3      male     single\n",
              "4      male     single\n",
              "..      ...        ...\n",
              "995  female  notsingle\n",
              "996    male  notsingle\n",
              "997    male     single\n",
              "998    male     single\n",
              "999    male     single\n",
              "\n",
              "[1000 rows x 2 columns]"
            ],
            "text/html": [
              "\n",
              "  <div id=\"df-7a60a9ac-90af-44ac-82c0-342064a26180\">\n",
              "    <div class=\"colab-df-container\">\n",
              "      <div>\n",
              "<style scoped>\n",
              "    .dataframe tbody tr th:only-of-type {\n",
              "        vertical-align: middle;\n",
              "    }\n",
              "\n",
              "    .dataframe tbody tr th {\n",
              "        vertical-align: top;\n",
              "    }\n",
              "\n",
              "    .dataframe thead th {\n",
              "        text-align: right;\n",
              "    }\n",
              "</style>\n",
              "<table border=\"1\" class=\"dataframe\">\n",
              "  <thead>\n",
              "    <tr style=\"text-align: right;\">\n",
              "      <th></th>\n",
              "      <th>Sex</th>\n",
              "      <th>Status</th>\n",
              "    </tr>\n",
              "  </thead>\n",
              "  <tbody>\n",
              "    <tr>\n",
              "      <th>0</th>\n",
              "      <td>male</td>\n",
              "      <td>single</td>\n",
              "    </tr>\n",
              "    <tr>\n",
              "      <th>1</th>\n",
              "      <td>female</td>\n",
              "      <td>notsingle</td>\n",
              "    </tr>\n",
              "    <tr>\n",
              "      <th>2</th>\n",
              "      <td>male</td>\n",
              "      <td>single</td>\n",
              "    </tr>\n",
              "    <tr>\n",
              "      <th>3</th>\n",
              "      <td>male</td>\n",
              "      <td>single</td>\n",
              "    </tr>\n",
              "    <tr>\n",
              "      <th>4</th>\n",
              "      <td>male</td>\n",
              "      <td>single</td>\n",
              "    </tr>\n",
              "    <tr>\n",
              "      <th>...</th>\n",
              "      <td>...</td>\n",
              "      <td>...</td>\n",
              "    </tr>\n",
              "    <tr>\n",
              "      <th>995</th>\n",
              "      <td>female</td>\n",
              "      <td>notsingle</td>\n",
              "    </tr>\n",
              "    <tr>\n",
              "      <th>996</th>\n",
              "      <td>male</td>\n",
              "      <td>notsingle</td>\n",
              "    </tr>\n",
              "    <tr>\n",
              "      <th>997</th>\n",
              "      <td>male</td>\n",
              "      <td>single</td>\n",
              "    </tr>\n",
              "    <tr>\n",
              "      <th>998</th>\n",
              "      <td>male</td>\n",
              "      <td>single</td>\n",
              "    </tr>\n",
              "    <tr>\n",
              "      <th>999</th>\n",
              "      <td>male</td>\n",
              "      <td>single</td>\n",
              "    </tr>\n",
              "  </tbody>\n",
              "</table>\n",
              "<p>1000 rows × 2 columns</p>\n",
              "</div>\n",
              "      <button class=\"colab-df-convert\" onclick=\"convertToInteractive('df-7a60a9ac-90af-44ac-82c0-342064a26180')\"\n",
              "              title=\"Convert this dataframe to an interactive table.\"\n",
              "              style=\"display:none;\">\n",
              "        \n",
              "  <svg xmlns=\"http://www.w3.org/2000/svg\" height=\"24px\"viewBox=\"0 0 24 24\"\n",
              "       width=\"24px\">\n",
              "    <path d=\"M0 0h24v24H0V0z\" fill=\"none\"/>\n",
              "    <path d=\"M18.56 5.44l.94 2.06.94-2.06 2.06-.94-2.06-.94-.94-2.06-.94 2.06-2.06.94zm-11 1L8.5 8.5l.94-2.06 2.06-.94-2.06-.94L8.5 2.5l-.94 2.06-2.06.94zm10 10l.94 2.06.94-2.06 2.06-.94-2.06-.94-.94-2.06-.94 2.06-2.06.94z\"/><path d=\"M17.41 7.96l-1.37-1.37c-.4-.4-.92-.59-1.43-.59-.52 0-1.04.2-1.43.59L10.3 9.45l-7.72 7.72c-.78.78-.78 2.05 0 2.83L4 21.41c.39.39.9.59 1.41.59.51 0 1.02-.2 1.41-.59l7.78-7.78 2.81-2.81c.8-.78.8-2.07 0-2.86zM5.41 20L4 18.59l7.72-7.72 1.47 1.35L5.41 20z\"/>\n",
              "  </svg>\n",
              "      </button>\n",
              "      \n",
              "  <style>\n",
              "    .colab-df-container {\n",
              "      display:flex;\n",
              "      flex-wrap:wrap;\n",
              "      gap: 12px;\n",
              "    }\n",
              "\n",
              "    .colab-df-convert {\n",
              "      background-color: #E8F0FE;\n",
              "      border: none;\n",
              "      border-radius: 50%;\n",
              "      cursor: pointer;\n",
              "      display: none;\n",
              "      fill: #1967D2;\n",
              "      height: 32px;\n",
              "      padding: 0 0 0 0;\n",
              "      width: 32px;\n",
              "    }\n",
              "\n",
              "    .colab-df-convert:hover {\n",
              "      background-color: #E2EBFA;\n",
              "      box-shadow: 0px 1px 2px rgba(60, 64, 67, 0.3), 0px 1px 3px 1px rgba(60, 64, 67, 0.15);\n",
              "      fill: #174EA6;\n",
              "    }\n",
              "\n",
              "    [theme=dark] .colab-df-convert {\n",
              "      background-color: #3B4455;\n",
              "      fill: #D2E3FC;\n",
              "    }\n",
              "\n",
              "    [theme=dark] .colab-df-convert:hover {\n",
              "      background-color: #434B5C;\n",
              "      box-shadow: 0px 1px 3px 1px rgba(0, 0, 0, 0.15);\n",
              "      filter: drop-shadow(0px 1px 2px rgba(0, 0, 0, 0.3));\n",
              "      fill: #FFFFFF;\n",
              "    }\n",
              "  </style>\n",
              "\n",
              "      <script>\n",
              "        const buttonEl =\n",
              "          document.querySelector('#df-7a60a9ac-90af-44ac-82c0-342064a26180 button.colab-df-convert');\n",
              "        buttonEl.style.display =\n",
              "          google.colab.kernel.accessAllowed ? 'block' : 'none';\n",
              "\n",
              "        async function convertToInteractive(key) {\n",
              "          const element = document.querySelector('#df-7a60a9ac-90af-44ac-82c0-342064a26180');\n",
              "          const dataTable =\n",
              "            await google.colab.kernel.invokeFunction('convertToInteractive',\n",
              "                                                     [key], {});\n",
              "          if (!dataTable) return;\n",
              "\n",
              "          const docLinkHtml = 'Like what you see? Visit the ' +\n",
              "            '<a target=\"_blank\" href=https://colab.research.google.com/notebooks/data_table.ipynb>data table notebook</a>'\n",
              "            + ' to learn more about interactive tables.';\n",
              "          element.innerHTML = '';\n",
              "          dataTable['output_type'] = 'display_data';\n",
              "          await google.colab.output.renderOutput(dataTable, element);\n",
              "          const docLink = document.createElement('div');\n",
              "          docLink.innerHTML = docLinkHtml;\n",
              "          element.appendChild(docLink);\n",
              "        }\n",
              "      </script>\n",
              "    </div>\n",
              "  </div>\n",
              "  "
            ]
          },
          "metadata": {},
          "execution_count": 413
        }
      ]
    },
    {
      "cell_type": "code",
      "source": [
        "# which should be the protected/unprotected groups?\n",
        "# Probably female/male, we considered age, marital status and foreign status too "
      ],
      "metadata": {
        "id": "o45JSecbzXWL"
      },
      "execution_count": 414,
      "outputs": []
    },
    {
      "cell_type": "code",
      "source": [
        "# feature selection, remove or merge to have enough data in each categories\n",
        "df.columns"
      ],
      "metadata": {
        "id": "FWYzLqESz_5I",
        "colab": {
          "base_uri": "https://localhost:8080/"
        },
        "outputId": "dba46615-7b3e-4f17-f743-b3aa45affbf2"
      },
      "execution_count": 415,
      "outputs": [
        {
          "output_type": "execute_result",
          "data": {
            "text/plain": [
              "Index(['Status_checking_account', 'Duration', 'Credit_history', 'Purpose',\n",
              "       'Credit_amount', 'Savings', 'Employment_since', 'Installment_percent',\n",
              "       'Personal_status_sex', 'Other_debtors_guarantors', 'Residence_since',\n",
              "       'Property', 'Age', 'Other_installment', 'Housing', 'Existing_credits',\n",
              "       'Job', 'Liability', 'Telephone', 'Foreign', 'Cost_Matrix_Risk', 'Sex',\n",
              "       'Status'],\n",
              "      dtype='object')"
            ]
          },
          "metadata": {},
          "execution_count": 415
        }
      ]
    },
    {
      "cell_type": "code",
      "source": [
        "df[\"Sex\"].value_counts()"
      ],
      "metadata": {
        "colab": {
          "base_uri": "https://localhost:8080/"
        },
        "id": "Dz6Nl3ek3yWq",
        "outputId": "a2a5c836-7d86-46d4-9162-723981803fa4"
      },
      "execution_count": 416,
      "outputs": [
        {
          "output_type": "execute_result",
          "data": {
            "text/plain": [
              "male      690\n",
              "female    310\n",
              "Name: Sex, dtype: int64"
            ]
          },
          "metadata": {},
          "execution_count": 416
        }
      ]
    },
    {
      "cell_type": "code",
      "source": [
        "df[\"Status\"].value_counts()"
      ],
      "metadata": {
        "colab": {
          "base_uri": "https://localhost:8080/"
        },
        "id": "5IvavW_I3c4R",
        "outputId": "b9530503-fd96-4ea3-b2fc-afc3349ee96e"
      },
      "execution_count": 417,
      "outputs": [
        {
          "output_type": "execute_result",
          "data": {
            "text/plain": [
              "single       548\n",
              "notsingle    452\n",
              "Name: Status, dtype: int64"
            ]
          },
          "metadata": {},
          "execution_count": 417
        }
      ]
    },
    {
      "cell_type": "code",
      "source": [
        "df[\"Status_checking_account\"].value_counts()"
      ],
      "metadata": {
        "colab": {
          "base_uri": "https://localhost:8080/"
        },
        "id": "OCRvXmsb3gVb",
        "outputId": "ccd18014-67b3-4448-9718-fd5fef136cac"
      },
      "execution_count": 418,
      "outputs": [
        {
          "output_type": "execute_result",
          "data": {
            "text/plain": [
              "no checking account    394\n",
              "<0 DM                  274\n",
              "0 <= <200 DM           269\n",
              ">= 200 DM               63\n",
              "Name: Status_checking_account, dtype: int64"
            ]
          },
          "metadata": {},
          "execution_count": 418
        }
      ]
    },
    {
      "cell_type": "code",
      "source": [
        "df[\"Credit_history\"].value_counts()"
      ],
      "metadata": {
        "colab": {
          "base_uri": "https://localhost:8080/"
        },
        "id": "6Q0q_ENA3676",
        "outputId": "e0bc8db4-7bdf-4f0a-beca-4f3aef09d6a5"
      },
      "execution_count": 419,
      "outputs": [
        {
          "output_type": "execute_result",
          "data": {
            "text/plain": [
              "existing credits paid back duly till now    530\n",
              "critical account                            293\n",
              "delay in paying off                          88\n",
              "all credits at this bank paid back duly      49\n",
              "no credits taken                             40\n",
              "Name: Credit_history, dtype: int64"
            ]
          },
          "metadata": {},
          "execution_count": 419
        }
      ]
    },
    {
      "cell_type": "code",
      "source": [
        "df[\"Purpose\"].value_counts()"
      ],
      "metadata": {
        "colab": {
          "base_uri": "https://localhost:8080/"
        },
        "id": "rlFFhBws4Gbt",
        "outputId": "6fbebe9d-2153-4500-d41d-f45d51d06bcc"
      },
      "execution_count": 420,
      "outputs": [
        {
          "output_type": "execute_result",
          "data": {
            "text/plain": [
              "radio/television       280\n",
              "car (new)              234\n",
              "furniture/equipment    181\n",
              "car (used)             103\n",
              "business                97\n",
              "education               50\n",
              "repairs                 22\n",
              "domestic appliances     12\n",
              "others                  12\n",
              "retraining               9\n",
              "Name: Purpose, dtype: int64"
            ]
          },
          "metadata": {},
          "execution_count": 420
        }
      ]
    },
    {
      "cell_type": "code",
      "source": [
        "df[\"Other_debtors_guarantors\"].value_counts()"
      ],
      "metadata": {
        "colab": {
          "base_uri": "https://localhost:8080/"
        },
        "id": "2FdIOvxs4R1p",
        "outputId": "f7000c54-25e5-4b30-f0a7-8085c8c875a4"
      },
      "execution_count": 421,
      "outputs": [
        {
          "output_type": "execute_result",
          "data": {
            "text/plain": [
              "none            907\n",
              "guarantor        52\n",
              "co-applicant     41\n",
              "Name: Other_debtors_guarantors, dtype: int64"
            ]
          },
          "metadata": {},
          "execution_count": 421
        }
      ]
    },
    {
      "cell_type": "code",
      "source": [
        "df[\"Foreign\"].value_counts()"
      ],
      "metadata": {
        "colab": {
          "base_uri": "https://localhost:8080/"
        },
        "id": "rCcEs3C85hS8",
        "outputId": "4cbafcf5-22e6-4a2b-89e1-4e53c2cbb900"
      },
      "execution_count": 422,
      "outputs": [
        {
          "output_type": "execute_result",
          "data": {
            "text/plain": [
              "yes    963\n",
              "no      37\n",
              "Name: Foreign, dtype: int64"
            ]
          },
          "metadata": {},
          "execution_count": 422
        }
      ]
    },
    {
      "cell_type": "code",
      "source": [
        "df[\"Telephone\"].value_counts()"
      ],
      "metadata": {
        "colab": {
          "base_uri": "https://localhost:8080/"
        },
        "id": "basWdumpBa8q",
        "outputId": "846de8e3-c91f-4888-ed1b-4de419f3ffb9"
      },
      "execution_count": 423,
      "outputs": [
        {
          "output_type": "execute_result",
          "data": {
            "text/plain": [
              "none    596\n",
              "yes     404\n",
              "Name: Telephone, dtype: int64"
            ]
          },
          "metadata": {},
          "execution_count": 423
        }
      ]
    },
    {
      "cell_type": "code",
      "source": [
        "df[\"Age\"].hist()\n",
        "df['Age_bin'] = pd.cut(df['Age'], bins=[0,25,35,45,100], labels=[\"Under25\", \"Under35\", \"Under45\", \"Older\"])  \n",
        "df['Age_bin'].value_counts()\n"
      ],
      "metadata": {
        "colab": {
          "base_uri": "https://localhost:8080/",
          "height": 364
        },
        "id": "t2SrKwFB4ebL",
        "outputId": "a85ab185-fae9-4f8a-a57c-57260472b893"
      },
      "execution_count": 424,
      "outputs": [
        {
          "output_type": "execute_result",
          "data": {
            "text/plain": [
              "Under35    398\n",
              "Under45    226\n",
              "Under25    190\n",
              "Older      186\n",
              "Name: Age_bin, dtype: int64"
            ]
          },
          "metadata": {},
          "execution_count": 424
        },
        {
          "output_type": "display_data",
          "data": {
            "text/plain": [
              "<Figure size 432x288 with 1 Axes>"
            ],
            "image/png": "[encoded data removed]"
          },
          "metadata": {}
        }
      ]
    },
    {
      "cell_type": "code",
      "source": [
        "pd.crosstab(df.Age, df.Cost_Matrix_Risk)"
      ],
      "metadata": {
        "id": "x37p27cJ8Waa",
        "colab": {
          "base_uri": "https://localhost:8080/",
          "height": 1000
        },
        "outputId": "736c356a-74ad-45f9-8986-950914f07d37"
      },
      "execution_count": 425,
      "outputs": [
        {
          "output_type": "execute_result",
          "data": {
            "text/plain": [
              "Cost_Matrix_Risk  Bad Risk  Good Risk\n",
              "Age                                  \n",
              "19                       1          1\n",
              "20                       5          9\n",
              "21                       5          9\n",
              "22                      11         16\n",
              "23                      20         28\n",
              "24                      19         25\n",
              "25                      19         22\n",
              "26                      14         36\n",
              "27                      13         38\n",
              "28                      15         28\n",
              "29                      15         22\n",
              "30                      11         29\n",
              "31                      11         27\n",
              "32                       9         25\n",
              "33                      13         20\n",
              "34                      11         21\n",
              "35                       6         34\n",
              "36                       6         33\n",
              "37                       8         21\n",
              "38                       4         20\n",
              "39                       6         15\n",
              "40                       6         19\n",
              "41                       4         13\n",
              "42                       8         14\n",
              "43                       5         12\n",
              "44                       5         12\n",
              "45                       3         12\n",
              "46                       4         14\n",
              "47                       5         12\n",
              "48                       3          9\n",
              "49                       1         13\n",
              "50                       3          9\n",
              "51                       1          7\n",
              "52                       1          8\n",
              "53                       5          2\n",
              "54                       2          8\n",
              "55                       3          5\n",
              "56                       0          3\n",
              "57                       3          6\n",
              "58                       2          3\n",
              "59                       1          2\n",
              "60                       3          3\n",
              "61                       3          4\n",
              "62                       0          2\n",
              "63                       1          7\n",
              "64                       0          5\n",
              "65                       1          4\n",
              "66                       2          3\n",
              "67                       0          3\n",
              "68                       2          1\n",
              "70                       0          1\n",
              "74                       1          3\n",
              "75                       0          2"
            ],
            "text/html": [
              "\n",
              "  <div id=\"df-e3eaf9a3-250a-462b-8fec-ff86e72d4408\">\n",
              "    <div class=\"colab-df-container\">\n",
              "      <div>\n",
              "<style scoped>\n",
              "    .dataframe tbody tr th:only-of-type {\n",
              "        vertical-align: middle;\n",
              "    }\n",
              "\n",
              "    .dataframe tbody tr th {\n",
              "        vertical-align: top;\n",
              "    }\n",
              "\n",
              "    .dataframe thead th {\n",
              "        text-align: right;\n",
              "    }\n",
              "</style>\n",
              "<table border=\"1\" class=\"dataframe\">\n",
              "  <thead>\n",
              "    <tr style=\"text-align: right;\">\n",
              "      <th>Cost_Matrix_Risk</th>\n",
              "      <th>Bad Risk</th>\n",
              "      <th>Good Risk</th>\n",
              "    </tr>\n",
              "    <tr>\n",
              "      <th>Age</th>\n",
              "      <th></th>\n",
              "      <th></th>\n",
              "    </tr>\n",
              "  </thead>\n",
              "  <tbody>\n",
              "    <tr>\n",
              "      <th>19</th>\n",
              "      <td>1</td>\n",
              "      <td>1</td>\n",
              "    </tr>\n",
              "    <tr>\n",
              "      <th>20</th>\n",
              "      <td>5</td>\n",
              "      <td>9</td>\n",
              "    </tr>\n",
              "    <tr>\n",
              "      <th>21</th>\n",
              "      <td>5</td>\n",
              "      <td>9</td>\n",
              "    </tr>\n",
              "    <tr>\n",
              "      <th>22</th>\n",
              "      <td>11</td>\n",
              "      <td>16</td>\n",
              "    </tr>\n",
              "    <tr>\n",
              "      <th>23</th>\n",
              "      <td>20</td>\n",
              "      <td>28</td>\n",
              "    </tr>\n",
              "    <tr>\n",
              "      <th>24</th>\n",
              "      <td>19</td>\n",
              "      <td>25</td>\n",
              "    </tr>\n",
              "    <tr>\n",
              "      <th>25</th>\n",
              "      <td>19</td>\n",
              "      <td>22</td>\n",
              "    </tr>\n",
              "    <tr>\n",
              "      <th>26</th>\n",
              "      <td>14</td>\n",
              "      <td>36</td>\n",
              "    </tr>\n",
              "    <tr>\n",
              "      <th>27</th>\n",
              "      <td>13</td>\n",
              "      <td>38</td>\n",
              "    </tr>\n",
              "    <tr>\n",
              "      <th>28</th>\n",
              "      <td>15</td>\n",
              "      <td>28</td>\n",
              "    </tr>\n",
              "    <tr>\n",
              "      <th>29</th>\n",
              "      <td>15</td>\n",
              "      <td>22</td>\n",
              "    </tr>\n",
              "    <tr>\n",
              "      <th>30</th>\n",
              "      <td>11</td>\n",
              "      <td>29</td>\n",
              "    </tr>\n",
              "    <tr>\n",
              "      <th>31</th>\n",
              "      <td>11</td>\n",
              "      <td>27</td>\n",
              "    </tr>\n",
              "    <tr>\n",
              "      <th>32</th>\n",
              "      <td>9</td>\n",
              "      <td>25</td>\n",
              "    </tr>\n",
              "    <tr>\n",
              "      <th>33</th>\n",
              "      <td>13</td>\n",
              "      <td>20</td>\n",
              "    </tr>\n",
              "    <tr>\n",
              "      <th>34</th>\n",
              "      <td>11</td>\n",
              "      <td>21</td>\n",
              "    </tr>\n",
              "    <tr>\n",
              "      <th>35</th>\n",
              "      <td>6</td>\n",
              "      <td>34</td>\n",
              "    </tr>\n",
              "    <tr>\n",
              "      <th>36</th>\n",
              "      <td>6</td>\n",
              "      <td>33</td>\n",
              "    </tr>\n",
              "    <tr>\n",
              "      <th>37</th>\n",
              "      <td>8</td>\n",
              "      <td>21</td>\n",
              "    </tr>\n",
              "    <tr>\n",
              "      <th>38</th>\n",
              "      <td>4</td>\n",
              "      <td>20</td>\n",
              "    </tr>\n",
              "    <tr>\n",
              "      <th>39</th>\n",
              "      <td>6</td>\n",
              "      <td>15</td>\n",
              "    </tr>\n",
              "    <tr>\n",
              "      <th>40</th>\n",
              "      <td>6</td>\n",
              "      <td>19</td>\n",
              "    </tr>\n",
              "    <tr>\n",
              "      <th>41</th>\n",
              "      <td>4</td>\n",
              "      <td>13</td>\n",
              "    </tr>\n",
              "    <tr>\n",
              "      <th>42</th>\n",
              "      <td>8</td>\n",
              "      <td>14</td>\n",
              "    </tr>\n",
              "    <tr>\n",
              "      <th>43</th>\n",
              "      <td>5</td>\n",
              "      <td>12</td>\n",
              "    </tr>\n",
              "    <tr>\n",
              "      <th>44</th>\n",
              "      <td>5</td>\n",
              "      <td>12</td>\n",
              "    </tr>\n",
              "    <tr>\n",
              "      <th>45</th>\n",
              "      <td>3</td>\n",
              "      <td>12</td>\n",
              "    </tr>\n",
              "    <tr>\n",
              "      <th>46</th>\n",
              "      <td>4</td>\n",
              "      <td>14</td>\n",
              "    </tr>\n",
              "    <tr>\n",
              "      <th>47</th>\n",
              "      <td>5</td>\n",
              "      <td>12</td>\n",
              "    </tr>\n",
              "    <tr>\n",
              "      <th>48</th>\n",
              "      <td>3</td>\n",
              "      <td>9</td>\n",
              "    </tr>\n",
              "    <tr>\n",
              "      <th>49</th>\n",
              "      <td>1</td>\n",
              "      <td>13</td>\n",
              "    </tr>\n",
              "    <tr>\n",
              "      <th>50</th>\n",
              "      <td>3</td>\n",
              "      <td>9</td>\n",
              "    </tr>\n",
              "    <tr>\n",
              "      <th>51</th>\n",
              "      <td>1</td>\n",
              "      <td>7</td>\n",
              "    </tr>\n",
              "    <tr>\n",
              "      <th>52</th>\n",
              "      <td>1</td>\n",
              "      <td>8</td>\n",
              "    </tr>\n",
              "    <tr>\n",
              "      <th>53</th>\n",
              "      <td>5</td>\n",
              "      <td>2</td>\n",
              "    </tr>\n",
              "    <tr>\n",
              "      <th>54</th>\n",
              "      <td>2</td>\n",
              "      <td>8</td>\n",
              "    </tr>\n",
              "    <tr>\n",
              "      <th>55</th>\n",
              "      <td>3</td>\n",
              "      <td>5</td>\n",
              "    </tr>\n",
              "    <tr>\n",
              "      <th>56</th>\n",
              "      <td>0</td>\n",
              "      <td>3</td>\n",
              "    </tr>\n",
              "    <tr>\n",
              "      <th>57</th>\n",
              "      <td>3</td>\n",
              "      <td>6</td>\n",
              "    </tr>\n",
              "    <tr>\n",
              "      <th>58</th>\n",
              "      <td>2</td>\n",
              "      <td>3</td>\n",
              "    </tr>\n",
              "    <tr>\n",
              "      <th>59</th>\n",
              "      <td>1</td>\n",
              "      <td>2</td>\n",
              "    </tr>\n",
              "    <tr>\n",
              "      <th>60</th>\n",
              "      <td>3</td>\n",
              "      <td>3</td>\n",
              "    </tr>\n",
              "    <tr>\n",
              "      <th>61</th>\n",
              "      <td>3</td>\n",
              "      <td>4</td>\n",
              "    </tr>\n",
              "    <tr>\n",
              "      <th>62</th>\n",
              "      <td>0</td>\n",
              "      <td>2</td>\n",
              "    </tr>\n",
              "    <tr>\n",
              "      <th>63</th>\n",
              "      <td>1</td>\n",
              "      <td>7</td>\n",
              "    </tr>\n",
              "    <tr>\n",
              "      <th>64</th>\n",
              "      <td>0</td>\n",
              "      <td>5</td>\n",
              "    </tr>\n",
              "    <tr>\n",
              "      <th>65</th>\n",
              "      <td>1</td>\n",
              "      <td>4</td>\n",
              "    </tr>\n",
              "    <tr>\n",
              "      <th>66</th>\n",
              "      <td>2</td>\n",
              "      <td>3</td>\n",
              "    </tr>\n",
              "    <tr>\n",
              "      <th>67</th>\n",
              "      <td>0</td>\n",
              "      <td>3</td>\n",
              "    </tr>\n",
              "    <tr>\n",
              "      <th>68</th>\n",
              "      <td>2</td>\n",
              "      <td>1</td>\n",
              "    </tr>\n",
              "    <tr>\n",
              "      <th>70</th>\n",
              "      <td>0</td>\n",
              "      <td>1</td>\n",
              "    </tr>\n",
              "    <tr>\n",
              "      <th>74</th>\n",
              "      <td>1</td>\n",
              "      <td>3</td>\n",
              "    </tr>\n",
              "    <tr>\n",
              "      <th>75</th>\n",
              "      <td>0</td>\n",
              "      <td>2</td>\n",
              "    </tr>\n",
              "  </tbody>\n",
              "</table>\n",
              "</div>\n",
              "      <button class=\"colab-df-convert\" onclick=\"convertToInteractive('df-e3eaf9a3-250a-462b-8fec-ff86e72d4408')\"\n",
              "              title=\"Convert this dataframe to an interactive table.\"\n",
              "              style=\"display:none;\">\n",
              "        \n",
              "  <svg xmlns=\"http://www.w3.org/2000/svg\" height=\"24px\"viewBox=\"0 0 24 24\"\n",
              "       width=\"24px\">\n",
              "    <path d=\"M0 0h24v24H0V0z\" fill=\"none\"/>\n",
              "    <path d=\"M18.56 5.44l.94 2.06.94-2.06 2.06-.94-2.06-.94-.94-2.06-.94 2.06-2.06.94zm-11 1L8.5 8.5l.94-2.06 2.06-.94-2.06-.94L8.5 2.5l-.94 2.06-2.06.94zm10 10l.94 2.06.94-2.06 2.06-.94-2.06-.94-.94-2.06-.94 2.06-2.06.94z\"/><path d=\"M17.41 7.96l-1.37-1.37c-.4-.4-.92-.59-1.43-.59-.52 0-1.04.2-1.43.59L10.3 9.45l-7.72 7.72c-.78.78-.78 2.05 0 2.83L4 21.41c.39.39.9.59 1.41.59.51 0 1.02-.2 1.41-.59l7.78-7.78 2.81-2.81c.8-.78.8-2.07 0-2.86zM5.41 20L4 18.59l7.72-7.72 1.47 1.35L5.41 20z\"/>\n",
              "  </svg>\n",
              "      </button>\n",
              "      \n",
              "  <style>\n",
              "    .colab-df-container {\n",
              "      display:flex;\n",
              "      flex-wrap:wrap;\n",
              "      gap: 12px;\n",
              "    }\n",
              "\n",
              "    .colab-df-convert {\n",
              "      background-color: #E8F0FE;\n",
              "      border: none;\n",
              "      border-radius: 50%;\n",
              "      cursor: pointer;\n",
              "      display: none;\n",
              "      fill: #1967D2;\n",
              "      height: 32px;\n",
              "      padding: 0 0 0 0;\n",
              "      width: 32px;\n",
              "    }\n",
              "\n",
              "    .colab-df-convert:hover {\n",
              "      background-color: #E2EBFA;\n",
              "      box-shadow: 0px 1px 2px rgba(60, 64, 67, 0.3), 0px 1px 3px 1px rgba(60, 64, 67, 0.15);\n",
              "      fill: #174EA6;\n",
              "    }\n",
              "\n",
              "    [theme=dark] .colab-df-convert {\n",
              "      background-color: #3B4455;\n",
              "      fill: #D2E3FC;\n",
              "    }\n",
              "\n",
              "    [theme=dark] .colab-df-convert:hover {\n",
              "      background-color: #434B5C;\n",
              "      box-shadow: 0px 1px 3px 1px rgba(0, 0, 0, 0.15);\n",
              "      filter: drop-shadow(0px 1px 2px rgba(0, 0, 0, 0.3));\n",
              "      fill: #FFFFFF;\n",
              "    }\n",
              "  </style>\n",
              "\n",
              "      <script>\n",
              "        const buttonEl =\n",
              "          document.querySelector('#df-e3eaf9a3-250a-462b-8fec-ff86e72d4408 button.colab-df-convert');\n",
              "        buttonEl.style.display =\n",
              "          google.colab.kernel.accessAllowed ? 'block' : 'none';\n",
              "\n",
              "        async function convertToInteractive(key) {\n",
              "          const element = document.querySelector('#df-e3eaf9a3-250a-462b-8fec-ff86e72d4408');\n",
              "          const dataTable =\n",
              "            await google.colab.kernel.invokeFunction('convertToInteractive',\n",
              "                                                     [key], {});\n",
              "          if (!dataTable) return;\n",
              "\n",
              "          const docLinkHtml = 'Like what you see? Visit the ' +\n",
              "            '<a target=\"_blank\" href=https://colab.research.google.com/notebooks/data_table.ipynb>data table notebook</a>'\n",
              "            + ' to learn more about interactive tables.';\n",
              "          element.innerHTML = '';\n",
              "          dataTable['output_type'] = 'display_data';\n",
              "          await google.colab.output.renderOutput(dataTable, element);\n",
              "          const docLink = document.createElement('div');\n",
              "          docLink.innerHTML = docLinkHtml;\n",
              "          element.appendChild(docLink);\n",
              "        }\n",
              "      </script>\n",
              "    </div>\n",
              "  </div>\n",
              "  "
            ]
          },
          "metadata": {},
          "execution_count": 425
        }
      ]
    },
    {
      "cell_type": "code",
      "source": [
        "from matplotlib import pyplot  as plt\n",
        "df.hist(column='Cost_Matrix_Risk', by='Sex')\n",
        "plt.ylim(ymin=0,ymax=370)\n"
      ],
      "metadata": {
        "colab": {
          "base_uri": "https://localhost:8080/",
          "height": 372
        },
        "id": "kPEynr8D-hIO",
        "outputId": "5cea1a39-ce75-40be-8bd5-7f28d60ade3e"
      },
      "execution_count": 426,
      "outputs": [
        {
          "output_type": "execute_result",
          "data": {
            "text/plain": [
              "(0.0, 370.0)"
            ]
          },
          "metadata": {},
          "execution_count": 426
        },
        {
          "output_type": "display_data",
          "data": {
            "text/plain": [
              "<Figure size 432x288 with 2 Axes>"
            ],
            "image/png": "[encoded data removed]"
          },
          "metadata": {}
        }
      ]
    },
    {
      "cell_type": "code",
      "source": [
        "df['Age_above_25']=df['Age']>25\n",
        "df.hist(column='Cost_Matrix_Risk', by='Age_above_25')\n",
        "plt.ylim(ymin=0,ymax=370)"
      ],
      "metadata": {
        "colab": {
          "base_uri": "https://localhost:8080/",
          "height": 372
        },
        "id": "e4a4uaod_BZe",
        "outputId": "af691868-3b96-4087-9beb-063d7b969e97"
      },
      "execution_count": 427,
      "outputs": [
        {
          "output_type": "execute_result",
          "data": {
            "text/plain": [
              "(0.0, 370.0)"
            ]
          },
          "metadata": {},
          "execution_count": 427
        },
        {
          "output_type": "display_data",
          "data": {
            "text/plain": [
              "<Figure size 432x288 with 2 Axes>"
            ],
            "image/png": "[encoded data removed]"
          },
          "metadata": {}
        }
      ]
    },
    {
      "cell_type": "code",
      "source": [
        "df.Age[df.Cost_Matrix_Risk == 'Bad Risk'].plot(kind='kde')    \n",
        "df.Age[df.Cost_Matrix_Risk == 'Good Risk'].plot(kind='kde')\n",
        "plt.legend(('Bad Risk', 'Good Risk'),loc='best') \n",
        "plt.plot()"
      ],
      "metadata": {
        "id": "ypzAvCHRAKfa",
        "outputId": "854f408e-9fb9-4575-f81d-8728f618b2a3",
        "colab": {
          "base_uri": "https://localhost:8080/",
          "height": 291
        }
      },
      "execution_count": 428,
      "outputs": [
        {
          "output_type": "execute_result",
          "data": {
            "text/plain": [
              "[]"
            ]
          },
          "metadata": {},
          "execution_count": 428
        },
        {
          "output_type": "display_data",
          "data": {
            "text/plain": [
              "<Figure size 432x288 with 1 Axes>"
            ],
            "image/png": "[encoded data removed]"
          },
          "metadata": {}
        }
      ]
    },
    {
      "cell_type": "code",
      "source": [
        "df.columns"
      ],
      "metadata": {
        "colab": {
          "base_uri": "https://localhost:8080/"
        },
        "id": "eiGCxPd6BQA3",
        "outputId": "45384000-d0c3-4b37-8394-3aaa0d9f7e55"
      },
      "execution_count": 429,
      "outputs": [
        {
          "output_type": "execute_result",
          "data": {
            "text/plain": [
              "Index(['Status_checking_account', 'Duration', 'Credit_history', 'Purpose',\n",
              "       'Credit_amount', 'Savings', 'Employment_since', 'Installment_percent',\n",
              "       'Personal_status_sex', 'Other_debtors_guarantors', 'Residence_since',\n",
              "       'Property', 'Age', 'Other_installment', 'Housing', 'Existing_credits',\n",
              "       'Job', 'Liability', 'Telephone', 'Foreign', 'Cost_Matrix_Risk', 'Sex',\n",
              "       'Status', 'Age_bin', 'Age_above_25'],\n",
              "      dtype='object')"
            ]
          },
          "metadata": {},
          "execution_count": 429
        }
      ]
    },
    {
      "cell_type": "code",
      "source": [
        "#generating the features list from what we choose to remove\n",
        "not_features = ['Foreign', 'Personal_status_sex', 'Age', 'Age_above_25'] #keep only Age_bin\n",
        "features = list(set(df.columns)-set(not_features))\n",
        "print(features)"
      ],
      "metadata": {
        "id": "vxfiT0FaA13f",
        "colab": {
          "base_uri": "https://localhost:8080/"
        },
        "outputId": "d1c920aa-09e4-4cc6-f444-1ec5efa05511"
      },
      "execution_count": 430,
      "outputs": [
        {
          "output_type": "stream",
          "name": "stdout",
          "text": [
            "['Sex', 'Status', 'Other_debtors_guarantors', 'Other_installment', 'Housing', 'Employment_since', 'Installment_percent', 'Residence_since', 'Age_bin', 'Liability', 'Credit_history', 'Cost_Matrix_Risk', 'Existing_credits', 'Telephone', 'Duration', 'Savings', 'Property', 'Status_checking_account', 'Purpose', 'Job', 'Credit_amount']\n"
          ]
        }
      ]
    },
    {
      "cell_type": "code",
      "source": [
        ""
      ],
      "metadata": {
        "id": "QIDdHidiIL54"
      },
      "execution_count": 430,
      "outputs": []
    },
    {
      "cell_type": "markdown",
      "source": [
        "##BELOW HERE IS A MODIFIED DATAFRAME"
      ],
      "metadata": {
        "id": "5VZMCR6uSobX"
      }
    },
    {
      "cell_type": "code",
      "source": [
        "features = ['Sex','Duration','Housing','Cost_Matrix_Risk','Status_checking_account','Age_bin','Job']"
      ],
      "metadata": {
        "id": "z_jzrU05Evvk"
      },
      "execution_count": 431,
      "outputs": []
    },
    {
      "cell_type": "code",
      "source": [
        "df.Sex.replace(('female', 'male'), (1, 0), inplace=True)"
      ],
      "metadata": {
        "id": "IPRRxDVLFjCO"
      },
      "execution_count": 432,
      "outputs": []
    },
    {
      "cell_type": "code",
      "source": [
        "df_ohe = df[features]"
      ],
      "metadata": {
        "id": "2w2xdSLTHLM2"
      },
      "execution_count": 433,
      "outputs": []
    },
    {
      "cell_type": "code",
      "source": [
        "pd.get_dummies(df_ohe.Age_bin, prefix='Age')"
      ],
      "metadata": {
        "colab": {
          "base_uri": "https://localhost:8080/",
          "height": 423
        },
        "id": "6u_GjburS4RG",
        "outputId": "5266b6e8-6932-477c-a149-1672d1976c9e"
      },
      "execution_count": 434,
      "outputs": [
        {
          "output_type": "execute_result",
          "data": {
            "text/plain": [
              "     Age_Under25  Age_Under35  Age_Under45  Age_Older\n",
              "0              0            0            0          1\n",
              "1              1            0            0          0\n",
              "2              0            0            0          1\n",
              "3              0            0            1          0\n",
              "4              0            0            0          1\n",
              "..           ...          ...          ...        ...\n",
              "995            0            1            0          0\n",
              "996            0            0            1          0\n",
              "997            0            0            1          0\n",
              "998            1            0            0          0\n",
              "999            0            1            0          0\n",
              "\n",
              "[1000 rows x 4 columns]"
            ],
            "text/html": [
              "\n",
              "  <div id=\"df-3e707c1e-604a-4ef3-8da8-36e8861b02d5\">\n",
              "    <div class=\"colab-df-container\">\n",
              "      <div>\n",
              "<style scoped>\n",
              "    .dataframe tbody tr th:only-of-type {\n",
              "        vertical-align: middle;\n",
              "    }\n",
              "\n",
              "    .dataframe tbody tr th {\n",
              "        vertical-align: top;\n",
              "    }\n",
              "\n",
              "    .dataframe thead th {\n",
              "        text-align: right;\n",
              "    }\n",
              "</style>\n",
              "<table border=\"1\" class=\"dataframe\">\n",
              "  <thead>\n",
              "    <tr style=\"text-align: right;\">\n",
              "      <th></th>\n",
              "      <th>Age_Under25</th>\n",
              "      <th>Age_Under35</th>\n",
              "      <th>Age_Under45</th>\n",
              "      <th>Age_Older</th>\n",
              "    </tr>\n",
              "  </thead>\n",
              "  <tbody>\n",
              "    <tr>\n",
              "      <th>0</th>\n",
              "      <td>0</td>\n",
              "      <td>0</td>\n",
              "      <td>0</td>\n",
              "      <td>1</td>\n",
              "    </tr>\n",
              "    <tr>\n",
              "      <th>1</th>\n",
              "      <td>1</td>\n",
              "      <td>0</td>\n",
              "      <td>0</td>\n",
              "      <td>0</td>\n",
              "    </tr>\n",
              "    <tr>\n",
              "      <th>2</th>\n",
              "      <td>0</td>\n",
              "      <td>0</td>\n",
              "      <td>0</td>\n",
              "      <td>1</td>\n",
              "    </tr>\n",
              "    <tr>\n",
              "      <th>3</th>\n",
              "      <td>0</td>\n",
              "      <td>0</td>\n",
              "      <td>1</td>\n",
              "      <td>0</td>\n",
              "    </tr>\n",
              "    <tr>\n",
              "      <th>4</th>\n",
              "      <td>0</td>\n",
              "      <td>0</td>\n",
              "      <td>0</td>\n",
              "      <td>1</td>\n",
              "    </tr>\n",
              "    <tr>\n",
              "      <th>...</th>\n",
              "      <td>...</td>\n",
              "      <td>...</td>\n",
              "      <td>...</td>\n",
              "      <td>...</td>\n",
              "    </tr>\n",
              "    <tr>\n",
              "      <th>995</th>\n",
              "      <td>0</td>\n",
              "      <td>1</td>\n",
              "      <td>0</td>\n",
              "      <td>0</td>\n",
              "    </tr>\n",
              "    <tr>\n",
              "      <th>996</th>\n",
              "      <td>0</td>\n",
              "      <td>0</td>\n",
              "      <td>1</td>\n",
              "      <td>0</td>\n",
              "    </tr>\n",
              "    <tr>\n",
              "      <th>997</th>\n",
              "      <td>0</td>\n",
              "      <td>0</td>\n",
              "      <td>1</td>\n",
              "      <td>0</td>\n",
              "    </tr>\n",
              "    <tr>\n",
              "      <th>998</th>\n",
              "      <td>1</td>\n",
              "      <td>0</td>\n",
              "      <td>0</td>\n",
              "      <td>0</td>\n",
              "    </tr>\n",
              "    <tr>\n",
              "      <th>999</th>\n",
              "      <td>0</td>\n",
              "      <td>1</td>\n",
              "      <td>0</td>\n",
              "      <td>0</td>\n",
              "    </tr>\n",
              "  </tbody>\n",
              "</table>\n",
              "<p>1000 rows × 4 columns</p>\n",
              "</div>\n",
              "      <button class=\"colab-df-convert\" onclick=\"convertToInteractive('df-3e707c1e-604a-4ef3-8da8-36e8861b02d5')\"\n",
              "              title=\"Convert this dataframe to an interactive table.\"\n",
              "              style=\"display:none;\">\n",
              "        \n",
              "  <svg xmlns=\"http://www.w3.org/2000/svg\" height=\"24px\"viewBox=\"0 0 24 24\"\n",
              "       width=\"24px\">\n",
              "    <path d=\"M0 0h24v24H0V0z\" fill=\"none\"/>\n",
              "    <path d=\"M18.56 5.44l.94 2.06.94-2.06 2.06-.94-2.06-.94-.94-2.06-.94 2.06-2.06.94zm-11 1L8.5 8.5l.94-2.06 2.06-.94-2.06-.94L8.5 2.5l-.94 2.06-2.06.94zm10 10l.94 2.06.94-2.06 2.06-.94-2.06-.94-.94-2.06-.94 2.06-2.06.94z\"/><path d=\"M17.41 7.96l-1.37-1.37c-.4-.4-.92-.59-1.43-.59-.52 0-1.04.2-1.43.59L10.3 9.45l-7.72 7.72c-.78.78-.78 2.05 0 2.83L4 21.41c.39.39.9.59 1.41.59.51 0 1.02-.2 1.41-.59l7.78-7.78 2.81-2.81c.8-.78.8-2.07 0-2.86zM5.41 20L4 18.59l7.72-7.72 1.47 1.35L5.41 20z\"/>\n",
              "  </svg>\n",
              "      </button>\n",
              "      \n",
              "  <style>\n",
              "    .colab-df-container {\n",
              "      display:flex;\n",
              "      flex-wrap:wrap;\n",
              "      gap: 12px;\n",
              "    }\n",
              "\n",
              "    .colab-df-convert {\n",
              "      background-color: #E8F0FE;\n",
              "      border: none;\n",
              "      border-radius: 50%;\n",
              "      cursor: pointer;\n",
              "      display: none;\n",
              "      fill: #1967D2;\n",
              "      height: 32px;\n",
              "      padding: 0 0 0 0;\n",
              "      width: 32px;\n",
              "    }\n",
              "\n",
              "    .colab-df-convert:hover {\n",
              "      background-color: #E2EBFA;\n",
              "      box-shadow: 0px 1px 2px rgba(60, 64, 67, 0.3), 0px 1px 3px 1px rgba(60, 64, 67, 0.15);\n",
              "      fill: #174EA6;\n",
              "    }\n",
              "\n",
              "    [theme=dark] .colab-df-convert {\n",
              "      background-color: #3B4455;\n",
              "      fill: #D2E3FC;\n",
              "    }\n",
              "\n",
              "    [theme=dark] .colab-df-convert:hover {\n",
              "      background-color: #434B5C;\n",
              "      box-shadow: 0px 1px 3px 1px rgba(0, 0, 0, 0.15);\n",
              "      filter: drop-shadow(0px 1px 2px rgba(0, 0, 0, 0.3));\n",
              "      fill: #FFFFFF;\n",
              "    }\n",
              "  </style>\n",
              "\n",
              "      <script>\n",
              "        const buttonEl =\n",
              "          document.querySelector('#df-3e707c1e-604a-4ef3-8da8-36e8861b02d5 button.colab-df-convert');\n",
              "        buttonEl.style.display =\n",
              "          google.colab.kernel.accessAllowed ? 'block' : 'none';\n",
              "\n",
              "        async function convertToInteractive(key) {\n",
              "          const element = document.querySelector('#df-3e707c1e-604a-4ef3-8da8-36e8861b02d5');\n",
              "          const dataTable =\n",
              "            await google.colab.kernel.invokeFunction('convertToInteractive',\n",
              "                                                     [key], {});\n",
              "          if (!dataTable) return;\n",
              "\n",
              "          const docLinkHtml = 'Like what you see? Visit the ' +\n",
              "            '<a target=\"_blank\" href=https://colab.research.google.com/notebooks/data_table.ipynb>data table notebook</a>'\n",
              "            + ' to learn more about interactive tables.';\n",
              "          element.innerHTML = '';\n",
              "          dataTable['output_type'] = 'display_data';\n",
              "          await google.colab.output.renderOutput(dataTable, element);\n",
              "          const docLink = document.createElement('div');\n",
              "          docLink.innerHTML = docLinkHtml;\n",
              "          element.appendChild(docLink);\n",
              "        }\n",
              "      </script>\n",
              "    </div>\n",
              "  </div>\n",
              "  "
            ]
          },
          "metadata": {},
          "execution_count": 434
        }
      ]
    },
    {
      "cell_type": "code",
      "source": [
        "#the issue was here Barbara - this next line generates the dummies as a new frame, you need to join them to the old frame\n",
        "df_ohe=df_ohe.join(pd.get_dummies(df_ohe.Age_bin, prefix='Age'))\n",
        "\n",
        "df_ohe.drop('Age_bin',inplace=True,axis=1)"
      ],
      "metadata": {
        "id": "ROY-eXZkQ6S4"
      },
      "execution_count": 435,
      "outputs": []
    },
    {
      "cell_type": "code",
      "source": [
        "df_ohe.head()"
      ],
      "metadata": {
        "colab": {
          "base_uri": "https://localhost:8080/",
          "height": 206
        },
        "id": "dSIvl2jBT_3e",
        "outputId": "9aa64c55-92ed-4400-c911-857d13dcf992"
      },
      "execution_count": 436,
      "outputs": [
        {
          "output_type": "execute_result",
          "data": {
            "text/plain": [
              "   Sex  Duration   Housing Cost_Matrix_Risk Status_checking_account  \\\n",
              "0    0         6       own        Good Risk                   <0 DM   \n",
              "1    1        48       own         Bad Risk            0 <= <200 DM   \n",
              "2    0        12       own        Good Risk     no checking account   \n",
              "3    0        42  for free        Good Risk                   <0 DM   \n",
              "4    0        24  for free         Bad Risk                   <0 DM   \n",
              "\n",
              "                           Job  Age_Under25  Age_Under35  Age_Under45  \\\n",
              "0  skilled employee / official            0            0            0   \n",
              "1  skilled employee / official            1            0            0   \n",
              "2         unskilled - resident            0            0            0   \n",
              "3  skilled employee / official            0            0            1   \n",
              "4  skilled employee / official            0            0            0   \n",
              "\n",
              "   Age_Older  \n",
              "0          1  \n",
              "1          0  \n",
              "2          1  \n",
              "3          0  \n",
              "4          1  "
            ],
            "text/html": [
              "\n",
              "  <div id=\"df-87d46848-a268-479f-8c7e-e01c0a531f90\">\n",
              "    <div class=\"colab-df-container\">\n",
              "      <div>\n",
              "<style scoped>\n",
              "    .dataframe tbody tr th:only-of-type {\n",
              "        vertical-align: middle;\n",
              "    }\n",
              "\n",
              "    .dataframe tbody tr th {\n",
              "        vertical-align: top;\n",
              "    }\n",
              "\n",
              "    .dataframe thead th {\n",
              "        text-align: right;\n",
              "    }\n",
              "</style>\n",
              "<table border=\"1\" class=\"dataframe\">\n",
              "  <thead>\n",
              "    <tr style=\"text-align: right;\">\n",
              "      <th></th>\n",
              "      <th>Sex</th>\n",
              "      <th>Duration</th>\n",
              "      <th>Housing</th>\n",
              "      <th>Cost_Matrix_Risk</th>\n",
              "      <th>Status_checking_account</th>\n",
              "      <th>Job</th>\n",
              "      <th>Age_Under25</th>\n",
              "      <th>Age_Under35</th>\n",
              "      <th>Age_Under45</th>\n",
              "      <th>Age_Older</th>\n",
              "    </tr>\n",
              "  </thead>\n",
              "  <tbody>\n",
              "    <tr>\n",
              "      <th>0</th>\n",
              "      <td>0</td>\n",
              "      <td>6</td>\n",
              "      <td>own</td>\n",
              "      <td>Good Risk</td>\n",
              "      <td>&lt;0 DM</td>\n",
              "      <td>skilled employee / official</td>\n",
              "      <td>0</td>\n",
              "      <td>0</td>\n",
              "      <td>0</td>\n",
              "      <td>1</td>\n",
              "    </tr>\n",
              "    <tr>\n",
              "      <th>1</th>\n",
              "      <td>1</td>\n",
              "      <td>48</td>\n",
              "      <td>own</td>\n",
              "      <td>Bad Risk</td>\n",
              "      <td>0 &lt;= &lt;200 DM</td>\n",
              "      <td>skilled employee / official</td>\n",
              "      <td>1</td>\n",
              "      <td>0</td>\n",
              "      <td>0</td>\n",
              "      <td>0</td>\n",
              "    </tr>\n",
              "    <tr>\n",
              "      <th>2</th>\n",
              "      <td>0</td>\n",
              "      <td>12</td>\n",
              "      <td>own</td>\n",
              "      <td>Good Risk</td>\n",
              "      <td>no checking account</td>\n",
              "      <td>unskilled - resident</td>\n",
              "      <td>0</td>\n",
              "      <td>0</td>\n",
              "      <td>0</td>\n",
              "      <td>1</td>\n",
              "    </tr>\n",
              "    <tr>\n",
              "      <th>3</th>\n",
              "      <td>0</td>\n",
              "      <td>42</td>\n",
              "      <td>for free</td>\n",
              "      <td>Good Risk</td>\n",
              "      <td>&lt;0 DM</td>\n",
              "      <td>skilled employee / official</td>\n",
              "      <td>0</td>\n",
              "      <td>0</td>\n",
              "      <td>1</td>\n",
              "      <td>0</td>\n",
              "    </tr>\n",
              "    <tr>\n",
              "      <th>4</th>\n",
              "      <td>0</td>\n",
              "      <td>24</td>\n",
              "      <td>for free</td>\n",
              "      <td>Bad Risk</td>\n",
              "      <td>&lt;0 DM</td>\n",
              "      <td>skilled employee / official</td>\n",
              "      <td>0</td>\n",
              "      <td>0</td>\n",
              "      <td>0</td>\n",
              "      <td>1</td>\n",
              "    </tr>\n",
              "  </tbody>\n",
              "</table>\n",
              "</div>\n",
              "      <button class=\"colab-df-convert\" onclick=\"convertToInteractive('df-87d46848-a268-479f-8c7e-e01c0a531f90')\"\n",
              "              title=\"Convert this dataframe to an interactive table.\"\n",
              "              style=\"display:none;\">\n",
              "        \n",
              "  <svg xmlns=\"http://www.w3.org/2000/svg\" height=\"24px\"viewBox=\"0 0 24 24\"\n",
              "       width=\"24px\">\n",
              "    <path d=\"M0 0h24v24H0V0z\" fill=\"none\"/>\n",
              "    <path d=\"M18.56 5.44l.94 2.06.94-2.06 2.06-.94-2.06-.94-.94-2.06-.94 2.06-2.06.94zm-11 1L8.5 8.5l.94-2.06 2.06-.94-2.06-.94L8.5 2.5l-.94 2.06-2.06.94zm10 10l.94 2.06.94-2.06 2.06-.94-2.06-.94-.94-2.06-.94 2.06-2.06.94z\"/><path d=\"M17.41 7.96l-1.37-1.37c-.4-.4-.92-.59-1.43-.59-.52 0-1.04.2-1.43.59L10.3 9.45l-7.72 7.72c-.78.78-.78 2.05 0 2.83L4 21.41c.39.39.9.59 1.41.59.51 0 1.02-.2 1.41-.59l7.78-7.78 2.81-2.81c.8-.78.8-2.07 0-2.86zM5.41 20L4 18.59l7.72-7.72 1.47 1.35L5.41 20z\"/>\n",
              "  </svg>\n",
              "      </button>\n",
              "      \n",
              "  <style>\n",
              "    .colab-df-container {\n",
              "      display:flex;\n",
              "      flex-wrap:wrap;\n",
              "      gap: 12px;\n",
              "    }\n",
              "\n",
              "    .colab-df-convert {\n",
              "      background-color: #E8F0FE;\n",
              "      border: none;\n",
              "      border-radius: 50%;\n",
              "      cursor: pointer;\n",
              "      display: none;\n",
              "      fill: #1967D2;\n",
              "      height: 32px;\n",
              "      padding: 0 0 0 0;\n",
              "      width: 32px;\n",
              "    }\n",
              "\n",
              "    .colab-df-convert:hover {\n",
              "      background-color: #E2EBFA;\n",
              "      box-shadow: 0px 1px 2px rgba(60, 64, 67, 0.3), 0px 1px 3px 1px rgba(60, 64, 67, 0.15);\n",
              "      fill: #174EA6;\n",
              "    }\n",
              "\n",
              "    [theme=dark] .colab-df-convert {\n",
              "      background-color: #3B4455;\n",
              "      fill: #D2E3FC;\n",
              "    }\n",
              "\n",
              "    [theme=dark] .colab-df-convert:hover {\n",
              "      background-color: #434B5C;\n",
              "      box-shadow: 0px 1px 3px 1px rgba(0, 0, 0, 0.15);\n",
              "      filter: drop-shadow(0px 1px 2px rgba(0, 0, 0, 0.3));\n",
              "      fill: #FFFFFF;\n",
              "    }\n",
              "  </style>\n",
              "\n",
              "      <script>\n",
              "        const buttonEl =\n",
              "          document.querySelector('#df-87d46848-a268-479f-8c7e-e01c0a531f90 button.colab-df-convert');\n",
              "        buttonEl.style.display =\n",
              "          google.colab.kernel.accessAllowed ? 'block' : 'none';\n",
              "\n",
              "        async function convertToInteractive(key) {\n",
              "          const element = document.querySelector('#df-87d46848-a268-479f-8c7e-e01c0a531f90');\n",
              "          const dataTable =\n",
              "            await google.colab.kernel.invokeFunction('convertToInteractive',\n",
              "                                                     [key], {});\n",
              "          if (!dataTable) return;\n",
              "\n",
              "          const docLinkHtml = 'Like what you see? Visit the ' +\n",
              "            '<a target=\"_blank\" href=https://colab.research.google.com/notebooks/data_table.ipynb>data table notebook</a>'\n",
              "            + ' to learn more about interactive tables.';\n",
              "          element.innerHTML = '';\n",
              "          dataTable['output_type'] = 'display_data';\n",
              "          await google.colab.output.renderOutput(dataTable, element);\n",
              "          const docLink = document.createElement('div');\n",
              "          docLink.innerHTML = docLinkHtml;\n",
              "          element.appendChild(docLink);\n",
              "        }\n",
              "      </script>\n",
              "    </div>\n",
              "  </div>\n",
              "  "
            ]
          },
          "metadata": {},
          "execution_count": 436
        }
      ]
    },
    {
      "cell_type": "code",
      "source": [
        "df.Housing.replace('for free', 'for_free',inplace=True)\n",
        "pd.get_dummies(df.Housing, prefix='Housing')"
      ],
      "metadata": {
        "id": "5RIg4feuIKy5",
        "outputId": "a7a49443-5c98-474a-eab3-495daad195c7",
        "colab": {
          "base_uri": "https://localhost:8080/",
          "height": 423
        }
      },
      "execution_count": 437,
      "outputs": [
        {
          "output_type": "execute_result",
          "data": {
            "text/plain": [
              "     Housing_for_free  Housing_own  Housing_rent\n",
              "0                   0            1             0\n",
              "1                   0            1             0\n",
              "2                   0            1             0\n",
              "3                   1            0             0\n",
              "4                   1            0             0\n",
              "..                ...          ...           ...\n",
              "995                 0            1             0\n",
              "996                 0            1             0\n",
              "997                 0            1             0\n",
              "998                 1            0             0\n",
              "999                 0            1             0\n",
              "\n",
              "[1000 rows x 3 columns]"
            ],
            "text/html": [
              "\n",
              "  <div id=\"df-45dca988-ab72-46df-860e-634a35b78ae5\">\n",
              "    <div class=\"colab-df-container\">\n",
              "      <div>\n",
              "<style scoped>\n",
              "    .dataframe tbody tr th:only-of-type {\n",
              "        vertical-align: middle;\n",
              "    }\n",
              "\n",
              "    .dataframe tbody tr th {\n",
              "        vertical-align: top;\n",
              "    }\n",
              "\n",
              "    .dataframe thead th {\n",
              "        text-align: right;\n",
              "    }\n",
              "</style>\n",
              "<table border=\"1\" class=\"dataframe\">\n",
              "  <thead>\n",
              "    <tr style=\"text-align: right;\">\n",
              "      <th></th>\n",
              "      <th>Housing_for_free</th>\n",
              "      <th>Housing_own</th>\n",
              "      <th>Housing_rent</th>\n",
              "    </tr>\n",
              "  </thead>\n",
              "  <tbody>\n",
              "    <tr>\n",
              "      <th>0</th>\n",
              "      <td>0</td>\n",
              "      <td>1</td>\n",
              "      <td>0</td>\n",
              "    </tr>\n",
              "    <tr>\n",
              "      <th>1</th>\n",
              "      <td>0</td>\n",
              "      <td>1</td>\n",
              "      <td>0</td>\n",
              "    </tr>\n",
              "    <tr>\n",
              "      <th>2</th>\n",
              "      <td>0</td>\n",
              "      <td>1</td>\n",
              "      <td>0</td>\n",
              "    </tr>\n",
              "    <tr>\n",
              "      <th>3</th>\n",
              "      <td>1</td>\n",
              "      <td>0</td>\n",
              "      <td>0</td>\n",
              "    </tr>\n",
              "    <tr>\n",
              "      <th>4</th>\n",
              "      <td>1</td>\n",
              "      <td>0</td>\n",
              "      <td>0</td>\n",
              "    </tr>\n",
              "    <tr>\n",
              "      <th>...</th>\n",
              "      <td>...</td>\n",
              "      <td>...</td>\n",
              "      <td>...</td>\n",
              "    </tr>\n",
              "    <tr>\n",
              "      <th>995</th>\n",
              "      <td>0</td>\n",
              "      <td>1</td>\n",
              "      <td>0</td>\n",
              "    </tr>\n",
              "    <tr>\n",
              "      <th>996</th>\n",
              "      <td>0</td>\n",
              "      <td>1</td>\n",
              "      <td>0</td>\n",
              "    </tr>\n",
              "    <tr>\n",
              "      <th>997</th>\n",
              "      <td>0</td>\n",
              "      <td>1</td>\n",
              "      <td>0</td>\n",
              "    </tr>\n",
              "    <tr>\n",
              "      <th>998</th>\n",
              "      <td>1</td>\n",
              "      <td>0</td>\n",
              "      <td>0</td>\n",
              "    </tr>\n",
              "    <tr>\n",
              "      <th>999</th>\n",
              "      <td>0</td>\n",
              "      <td>1</td>\n",
              "      <td>0</td>\n",
              "    </tr>\n",
              "  </tbody>\n",
              "</table>\n",
              "<p>1000 rows × 3 columns</p>\n",
              "</div>\n",
              "      <button class=\"colab-df-convert\" onclick=\"convertToInteractive('df-45dca988-ab72-46df-860e-634a35b78ae5')\"\n",
              "              title=\"Convert this dataframe to an interactive table.\"\n",
              "              style=\"display:none;\">\n",
              "        \n",
              "  <svg xmlns=\"http://www.w3.org/2000/svg\" height=\"24px\"viewBox=\"0 0 24 24\"\n",
              "       width=\"24px\">\n",
              "    <path d=\"M0 0h24v24H0V0z\" fill=\"none\"/>\n",
              "    <path d=\"M18.56 5.44l.94 2.06.94-2.06 2.06-.94-2.06-.94-.94-2.06-.94 2.06-2.06.94zm-11 1L8.5 8.5l.94-2.06 2.06-.94-2.06-.94L8.5 2.5l-.94 2.06-2.06.94zm10 10l.94 2.06.94-2.06 2.06-.94-2.06-.94-.94-2.06-.94 2.06-2.06.94z\"/><path d=\"M17.41 7.96l-1.37-1.37c-.4-.4-.92-.59-1.43-.59-.52 0-1.04.2-1.43.59L10.3 9.45l-7.72 7.72c-.78.78-.78 2.05 0 2.83L4 21.41c.39.39.9.59 1.41.59.51 0 1.02-.2 1.41-.59l7.78-7.78 2.81-2.81c.8-.78.8-2.07 0-2.86zM5.41 20L4 18.59l7.72-7.72 1.47 1.35L5.41 20z\"/>\n",
              "  </svg>\n",
              "      </button>\n",
              "      \n",
              "  <style>\n",
              "    .colab-df-container {\n",
              "      display:flex;\n",
              "      flex-wrap:wrap;\n",
              "      gap: 12px;\n",
              "    }\n",
              "\n",
              "    .colab-df-convert {\n",
              "      background-color: #E8F0FE;\n",
              "      border: none;\n",
              "      border-radius: 50%;\n",
              "      cursor: pointer;\n",
              "      display: none;\n",
              "      fill: #1967D2;\n",
              "      height: 32px;\n",
              "      padding: 0 0 0 0;\n",
              "      width: 32px;\n",
              "    }\n",
              "\n",
              "    .colab-df-convert:hover {\n",
              "      background-color: #E2EBFA;\n",
              "      box-shadow: 0px 1px 2px rgba(60, 64, 67, 0.3), 0px 1px 3px 1px rgba(60, 64, 67, 0.15);\n",
              "      fill: #174EA6;\n",
              "    }\n",
              "\n",
              "    [theme=dark] .colab-df-convert {\n",
              "      background-color: #3B4455;\n",
              "      fill: #D2E3FC;\n",
              "    }\n",
              "\n",
              "    [theme=dark] .colab-df-convert:hover {\n",
              "      background-color: #434B5C;\n",
              "      box-shadow: 0px 1px 3px 1px rgba(0, 0, 0, 0.15);\n",
              "      filter: drop-shadow(0px 1px 2px rgba(0, 0, 0, 0.3));\n",
              "      fill: #FFFFFF;\n",
              "    }\n",
              "  </style>\n",
              "\n",
              "      <script>\n",
              "        const buttonEl =\n",
              "          document.querySelector('#df-45dca988-ab72-46df-860e-634a35b78ae5 button.colab-df-convert');\n",
              "        buttonEl.style.display =\n",
              "          google.colab.kernel.accessAllowed ? 'block' : 'none';\n",
              "\n",
              "        async function convertToInteractive(key) {\n",
              "          const element = document.querySelector('#df-45dca988-ab72-46df-860e-634a35b78ae5');\n",
              "          const dataTable =\n",
              "            await google.colab.kernel.invokeFunction('convertToInteractive',\n",
              "                                                     [key], {});\n",
              "          if (!dataTable) return;\n",
              "\n",
              "          const docLinkHtml = 'Like what you see? Visit the ' +\n",
              "            '<a target=\"_blank\" href=https://colab.research.google.com/notebooks/data_table.ipynb>data table notebook</a>'\n",
              "            + ' to learn more about interactive tables.';\n",
              "          element.innerHTML = '';\n",
              "          dataTable['output_type'] = 'display_data';\n",
              "          await google.colab.output.renderOutput(dataTable, element);\n",
              "          const docLink = document.createElement('div');\n",
              "          docLink.innerHTML = docLinkHtml;\n",
              "          element.appendChild(docLink);\n",
              "        }\n",
              "      </script>\n",
              "    </div>\n",
              "  </div>\n",
              "  "
            ]
          },
          "metadata": {},
          "execution_count": 437
        }
      ]
    },
    {
      "cell_type": "code",
      "source": [
        "df_ohe.replace({'Bad Risk': 0, 'Good Risk': 1}, inplace=True)"
      ],
      "metadata": {
        "id": "R07Xt5BNI6-D"
      },
      "execution_count": 438,
      "outputs": []
    },
    {
      "cell_type": "code",
      "source": [
        "df_ohe=df_ohe.join(pd.get_dummies(df.Housing, prefix='Housing'))\n"
      ],
      "metadata": {
        "id": "0cJtFNmWHQg7"
      },
      "execution_count": 439,
      "outputs": []
    },
    {
      "cell_type": "code",
      "source": [
        "df_ohe.head()"
      ],
      "metadata": {
        "id": "5Li9bcZnKkQ4",
        "colab": {
          "base_uri": "https://localhost:8080/",
          "height": 426
        },
        "outputId": "66d25002-3445-4803-8915-41ed3d875630"
      },
      "execution_count": 440,
      "outputs": [
        {
          "output_type": "execute_result",
          "data": {
            "text/plain": [
              "   Sex  Duration   Housing  Cost_Matrix_Risk Status_checking_account  \\\n",
              "0    0         6       own                 1                   <0 DM   \n",
              "1    1        48       own                 0            0 <= <200 DM   \n",
              "2    0        12       own                 1     no checking account   \n",
              "3    0        42  for free                 1                   <0 DM   \n",
              "4    0        24  for free                 0                   <0 DM   \n",
              "\n",
              "                           Job  Age_Under25  Age_Under35  Age_Under45  \\\n",
              "0  skilled employee / official            0            0            0   \n",
              "1  skilled employee / official            1            0            0   \n",
              "2         unskilled - resident            0            0            0   \n",
              "3  skilled employee / official            0            0            1   \n",
              "4  skilled employee / official            0            0            0   \n",
              "\n",
              "   Age_Older  Housing_for_free  Housing_own  Housing_rent  \n",
              "0          1                 0            1             0  \n",
              "1          0                 0            1             0  \n",
              "2          1                 0            1             0  \n",
              "3          0                 1            0             0  \n",
              "4          1                 1            0             0  "
            ],
            "text/html": [
              "\n",
              "  <div id=\"df-7fb8c007-350a-48a0-ab02-cf0f8a39d37a\">\n",
              "    <div class=\"colab-df-container\">\n",
              "      <div>\n",
              "<style scoped>\n",
              "    .dataframe tbody tr th:only-of-type {\n",
              "        vertical-align: middle;\n",
              "    }\n",
              "\n",
              "    .dataframe tbody tr th {\n",
              "        vertical-align: top;\n",
              "    }\n",
              "\n",
              "    .dataframe thead th {\n",
              "        text-align: right;\n",
              "    }\n",
              "</style>\n",
              "<table border=\"1\" class=\"dataframe\">\n",
              "  <thead>\n",
              "    <tr style=\"text-align: right;\">\n",
              "      <th></th>\n",
              "      <th>Sex</th>\n",
              "      <th>Duration</th>\n",
              "      <th>Housing</th>\n",
              "      <th>Cost_Matrix_Risk</th>\n",
              "      <th>Status_checking_account</th>\n",
              "      <th>Job</th>\n",
              "      <th>Age_Under25</th>\n",
              "      <th>Age_Under35</th>\n",
              "      <th>Age_Under45</th>\n",
              "      <th>Age_Older</th>\n",
              "      <th>Housing_for_free</th>\n",
              "      <th>Housing_own</th>\n",
              "      <th>Housing_rent</th>\n",
              "    </tr>\n",
              "  </thead>\n",
              "  <tbody>\n",
              "    <tr>\n",
              "      <th>0</th>\n",
              "      <td>0</td>\n",
              "      <td>6</td>\n",
              "      <td>own</td>\n",
              "      <td>1</td>\n",
              "      <td>&lt;0 DM</td>\n",
              "      <td>skilled employee / official</td>\n",
              "      <td>0</td>\n",
              "      <td>0</td>\n",
              "      <td>0</td>\n",
              "      <td>1</td>\n",
              "      <td>0</td>\n",
              "      <td>1</td>\n",
              "      <td>0</td>\n",
              "    </tr>\n",
              "    <tr>\n",
              "      <th>1</th>\n",
              "      <td>1</td>\n",
              "      <td>48</td>\n",
              "      <td>own</td>\n",
              "      <td>0</td>\n",
              "      <td>0 &lt;= &lt;200 DM</td>\n",
              "      <td>skilled employee / official</td>\n",
              "      <td>1</td>\n",
              "      <td>0</td>\n",
              "      <td>0</td>\n",
              "      <td>0</td>\n",
              "      <td>0</td>\n",
              "      <td>1</td>\n",
              "      <td>0</td>\n",
              "    </tr>\n",
              "    <tr>\n",
              "      <th>2</th>\n",
              "      <td>0</td>\n",
              "      <td>12</td>\n",
              "      <td>own</td>\n",
              "      <td>1</td>\n",
              "      <td>no checking account</td>\n",
              "      <td>unskilled - resident</td>\n",
              "      <td>0</td>\n",
              "      <td>0</td>\n",
              "      <td>0</td>\n",
              "      <td>1</td>\n",
              "      <td>0</td>\n",
              "      <td>1</td>\n",
              "      <td>0</td>\n",
              "    </tr>\n",
              "    <tr>\n",
              "      <th>3</th>\n",
              "      <td>0</td>\n",
              "      <td>42</td>\n",
              "      <td>for free</td>\n",
              "      <td>1</td>\n",
              "      <td>&lt;0 DM</td>\n",
              "      <td>skilled employee / official</td>\n",
              "      <td>0</td>\n",
              "      <td>0</td>\n",
              "      <td>1</td>\n",
              "      <td>0</td>\n",
              "      <td>1</td>\n",
              "      <td>0</td>\n",
              "      <td>0</td>\n",
              "    </tr>\n",
              "    <tr>\n",
              "      <th>4</th>\n",
              "      <td>0</td>\n",
              "      <td>24</td>\n",
              "      <td>for free</td>\n",
              "      <td>0</td>\n",
              "      <td>&lt;0 DM</td>\n",
              "      <td>skilled employee / official</td>\n",
              "      <td>0</td>\n",
              "      <td>0</td>\n",
              "      <td>0</td>\n",
              "      <td>1</td>\n",
              "      <td>1</td>\n",
              "      <td>0</td>\n",
              "      <td>0</td>\n",
              "    </tr>\n",
              "  </tbody>\n",
              "</table>\n",
              "</div>\n",
              "      <button class=\"colab-df-convert\" onclick=\"convertToInteractive('df-7fb8c007-350a-48a0-ab02-cf0f8a39d37a')\"\n",
              "              title=\"Convert this dataframe to an interactive table.\"\n",
              "              style=\"display:none;\">\n",
              "        \n",
              "  <svg xmlns=\"http://www.w3.org/2000/svg\" height=\"24px\"viewBox=\"0 0 24 24\"\n",
              "       width=\"24px\">\n",
              "    <path d=\"M0 0h24v24H0V0z\" fill=\"none\"/>\n",
              "    <path d=\"M18.56 5.44l.94 2.06.94-2.06 2.06-.94-2.06-.94-.94-2.06-.94 2.06-2.06.94zm-11 1L8.5 8.5l.94-2.06 2.06-.94-2.06-.94L8.5 2.5l-.94 2.06-2.06.94zm10 10l.94 2.06.94-2.06 2.06-.94-2.06-.94-.94-2.06-.94 2.06-2.06.94z\"/><path d=\"M17.41 7.96l-1.37-1.37c-.4-.4-.92-.59-1.43-.59-.52 0-1.04.2-1.43.59L10.3 9.45l-7.72 7.72c-.78.78-.78 2.05 0 2.83L4 21.41c.39.39.9.59 1.41.59.51 0 1.02-.2 1.41-.59l7.78-7.78 2.81-2.81c.8-.78.8-2.07 0-2.86zM5.41 20L4 18.59l7.72-7.72 1.47 1.35L5.41 20z\"/>\n",
              "  </svg>\n",
              "      </button>\n",
              "      \n",
              "  <style>\n",
              "    .colab-df-container {\n",
              "      display:flex;\n",
              "      flex-wrap:wrap;\n",
              "      gap: 12px;\n",
              "    }\n",
              "\n",
              "    .colab-df-convert {\n",
              "      background-color: #E8F0FE;\n",
              "      border: none;\n",
              "      border-radius: 50%;\n",
              "      cursor: pointer;\n",
              "      display: none;\n",
              "      fill: #1967D2;\n",
              "      height: 32px;\n",
              "      padding: 0 0 0 0;\n",
              "      width: 32px;\n",
              "    }\n",
              "\n",
              "    .colab-df-convert:hover {\n",
              "      background-color: #E2EBFA;\n",
              "      box-shadow: 0px 1px 2px rgba(60, 64, 67, 0.3), 0px 1px 3px 1px rgba(60, 64, 67, 0.15);\n",
              "      fill: #174EA6;\n",
              "    }\n",
              "\n",
              "    [theme=dark] .colab-df-convert {\n",
              "      background-color: #3B4455;\n",
              "      fill: #D2E3FC;\n",
              "    }\n",
              "\n",
              "    [theme=dark] .colab-df-convert:hover {\n",
              "      background-color: #434B5C;\n",
              "      box-shadow: 0px 1px 3px 1px rgba(0, 0, 0, 0.15);\n",
              "      filter: drop-shadow(0px 1px 2px rgba(0, 0, 0, 0.3));\n",
              "      fill: #FFFFFF;\n",
              "    }\n",
              "  </style>\n",
              "\n",
              "      <script>\n",
              "        const buttonEl =\n",
              "          document.querySelector('#df-7fb8c007-350a-48a0-ab02-cf0f8a39d37a button.colab-df-convert');\n",
              "        buttonEl.style.display =\n",
              "          google.colab.kernel.accessAllowed ? 'block' : 'none';\n",
              "\n",
              "        async function convertToInteractive(key) {\n",
              "          const element = document.querySelector('#df-7fb8c007-350a-48a0-ab02-cf0f8a39d37a');\n",
              "          const dataTable =\n",
              "            await google.colab.kernel.invokeFunction('convertToInteractive',\n",
              "                                                     [key], {});\n",
              "          if (!dataTable) return;\n",
              "\n",
              "          const docLinkHtml = 'Like what you see? Visit the ' +\n",
              "            '<a target=\"_blank\" href=https://colab.research.google.com/notebooks/data_table.ipynb>data table notebook</a>'\n",
              "            + ' to learn more about interactive tables.';\n",
              "          element.innerHTML = '';\n",
              "          dataTable['output_type'] = 'display_data';\n",
              "          await google.colab.output.renderOutput(dataTable, element);\n",
              "          const docLink = document.createElement('div');\n",
              "          docLink.innerHTML = docLinkHtml;\n",
              "          element.appendChild(docLink);\n",
              "        }\n",
              "      </script>\n",
              "    </div>\n",
              "  </div>\n",
              "  "
            ]
          },
          "metadata": {},
          "execution_count": 440
        }
      ]
    },
    {
      "cell_type": "code",
      "source": [
        "df_ohe.drop('Housing', inplace=True, axis=1)"
      ],
      "metadata": {
        "id": "5FzmjUwGJTSD"
      },
      "execution_count": 441,
      "outputs": []
    },
    {
      "cell_type": "code",
      "source": [
        "df_ohe=df_ohe.join(pd.get_dummies(df_ohe.Status_checking_account, prefix='SCA'))"
      ],
      "metadata": {
        "id": "lU3rSQXvJYWP"
      },
      "execution_count": 442,
      "outputs": []
    },
    {
      "cell_type": "code",
      "source": [
        "df_ohe.drop('Status_checking_account',inplace=True,axis=1)"
      ],
      "metadata": {
        "id": "-jGOnbeWJuFo"
      },
      "execution_count": 443,
      "outputs": []
    },
    {
      "cell_type": "code",
      "source": [
        "df_ohe=df_ohe.join(pd.get_dummies(df_ohe.Job, prefix='Job'))"
      ],
      "metadata": {
        "id": "25CVbUDhJ1Vv"
      },
      "execution_count": 444,
      "outputs": []
    },
    {
      "cell_type": "code",
      "source": [
        "df_ohe.drop('Job',inplace=True,axis=1)"
      ],
      "metadata": {
        "id": "vFZaORJ6KFLS"
      },
      "execution_count": 445,
      "outputs": []
    },
    {
      "cell_type": "code",
      "source": [
        "df_ohe.head()"
      ],
      "metadata": {
        "id": "C1Jx498QKJ2Y",
        "colab": {
          "base_uri": "https://localhost:8080/",
          "height": 322
        },
        "outputId": "7bef090a-04af-43f2-c810-66bca7b94a08"
      },
      "execution_count": 446,
      "outputs": [
        {
          "output_type": "execute_result",
          "data": {
            "text/plain": [
              "   Sex  Duration  Cost_Matrix_Risk  Age_Under25  Age_Under35  Age_Under45  \\\n",
              "0    0         6                 1            0            0            0   \n",
              "1    1        48                 0            1            0            0   \n",
              "2    0        12                 1            0            0            0   \n",
              "3    0        42                 1            0            0            1   \n",
              "4    0        24                 0            0            0            0   \n",
              "\n",
              "   Age_Older  Housing_for_free  Housing_own  Housing_rent  SCA_0 <= <200 DM  \\\n",
              "0          1                 0            1             0                 0   \n",
              "1          0                 0            1             0                 1   \n",
              "2          1                 0            1             0                 0   \n",
              "3          0                 1            0             0                 0   \n",
              "4          1                 1            0             0                 0   \n",
              "\n",
              "   SCA_<0 DM  SCA_>= 200 DM   SCA_no checking account  \\\n",
              "0          1               0                        0   \n",
              "1          0               0                        0   \n",
              "2          0               0                        1   \n",
              "3          1               0                        0   \n",
              "4          1               0                        0   \n",
              "\n",
              "   Job_management/ highly qualified employee  Job_skilled employee / official  \\\n",
              "0                                          0                                1   \n",
              "1                                          0                                1   \n",
              "2                                          0                                0   \n",
              "3                                          0                                1   \n",
              "4                                          0                                1   \n",
              "\n",
              "   Job_unemployed/ unskilled  - non-resident  Job_unskilled - resident  \n",
              "0                                          0                         0  \n",
              "1                                          0                         0  \n",
              "2                                          0                         1  \n",
              "3                                          0                         0  \n",
              "4                                          0                         0  "
            ],
            "text/html": [
              "\n",
              "  <div id=\"df-8061e153-970b-43da-acef-590b8e86f1c8\">\n",
              "    <div class=\"colab-df-container\">\n",
              "      <div>\n",
              "<style scoped>\n",
              "    .dataframe tbody tr th:only-of-type {\n",
              "        vertical-align: middle;\n",
              "    }\n",
              "\n",
              "    .dataframe tbody tr th {\n",
              "        vertical-align: top;\n",
              "    }\n",
              "\n",
              "    .dataframe thead th {\n",
              "        text-align: right;\n",
              "    }\n",
              "</style>\n",
              "<table border=\"1\" class=\"dataframe\">\n",
              "  <thead>\n",
              "    <tr style=\"text-align: right;\">\n",
              "      <th></th>\n",
              "      <th>Sex</th>\n",
              "      <th>Duration</th>\n",
              "      <th>Cost_Matrix_Risk</th>\n",
              "      <th>Age_Under25</th>\n",
              "      <th>Age_Under35</th>\n",
              "      <th>Age_Under45</th>\n",
              "      <th>Age_Older</th>\n",
              "      <th>Housing_for_free</th>\n",
              "      <th>Housing_own</th>\n",
              "      <th>Housing_rent</th>\n",
              "      <th>SCA_0 &lt;= &lt;200 DM</th>\n",
              "      <th>SCA_&lt;0 DM</th>\n",
              "      <th>SCA_&gt;= 200 DM</th>\n",
              "      <th>SCA_no checking account</th>\n",
              "      <th>Job_management/ highly qualified employee</th>\n",
              "      <th>Job_skilled employee / official</th>\n",
              "      <th>Job_unemployed/ unskilled  - non-resident</th>\n",
              "      <th>Job_unskilled - resident</th>\n",
              "    </tr>\n",
              "  </thead>\n",
              "  <tbody>\n",
              "    <tr>\n",
              "      <th>0</th>\n",
              "      <td>0</td>\n",
              "      <td>6</td>\n",
              "      <td>1</td>\n",
              "      <td>0</td>\n",
              "      <td>0</td>\n",
              "      <td>0</td>\n",
              "      <td>1</td>\n",
              "      <td>0</td>\n",
              "      <td>1</td>\n",
              "      <td>0</td>\n",
              "      <td>0</td>\n",
              "      <td>1</td>\n",
              "      <td>0</td>\n",
              "      <td>0</td>\n",
              "      <td>0</td>\n",
              "      <td>1</td>\n",
              "      <td>0</td>\n",
              "      <td>0</td>\n",
              "    </tr>\n",
              "    <tr>\n",
              "      <th>1</th>\n",
              "      <td>1</td>\n",
              "      <td>48</td>\n",
              "      <td>0</td>\n",
              "      <td>1</td>\n",
              "      <td>0</td>\n",
              "      <td>0</td>\n",
              "      <td>0</td>\n",
              "      <td>0</td>\n",
              "      <td>1</td>\n",
              "      <td>0</td>\n",
              "      <td>1</td>\n",
              "      <td>0</td>\n",
              "      <td>0</td>\n",
              "      <td>0</td>\n",
              "      <td>0</td>\n",
              "      <td>1</td>\n",
              "      <td>0</td>\n",
              "      <td>0</td>\n",
              "    </tr>\n",
              "    <tr>\n",
              "      <th>2</th>\n",
              "      <td>0</td>\n",
              "      <td>12</td>\n",
              "      <td>1</td>\n",
              "      <td>0</td>\n",
              "      <td>0</td>\n",
              "      <td>0</td>\n",
              "      <td>1</td>\n",
              "      <td>0</td>\n",
              "      <td>1</td>\n",
              "      <td>0</td>\n",
              "      <td>0</td>\n",
              "      <td>0</td>\n",
              "      <td>0</td>\n",
              "      <td>1</td>\n",
              "      <td>0</td>\n",
              "      <td>0</td>\n",
              "      <td>0</td>\n",
              "      <td>1</td>\n",
              "    </tr>\n",
              "    <tr>\n",
              "      <th>3</th>\n",
              "      <td>0</td>\n",
              "      <td>42</td>\n",
              "      <td>1</td>\n",
              "      <td>0</td>\n",
              "      <td>0</td>\n",
              "      <td>1</td>\n",
              "      <td>0</td>\n",
              "      <td>1</td>\n",
              "      <td>0</td>\n",
              "      <td>0</td>\n",
              "      <td>0</td>\n",
              "      <td>1</td>\n",
              "      <td>0</td>\n",
              "      <td>0</td>\n",
              "      <td>0</td>\n",
              "      <td>1</td>\n",
              "      <td>0</td>\n",
              "      <td>0</td>\n",
              "    </tr>\n",
              "    <tr>\n",
              "      <th>4</th>\n",
              "      <td>0</td>\n",
              "      <td>24</td>\n",
              "      <td>0</td>\n",
              "      <td>0</td>\n",
              "      <td>0</td>\n",
              "      <td>0</td>\n",
              "      <td>1</td>\n",
              "      <td>1</td>\n",
              "      <td>0</td>\n",
              "      <td>0</td>\n",
              "      <td>0</td>\n",
              "      <td>1</td>\n",
              "      <td>0</td>\n",
              "      <td>0</td>\n",
              "      <td>0</td>\n",
              "      <td>1</td>\n",
              "      <td>0</td>\n",
              "      <td>0</td>\n",
              "    </tr>\n",
              "  </tbody>\n",
              "</table>\n",
              "</div>\n",
              "      <button class=\"colab-df-convert\" onclick=\"convertToInteractive('df-8061e153-970b-43da-acef-590b8e86f1c8')\"\n",
              "              title=\"Convert this dataframe to an interactive table.\"\n",
              "              style=\"display:none;\">\n",
              "        \n",
              "  <svg xmlns=\"http://www.w3.org/2000/svg\" height=\"24px\"viewBox=\"0 0 24 24\"\n",
              "       width=\"24px\">\n",
              "    <path d=\"M0 0h24v24H0V0z\" fill=\"none\"/>\n",
              "    <path d=\"M18.56 5.44l.94 2.06.94-2.06 2.06-.94-2.06-.94-.94-2.06-.94 2.06-2.06.94zm-11 1L8.5 8.5l.94-2.06 2.06-.94-2.06-.94L8.5 2.5l-.94 2.06-2.06.94zm10 10l.94 2.06.94-2.06 2.06-.94-2.06-.94-.94-2.06-.94 2.06-2.06.94z\"/><path d=\"M17.41 7.96l-1.37-1.37c-.4-.4-.92-.59-1.43-.59-.52 0-1.04.2-1.43.59L10.3 9.45l-7.72 7.72c-.78.78-.78 2.05 0 2.83L4 21.41c.39.39.9.59 1.41.59.51 0 1.02-.2 1.41-.59l7.78-7.78 2.81-2.81c.8-.78.8-2.07 0-2.86zM5.41 20L4 18.59l7.72-7.72 1.47 1.35L5.41 20z\"/>\n",
              "  </svg>\n",
              "      </button>\n",
              "      \n",
              "  <style>\n",
              "    .colab-df-container {\n",
              "      display:flex;\n",
              "      flex-wrap:wrap;\n",
              "      gap: 12px;\n",
              "    }\n",
              "\n",
              "    .colab-df-convert {\n",
              "      background-color: #E8F0FE;\n",
              "      border: none;\n",
              "      border-radius: 50%;\n",
              "      cursor: pointer;\n",
              "      display: none;\n",
              "      fill: #1967D2;\n",
              "      height: 32px;\n",
              "      padding: 0 0 0 0;\n",
              "      width: 32px;\n",
              "    }\n",
              "\n",
              "    .colab-df-convert:hover {\n",
              "      background-color: #E2EBFA;\n",
              "      box-shadow: 0px 1px 2px rgba(60, 64, 67, 0.3), 0px 1px 3px 1px rgba(60, 64, 67, 0.15);\n",
              "      fill: #174EA6;\n",
              "    }\n",
              "\n",
              "    [theme=dark] .colab-df-convert {\n",
              "      background-color: #3B4455;\n",
              "      fill: #D2E3FC;\n",
              "    }\n",
              "\n",
              "    [theme=dark] .colab-df-convert:hover {\n",
              "      background-color: #434B5C;\n",
              "      box-shadow: 0px 1px 3px 1px rgba(0, 0, 0, 0.15);\n",
              "      filter: drop-shadow(0px 1px 2px rgba(0, 0, 0, 0.3));\n",
              "      fill: #FFFFFF;\n",
              "    }\n",
              "  </style>\n",
              "\n",
              "      <script>\n",
              "        const buttonEl =\n",
              "          document.querySelector('#df-8061e153-970b-43da-acef-590b8e86f1c8 button.colab-df-convert');\n",
              "        buttonEl.style.display =\n",
              "          google.colab.kernel.accessAllowed ? 'block' : 'none';\n",
              "\n",
              "        async function convertToInteractive(key) {\n",
              "          const element = document.querySelector('#df-8061e153-970b-43da-acef-590b8e86f1c8');\n",
              "          const dataTable =\n",
              "            await google.colab.kernel.invokeFunction('convertToInteractive',\n",
              "                                                     [key], {});\n",
              "          if (!dataTable) return;\n",
              "\n",
              "          const docLinkHtml = 'Like what you see? Visit the ' +\n",
              "            '<a target=\"_blank\" href=https://colab.research.google.com/notebooks/data_table.ipynb>data table notebook</a>'\n",
              "            + ' to learn more about interactive tables.';\n",
              "          element.innerHTML = '';\n",
              "          dataTable['output_type'] = 'display_data';\n",
              "          await google.colab.output.renderOutput(dataTable, element);\n",
              "          const docLink = document.createElement('div');\n",
              "          docLink.innerHTML = docLinkHtml;\n",
              "          element.appendChild(docLink);\n",
              "        }\n",
              "      </script>\n",
              "    </div>\n",
              "  </div>\n",
              "  "
            ]
          },
          "metadata": {},
          "execution_count": 446
        }
      ]
    },
    {
      "cell_type": "code",
      "source": [
        "df_ohe.Cost_Risk_Matrix=df_ohe.Cost_Matrix_Risk.astype(int)"
      ],
      "metadata": {
        "id": "tgSj6UMgMdQe",
        "colab": {
          "base_uri": "https://localhost:8080/"
        },
        "outputId": "5c5780bf-f459-44db-df24-fb2138c28180"
      },
      "execution_count": 447,
      "outputs": [
        {
          "output_type": "stream",
          "name": "stderr",
          "text": [
            "Pandas doesn't allow columns to be created via a new attribute name - see https://pandas.pydata.org/pandas-docs/stable/indexing.html#attribute-access\n"
          ]
        }
      ]
    },
    {
      "cell_type": "code",
      "source": [
        "#correlation between numerical and hot-encoded variables.. hard to see anything here\n",
        "fig, ax = plt.subplots(figsize=(10,10))\n",
        "sns.set(font_scale=0.7) \n",
        "sns.heatmap(df_ohe.corr(),annot=True ,fmt=\".2f\", cmap=\"coolwarm\", ax=ax);"
      ],
      "metadata": {
        "colab": {
          "base_uri": "https://localhost:8080/",
          "height": 932
        },
        "id": "ZFBSJmwy1NJi",
        "outputId": "bc166388-7ce7-4bea-b5d2-de37492f1d74"
      },
      "execution_count": 448,
      "outputs": [
        {
          "output_type": "display_data",
          "data": {
            "text/plain": [
              "<Figure size 720x720 with 2 Axes>"
            ],
            "image/png": "[encoded data removed]"
          },
          "metadata": {}
        }
      ]
    },
    {
      "cell_type": "code",
      "source": [
        "df_ohe[['Age_Older','Age_Under45']].corr()\n",
        "df_ohe['Age_Older']==df_ohe['Age_Under45']\n"
      ],
      "metadata": {
        "colab": {
          "base_uri": "https://localhost:8080/"
        },
        "id": "4zEU0dC53379",
        "outputId": "c83ba39e-1ee7-4c10-8897-ed0e01535f22"
      },
      "execution_count": 449,
      "outputs": [
        {
          "output_type": "execute_result",
          "data": {
            "text/plain": [
              "0      False\n",
              "1       True\n",
              "2      False\n",
              "3      False\n",
              "4      False\n",
              "       ...  \n",
              "995     True\n",
              "996    False\n",
              "997    False\n",
              "998     True\n",
              "999     True\n",
              "Length: 1000, dtype: bool"
            ]
          },
          "metadata": {},
          "execution_count": 449
        }
      ]
    },
    {
      "cell_type": "code",
      "source": [
        "#top ten highest correlated variables, doesn't make much sense, did we do something wrong, is the hot encoding not exclusive?\n",
        "corr=df_ohe.corr()\n",
        "corr_unstacked = corr.unstack().abs()\n",
        "ranked_corr = corr_unstacked.sort_values(kind=\"quicksort\", ascending=False)\n",
        "ranked_corr = ranked_corr[ranked_corr != 1]\n",
        "ranked_corr.head(20)"
      ],
      "metadata": {
        "colab": {
          "base_uri": "https://localhost:8080/"
        },
        "id": "vi90m8QN1V_z",
        "outputId": "be181b33-f44e-4578-a530-8126531da18a"
      },
      "execution_count": 450,
      "outputs": [
        {
          "output_type": "execute_result",
          "data": {
            "text/plain": [
              "Housing_own                                Housing_rent                                 0.735968\n",
              "Housing_rent                               Housing_own                                  0.735968\n",
              "Job_unskilled - resident                   Job_skilled employee / official              0.652438\n",
              "Job_skilled employee / official            Job_unskilled - resident                     0.652438\n",
              "Housing_for_free                           Housing_own                                  0.548445\n",
              "Housing_own                                Housing_for_free                             0.548445\n",
              "Job_skilled employee / official            Job_management/ highly qualified employee    0.543852\n",
              "Job_management/ highly qualified employee  Job_skilled employee / official              0.543852\n",
              "SCA_no checking account                    SCA_<0 DM                                    0.495358\n",
              "SCA_<0 DM                                  SCA_no checking account                      0.495358\n",
              "SCA_no checking account                    SCA_0 <= <200 DM                             0.489136\n",
              "SCA_0 <= <200 DM                           SCA_no checking account                      0.489136\n",
              "Age_Under35                                Age_Under45                                  0.439367\n",
              "Age_Under45                                Age_Under35                                  0.439367\n",
              "Age_Under35                                Age_Under25                                  0.393802\n",
              "Age_Under25                                Age_Under35                                  0.393802\n",
              "Age_Under35                                Age_Older                                    0.388676\n",
              "Age_Older                                  Age_Under35                                  0.388676\n",
              "SCA_0 <= <200 DM                           SCA_<0 DM                                    0.372670\n",
              "SCA_<0 DM                                  SCA_0 <= <200 DM                             0.372670\n",
              "dtype: float64"
            ]
          },
          "metadata": {},
          "execution_count": 450
        }
      ]
    },
    {
      "cell_type": "code",
      "source": [
        "#Setting up the model training infrastructure.\n",
        "np.random.seed(31415) \n",
        "from sklearn.model_selection import train_test_split\n",
        "from sklearn.linear_model import LogisticRegression\n",
        "from sklearn.utils import check_random_state as sd\n",
        "\n",
        "train,test = train_test_split(df_ohe,test_size = 0.25,random_state=5)\n",
        "\n",
        "X_train = train.loc[:, train.columns != 'Cost_Matrix_Risk']\n",
        "X_test = test.loc[:, test.columns != 'Cost_Matrix_Risk']\n",
        "y_train = train['Cost_Matrix_Risk']\n",
        "y_test = test['Cost_Matrix_Risk']\n",
        "\n",
        "from sklearn.pipeline import make_pipeline\n",
        "from sklearn.preprocessing import StandardScaler\n",
        "\n",
        "#pipe = make_pipeline(StandardScaler(), LogisticRegression(solver='liblinear'))\n",
        "#pipe.fit(X_train, y_train)\n",
        "\n",
        "clf=LogisticRegression(random_state=5,solver='liblinear')\n",
        "clf.fit(X_train, y_train)"
      ],
      "metadata": {
        "colab": {
          "base_uri": "https://localhost:8080/"
        },
        "id": "HhuMObAo5Sda",
        "outputId": "b5fb7e6d-3966-4d36-a301-7d359bc5e768"
      },
      "execution_count": 451,
      "outputs": [
        {
          "output_type": "execute_result",
          "data": {
            "text/plain": [
              "LogisticRegression(random_state=5, solver='liblinear')"
            ]
          },
          "metadata": {},
          "execution_count": 451
        }
      ]
    },
    {
      "cell_type": "markdown",
      "source": [
        "##above there is a trained model"
      ],
      "metadata": {
        "id": "XIX_xAhsNXkk"
      }
    },
    {
      "cell_type": "code",
      "source": [
        "# predict \n",
        "y_pred=clf.predict(X_test)"
      ],
      "metadata": {
        "id": "1cjqDldLK-Qh"
      },
      "execution_count": 452,
      "outputs": []
    },
    {
      "cell_type": "code",
      "source": [
        "# get metrics \n",
        "from sklearn.metrics import confusion_matrix\n",
        "cm=confusion_matrix(y_test, y_pred)\n",
        "tn, fp, fn, tp =cm.ravel()\n"
      ],
      "metadata": {
        "id": "OvsizEIuzfxE"
      },
      "execution_count": 453,
      "outputs": []
    },
    {
      "cell_type": "code",
      "source": [
        "cm"
      ],
      "metadata": {
        "colab": {
          "base_uri": "https://localhost:8080/"
        },
        "id": "u-TTkywZQNTj",
        "outputId": "6f444807-5db7-4499-c6c0-fb58029de7e0"
      },
      "execution_count": 454,
      "outputs": [
        {
          "output_type": "execute_result",
          "data": {
            "text/plain": [
              "array([[ 23,  47],\n",
              "       [ 27, 153]])"
            ]
          },
          "metadata": {},
          "execution_count": 454
        }
      ]
    },
    {
      "cell_type": "code",
      "source": [
        "import seaborn as sn \n",
        "df_cm = pd.DataFrame(cm, [\"Bad Risk\",\"Good Risk\"], [\"Bad Risk\",\"Good Risk\"]) \n",
        "sn.set(font_scale=1.4) \n",
        "sn.heatmap(df_cm, annot=True, fmt='d', cmap=\"YlGnBu\");\n"
      ],
      "metadata": {
        "colab": {
          "base_uri": "https://localhost:8080/",
          "height": 273
        },
        "id": "1ZiSczt4FnEc",
        "outputId": "d5b56f26-ac61-4d05-84b7-daa42eb00104"
      },
      "execution_count": 455,
      "outputs": [
        {
          "output_type": "display_data",
          "data": {
            "text/plain": [
              "<Figure size 432x288 with 2 Axes>"
            ],
            "image/png": "[encoded data removed]"
          },
          "metadata": {}
        }
      ]
    },
    {
      "cell_type": "code",
      "source": [
        "from sklearn import metrics\n",
        "print(metrics.classification_report(y_test, clf.predict(X_test)))"
      ],
      "metadata": {
        "id": "koQgzAjvUv5d",
        "colab": {
          "base_uri": "https://localhost:8080/"
        },
        "outputId": "7f8794fb-1e69-41fe-dc9e-d35d21c62190"
      },
      "execution_count": 456,
      "outputs": [
        {
          "output_type": "stream",
          "name": "stdout",
          "text": [
            "              precision    recall  f1-score   support\n",
            "\n",
            "           0       0.46      0.33      0.38        70\n",
            "           1       0.77      0.85      0.81       180\n",
            "\n",
            "    accuracy                           0.70       250\n",
            "   macro avg       0.61      0.59      0.59       250\n",
            "weighted avg       0.68      0.70      0.69       250\n",
            "\n"
          ]
        }
      ]
    },
    {
      "cell_type": "markdown",
      "source": [
        "Changing the age into bins flipped two from tn to something else. Very nice for all that work :("
      ],
      "metadata": {
        "id": "VdW5NkwTUcYw"
      }
    },
    {
      "cell_type": "code",
      "source": [
        "# check fairness of your algorithm\n",
        "#1. TPR and FPR--> equalized odds\n",
        "y_pred_male = clf.predict(X_test[X_test.Sex==0])\n",
        "y_pred_female =clf.predict(X_test[X_test.Sex==1])\n",
        "y_test_male = test[test.Sex==0].Cost_Matrix_Risk\n",
        "y_test_female = test[test.Sex==1].Cost_Matrix_Risk\n",
        "\n",
        "cm_male = confusion_matrix(y_test_male, y_pred_male)\n",
        "tn_m, fp_m, fn_m, tp_m =cm_male.ravel()\n",
        "\n",
        "cm_female = confusion_matrix(y_test_female, y_pred_female)\n",
        "tn_f, fp_f, fn_f, tp_f =cm_female.ravel()\n",
        "\n",
        "tpr_male = tp_m/(tp_m+fn_m)\n",
        "fpr_male = fp_m/(tn_m+fp_m)\n",
        "tpr_female = tp_f/(tp_f+fn_f)\n",
        "fpr_female = fp_f/(tn_f+fp_f)\n",
        "\n",
        "print(tpr_male,tpr_female)\n",
        "print(fpr_male,fpr_female)\n",
        "\n",
        "\n",
        "#2. Group fairness --> equal assigment to group credit for protected/unprotected\n",
        "#Doesn't use the test truth, just the test predictions - simple counts.\n",
        "\n",
        "print(sum(y_pred_male)/len(y_pred_male),sum(y_pred_female)/len(y_pred_female))\n",
        "\n",
        "#-- Treatment equality FPR/FNR for each group\n",
        "#3. Overall accuracy equality\n",
        "\n",
        "acc_male = (tp_m+tn_m) / (tp_m+tn_m+fp_m+fn_m)\n",
        "acc_female = (tp_f+tn_f) / (tp_f+tn_f+fp_f+fn_f)\n",
        "\n",
        "print(acc_male,acc_female)\n",
        "\n",
        "#Conclusion, we're unfair to women in this model."
      ],
      "metadata": {
        "id": "WxFESRfgvzmY",
        "colab": {
          "base_uri": "https://localhost:8080/"
        },
        "outputId": "cd7b5fdb-d7f1-4675-a1f0-1a60edac2865"
      },
      "execution_count": 457,
      "outputs": [
        {
          "output_type": "stream",
          "name": "stdout",
          "text": [
            "0.888 0.7636363636363637\n",
            "0.7555555555555555 0.52\n",
            "0.8529411764705882 0.6875\n",
            "0.7176470588235294 0.675\n"
          ]
        }
      ]
    },
    {
      "cell_type": "code",
      "source": [
        "male_score = [tpr_male,fpr_male,sum(y_pred_male)/len(y_pred_male),acc_male]\n",
        "female_score = [tpr_female,fpr_female,sum(y_pred_female)/len(y_pred_female),acc_female]\n",
        "\n",
        "fairness_score_df = pd.DataFrame(male_score)\n",
        "fairness_score_df['1']=pd.Series(female_score)\n"
      ],
      "metadata": {
        "id": "nbbMgX4lawc5"
      },
      "execution_count": 458,
      "outputs": []
    },
    {
      "cell_type": "code",
      "source": [
        "fairness_score_df.columns = ['male_score', 'female_score']\n",
        "fairness_score_df.index=['tpr','fpr','predicted probability','accuracy']"
      ],
      "metadata": {
        "id": "d_OjKXXrbcRA"
      },
      "execution_count": 459,
      "outputs": []
    },
    {
      "cell_type": "code",
      "source": [
        "fairness_score_df"
      ],
      "metadata": {
        "id": "tzP9u8Nwb8bJ",
        "outputId": "6bd0ea3f-50d4-4637-f517-dfcedcc56c39",
        "colab": {
          "base_uri": "https://localhost:8080/",
          "height": 174
        }
      },
      "execution_count": 460,
      "outputs": [
        {
          "output_type": "execute_result",
          "data": {
            "text/plain": [
              "                       male_score  female_score\n",
              "tpr                      0.888000      0.763636\n",
              "fpr                      0.755556      0.520000\n",
              "predicted probability    0.852941      0.687500\n",
              "accuracy                 0.717647      0.675000"
            ],
            "text/html": [
              "\n",
              "  <div id=\"df-ae3d75ec-6948-4d86-bade-c384f5c2eae0\">\n",
              "    <div class=\"colab-df-container\">\n",
              "      <div>\n",
              "<style scoped>\n",
              "    .dataframe tbody tr th:only-of-type {\n",
              "        vertical-align: middle;\n",
              "    }\n",
              "\n",
              "    .dataframe tbody tr th {\n",
              "        vertical-align: top;\n",
              "    }\n",
              "\n",
              "    .dataframe thead th {\n",
              "        text-align: right;\n",
              "    }\n",
              "</style>\n",
              "<table border=\"1\" class=\"dataframe\">\n",
              "  <thead>\n",
              "    <tr style=\"text-align: right;\">\n",
              "      <th></th>\n",
              "      <th>male_score</th>\n",
              "      <th>female_score</th>\n",
              "    </tr>\n",
              "  </thead>\n",
              "  <tbody>\n",
              "    <tr>\n",
              "      <th>tpr</th>\n",
              "      <td>0.888000</td>\n",
              "      <td>0.763636</td>\n",
              "    </tr>\n",
              "    <tr>\n",
              "      <th>fpr</th>\n",
              "      <td>0.755556</td>\n",
              "      <td>0.520000</td>\n",
              "    </tr>\n",
              "    <tr>\n",
              "      <th>predicted probability</th>\n",
              "      <td>0.852941</td>\n",
              "      <td>0.687500</td>\n",
              "    </tr>\n",
              "    <tr>\n",
              "      <th>accuracy</th>\n",
              "      <td>0.717647</td>\n",
              "      <td>0.675000</td>\n",
              "    </tr>\n",
              "  </tbody>\n",
              "</table>\n",
              "</div>\n",
              "      <button class=\"colab-df-convert\" onclick=\"convertToInteractive('df-ae3d75ec-6948-4d86-bade-c384f5c2eae0')\"\n",
              "              title=\"Convert this dataframe to an interactive table.\"\n",
              "              style=\"display:none;\">\n",
              "        \n",
              "  <svg xmlns=\"http://www.w3.org/2000/svg\" height=\"24px\"viewBox=\"0 0 24 24\"\n",
              "       width=\"24px\">\n",
              "    <path d=\"M0 0h24v24H0V0z\" fill=\"none\"/>\n",
              "    <path d=\"M18.56 5.44l.94 2.06.94-2.06 2.06-.94-2.06-.94-.94-2.06-.94 2.06-2.06.94zm-11 1L8.5 8.5l.94-2.06 2.06-.94-2.06-.94L8.5 2.5l-.94 2.06-2.06.94zm10 10l.94 2.06.94-2.06 2.06-.94-2.06-.94-.94-2.06-.94 2.06-2.06.94z\"/><path d=\"M17.41 7.96l-1.37-1.37c-.4-.4-.92-.59-1.43-.59-.52 0-1.04.2-1.43.59L10.3 9.45l-7.72 7.72c-.78.78-.78 2.05 0 2.83L4 21.41c.39.39.9.59 1.41.59.51 0 1.02-.2 1.41-.59l7.78-7.78 2.81-2.81c.8-.78.8-2.07 0-2.86zM5.41 20L4 18.59l7.72-7.72 1.47 1.35L5.41 20z\"/>\n",
              "  </svg>\n",
              "      </button>\n",
              "      \n",
              "  <style>\n",
              "    .colab-df-container {\n",
              "      display:flex;\n",
              "      flex-wrap:wrap;\n",
              "      gap: 12px;\n",
              "    }\n",
              "\n",
              "    .colab-df-convert {\n",
              "      background-color: #E8F0FE;\n",
              "      border: none;\n",
              "      border-radius: 50%;\n",
              "      cursor: pointer;\n",
              "      display: none;\n",
              "      fill: #1967D2;\n",
              "      height: 32px;\n",
              "      padding: 0 0 0 0;\n",
              "      width: 32px;\n",
              "    }\n",
              "\n",
              "    .colab-df-convert:hover {\n",
              "      background-color: #E2EBFA;\n",
              "      box-shadow: 0px 1px 2px rgba(60, 64, 67, 0.3), 0px 1px 3px 1px rgba(60, 64, 67, 0.15);\n",
              "      fill: #174EA6;\n",
              "    }\n",
              "\n",
              "    [theme=dark] .colab-df-convert {\n",
              "      background-color: #3B4455;\n",
              "      fill: #D2E3FC;\n",
              "    }\n",
              "\n",
              "    [theme=dark] .colab-df-convert:hover {\n",
              "      background-color: #434B5C;\n",
              "      box-shadow: 0px 1px 3px 1px rgba(0, 0, 0, 0.15);\n",
              "      filter: drop-shadow(0px 1px 2px rgba(0, 0, 0, 0.3));\n",
              "      fill: #FFFFFF;\n",
              "    }\n",
              "  </style>\n",
              "\n",
              "      <script>\n",
              "        const buttonEl =\n",
              "          document.querySelector('#df-ae3d75ec-6948-4d86-bade-c384f5c2eae0 button.colab-df-convert');\n",
              "        buttonEl.style.display =\n",
              "          google.colab.kernel.accessAllowed ? 'block' : 'none';\n",
              "\n",
              "        async function convertToInteractive(key) {\n",
              "          const element = document.querySelector('#df-ae3d75ec-6948-4d86-bade-c384f5c2eae0');\n",
              "          const dataTable =\n",
              "            await google.colab.kernel.invokeFunction('convertToInteractive',\n",
              "                                                     [key], {});\n",
              "          if (!dataTable) return;\n",
              "\n",
              "          const docLinkHtml = 'Like what you see? Visit the ' +\n",
              "            '<a target=\"_blank\" href=https://colab.research.google.com/notebooks/data_table.ipynb>data table notebook</a>'\n",
              "            + ' to learn more about interactive tables.';\n",
              "          element.innerHTML = '';\n",
              "          dataTable['output_type'] = 'display_data';\n",
              "          await google.colab.output.renderOutput(dataTable, element);\n",
              "          const docLink = document.createElement('div');\n",
              "          docLink.innerHTML = docLinkHtml;\n",
              "          element.appendChild(docLink);\n",
              "        }\n",
              "      </script>\n",
              "    </div>\n",
              "  </div>\n",
              "  "
            ]
          },
          "metadata": {},
          "execution_count": 460
        }
      ]
    },
    {
      "cell_type": "code",
      "source": [
        "original_variables = X_train.columns\n",
        "model_coefficients = clf.coef_[0]\n",
        "odds = np.exp(clf.coef_[0])\n",
        "\n",
        "coefficient_df = pd.DataFrame({\"Variable\" : original_variables, \"Coefficient\": model_coefficients, \"Odds\": odds})\n",
        "coefficient_df.sort_values(by=['Odds'], inplace=True)\n",
        "print(coefficient_df)"
      ],
      "metadata": {
        "colab": {
          "base_uri": "https://localhost:8080/"
        },
        "id": "tB8an3P7WJT3",
        "outputId": "5582caf8-289b-49a5-d3b1-9f25cbe1219b"
      },
      "execution_count": 461,
      "outputs": [
        {
          "output_type": "stream",
          "name": "stdout",
          "text": [
            "                                     Variable  Coefficient      Odds\n",
            "10                                  SCA_<0 DM    -0.773062  0.461598\n",
            "0                                         Sex    -0.412633  0.661905\n",
            "9                            SCA_0 <= <200 DM    -0.112948  0.893197\n",
            "1                                    Duration    -0.040741  0.960078\n",
            "16                   Job_unskilled - resident     0.043662  1.044629\n",
            "2                                 Age_Under25     0.058568  1.060317\n",
            "13  Job_management/ highly qualified employee     0.091277  1.095572\n",
            "6                            Housing_for_free     0.114332  1.121124\n",
            "8                                Housing_rent     0.121506  1.129196\n",
            "3                                 Age_Under35     0.151336  1.163387\n",
            "14            Job_skilled employee / official     0.182236  1.199897\n",
            "4                                 Age_Under45     0.303117  1.354072\n",
            "5                                   Age_Older     0.360308  1.433770\n",
            "11                             SCA_>= 200 DM      0.441442  1.554948\n",
            "15  Job_unemployed/ unskilled  - non-resident     0.556154  1.743952\n",
            "7                                 Housing_own     0.637490  1.891727\n",
            "12                    SCA_no checking account     1.317896  3.735554\n"
          ]
        }
      ]
    },
    {
      "cell_type": "code",
      "source": [
        ""
      ],
      "metadata": {
        "id": "oXuvrTCM0c8d"
      },
      "execution_count": 461,
      "outputs": []
    },
    {
      "cell_type": "code",
      "source": [
        "df.hist(column='Cost_Matrix_Risk', by='Status_checking_account');"
      ],
      "metadata": {
        "colab": {
          "base_uri": "https://localhost:8080/",
          "height": 354
        },
        "id": "k1wKNqwmXBGt",
        "outputId": "520a3274-419c-4ec1-dd06-b2d264bd04ca"
      },
      "execution_count": 462,
      "outputs": [
        {
          "output_type": "display_data",
          "data": {
            "text/plain": [
              "<Figure size 432x288 with 4 Axes>"
            ],
            "image/png": "[encoded data removed]"
          },
          "metadata": {}
        }
      ]
    },
    {
      "cell_type": "markdown",
      "source": [
        "## Installing aif360"
      ],
      "metadata": {
        "id": "LyQ5Fcz8GvP0"
      }
    },
    {
      "cell_type": "code",
      "source": [
        "#!pip install aif360"
      ],
      "metadata": {
        "id": "BwIonKuoxiCw"
      },
      "execution_count": 463,
      "outputs": []
    },
    {
      "cell_type": "markdown",
      "source": [
        "https://towardsdatascience.com/tutorial-breaking-myths-about-ai-fairness-the-case-of-biased-automated-recruitment-9ee9b2ecc3a"
      ],
      "metadata": {
        "id": "YIqkvdyUR5Ok"
      }
    },
    {
      "cell_type": "code",
      "source": [
        "from aif360.datasets import BinaryLabelDataset\n",
        "from sklearn.model_selection import train_test_split\n",
        "\n",
        "df_ohe=df_ohe.set_index('Sex', drop=False) #this line puts Sex in the index,\n",
        "# which is later needed to use aif360 - sklearn compatible metrics\n",
        "np.random.seed(31415) \n",
        "train,test = train_test_split(df_ohe,test_size = 0.25,random_state=5)\n",
        "\n",
        "X_train = train.loc[:, train.columns != 'Cost_Matrix_Risk']\n",
        "X_test = test.loc[:, test.columns != 'Cost_Matrix_Risk']\n",
        "\n",
        "y_train = train.loc[:, train.columns =='Cost_Matrix_Risk']\n",
        "y_test = test.loc[:, train.columns =='Cost_Matrix_Risk']\n",
        "\n",
        "attributes_params = dict(\n",
        "    protected_attribute_names=['Sex'],\n",
        "    label_names=['Cost_Matrix_Risk']\n",
        ")\n",
        "\n",
        "dt_train = BinaryLabelDataset(df=train, **attributes_params)\n",
        "dt_test = BinaryLabelDataset(df=test, **attributes_params)\n"
      ],
      "metadata": {
        "id": "7r8Q5KY9G57p"
      },
      "execution_count": 464,
      "outputs": []
    },
    {
      "cell_type": "code",
      "source": [
        "# The index should contain protected attribute!!\n",
        "df_ohe.head()\n",
        "X_train.head()\n",
        "y_train.head()"
      ],
      "metadata": {
        "colab": {
          "base_uri": "https://localhost:8080/",
          "height": 238
        },
        "id": "W2wE4xns1zJq",
        "outputId": "e925e268-f235-4fe1-8ff3-22d2841dec37"
      },
      "execution_count": 465,
      "outputs": [
        {
          "output_type": "execute_result",
          "data": {
            "text/plain": [
              "     Cost_Matrix_Risk\n",
              "Sex                  \n",
              "0                   1\n",
              "0                   1\n",
              "0                   1\n",
              "0                   1\n",
              "0                   0"
            ],
            "text/html": [
              "\n",
              "  <div id=\"df-6768422c-85ce-46bd-a8c4-c78d6fe84e2b\">\n",
              "    <div class=\"colab-df-container\">\n",
              "      <div>\n",
              "<style scoped>\n",
              "    .dataframe tbody tr th:only-of-type {\n",
              "        vertical-align: middle;\n",
              "    }\n",
              "\n",
              "    .dataframe tbody tr th {\n",
              "        vertical-align: top;\n",
              "    }\n",
              "\n",
              "    .dataframe thead th {\n",
              "        text-align: right;\n",
              "    }\n",
              "</style>\n",
              "<table border=\"1\" class=\"dataframe\">\n",
              "  <thead>\n",
              "    <tr style=\"text-align: right;\">\n",
              "      <th></th>\n",
              "      <th>Cost_Matrix_Risk</th>\n",
              "    </tr>\n",
              "    <tr>\n",
              "      <th>Sex</th>\n",
              "      <th></th>\n",
              "    </tr>\n",
              "  </thead>\n",
              "  <tbody>\n",
              "    <tr>\n",
              "      <th>0</th>\n",
              "      <td>1</td>\n",
              "    </tr>\n",
              "    <tr>\n",
              "      <th>0</th>\n",
              "      <td>1</td>\n",
              "    </tr>\n",
              "    <tr>\n",
              "      <th>0</th>\n",
              "      <td>1</td>\n",
              "    </tr>\n",
              "    <tr>\n",
              "      <th>0</th>\n",
              "      <td>1</td>\n",
              "    </tr>\n",
              "    <tr>\n",
              "      <th>0</th>\n",
              "      <td>0</td>\n",
              "    </tr>\n",
              "  </tbody>\n",
              "</table>\n",
              "</div>\n",
              "      <button class=\"colab-df-convert\" onclick=\"convertToInteractive('df-6768422c-85ce-46bd-a8c4-c78d6fe84e2b')\"\n",
              "              title=\"Convert this dataframe to an interactive table.\"\n",
              "              style=\"display:none;\">\n",
              "        \n",
              "  <svg xmlns=\"http://www.w3.org/2000/svg\" height=\"24px\"viewBox=\"0 0 24 24\"\n",
              "       width=\"24px\">\n",
              "    <path d=\"M0 0h24v24H0V0z\" fill=\"none\"/>\n",
              "    <path d=\"M18.56 5.44l.94 2.06.94-2.06 2.06-.94-2.06-.94-.94-2.06-.94 2.06-2.06.94zm-11 1L8.5 8.5l.94-2.06 2.06-.94-2.06-.94L8.5 2.5l-.94 2.06-2.06.94zm10 10l.94 2.06.94-2.06 2.06-.94-2.06-.94-.94-2.06-.94 2.06-2.06.94z\"/><path d=\"M17.41 7.96l-1.37-1.37c-.4-.4-.92-.59-1.43-.59-.52 0-1.04.2-1.43.59L10.3 9.45l-7.72 7.72c-.78.78-.78 2.05 0 2.83L4 21.41c.39.39.9.59 1.41.59.51 0 1.02-.2 1.41-.59l7.78-7.78 2.81-2.81c.8-.78.8-2.07 0-2.86zM5.41 20L4 18.59l7.72-7.72 1.47 1.35L5.41 20z\"/>\n",
              "  </svg>\n",
              "      </button>\n",
              "      \n",
              "  <style>\n",
              "    .colab-df-container {\n",
              "      display:flex;\n",
              "      flex-wrap:wrap;\n",
              "      gap: 12px;\n",
              "    }\n",
              "\n",
              "    .colab-df-convert {\n",
              "      background-color: #E8F0FE;\n",
              "      border: none;\n",
              "      border-radius: 50%;\n",
              "      cursor: pointer;\n",
              "      display: none;\n",
              "      fill: #1967D2;\n",
              "      height: 32px;\n",
              "      padding: 0 0 0 0;\n",
              "      width: 32px;\n",
              "    }\n",
              "\n",
              "    .colab-df-convert:hover {\n",
              "      background-color: #E2EBFA;\n",
              "      box-shadow: 0px 1px 2px rgba(60, 64, 67, 0.3), 0px 1px 3px 1px rgba(60, 64, 67, 0.15);\n",
              "      fill: #174EA6;\n",
              "    }\n",
              "\n",
              "    [theme=dark] .colab-df-convert {\n",
              "      background-color: #3B4455;\n",
              "      fill: #D2E3FC;\n",
              "    }\n",
              "\n",
              "    [theme=dark] .colab-df-convert:hover {\n",
              "      background-color: #434B5C;\n",
              "      box-shadow: 0px 1px 3px 1px rgba(0, 0, 0, 0.15);\n",
              "      filter: drop-shadow(0px 1px 2px rgba(0, 0, 0, 0.3));\n",
              "      fill: #FFFFFF;\n",
              "    }\n",
              "  </style>\n",
              "\n",
              "      <script>\n",
              "        const buttonEl =\n",
              "          document.querySelector('#df-6768422c-85ce-46bd-a8c4-c78d6fe84e2b button.colab-df-convert');\n",
              "        buttonEl.style.display =\n",
              "          google.colab.kernel.accessAllowed ? 'block' : 'none';\n",
              "\n",
              "        async function convertToInteractive(key) {\n",
              "          const element = document.querySelector('#df-6768422c-85ce-46bd-a8c4-c78d6fe84e2b');\n",
              "          const dataTable =\n",
              "            await google.colab.kernel.invokeFunction('convertToInteractive',\n",
              "                                                     [key], {});\n",
              "          if (!dataTable) return;\n",
              "\n",
              "          const docLinkHtml = 'Like what you see? Visit the ' +\n",
              "            '<a target=\"_blank\" href=https://colab.research.google.com/notebooks/data_table.ipynb>data table notebook</a>'\n",
              "            + ' to learn more about interactive tables.';\n",
              "          element.innerHTML = '';\n",
              "          dataTable['output_type'] = 'display_data';\n",
              "          await google.colab.output.renderOutput(dataTable, element);\n",
              "          const docLink = document.createElement('div');\n",
              "          docLink.innerHTML = docLinkHtml;\n",
              "          element.appendChild(docLink);\n",
              "        }\n",
              "      </script>\n",
              "    </div>\n",
              "  </div>\n",
              "  "
            ]
          },
          "metadata": {},
          "execution_count": 465
        }
      ]
    },
    {
      "cell_type": "code",
      "source": [
        "#Baseline, redo the logistic regression on the dt_train and dt_test datasets (in the expected aif360 format)\n",
        "from sklearn.pipeline import Pipeline\n",
        "from sklearn.compose import ColumnTransformer\n",
        "from sklearn.preprocessing import RobustScaler\n",
        "from sklearn.dummy import DummyClassifier\n",
        "from sklearn.linear_model import LogisticRegression\n",
        "preprocessing = ColumnTransformer(\n",
        "    [('scaler', RobustScaler(), [0, 1])], \n",
        "    remainder='passthrough'\n",
        ")\n",
        "lr = Pipeline([\n",
        "    ('preprocessing', preprocessing), \n",
        "    # no preprocessing (commenting above line) yields the same confusion matrix\n",
        "    ('lr', LogisticRegression(random_state=5,solver='liblinear'))\n",
        "])\n",
        "lr.fit(\n",
        "    dt_train.features,\n",
        "    dt_train.labels.ravel()\n",
        ");\n",
        "y_pred = lr.predict(dt_test.features)\n",
        "\n"
      ],
      "metadata": {
        "id": "cfGrG4XpOJVJ"
      },
      "execution_count": 466,
      "outputs": []
    },
    {
      "cell_type": "code",
      "source": [
        "# get metrics to check everything is roughly equal\n",
        "from sklearn.metrics import confusion_matrix\n",
        "cm=confusion_matrix(y_test, y_pred)\n",
        "tn, fp, fn, tp =cm.ravel()"
      ],
      "metadata": {
        "id": "cC27X2OXYg3q"
      },
      "execution_count": 467,
      "outputs": []
    },
    {
      "cell_type": "code",
      "source": [
        "# the new predictions look the same as before\n",
        "import seaborn as sn \n",
        "df_cm = pd.DataFrame(cm, [\"Bad Risk\",\"Good Risk\"], [\"Bad Risk\",\"Good Risk\"]) \n",
        "sn.set(font_scale=1.4) \n",
        "sn.heatmap(df_cm, annot=True, fmt='d', cmap=\"YlGnBu\");\n"
      ],
      "metadata": {
        "colab": {
          "base_uri": "https://localhost:8080/",
          "height": 273
        },
        "id": "SFv5dNWJZxmR",
        "outputId": "a162948e-b7ee-44b5-df60-a2ef5fb57a87"
      },
      "execution_count": 468,
      "outputs": [
        {
          "output_type": "display_data",
          "data": {
            "text/plain": [
              "<Figure size 432x288 with 2 Axes>"
            ],
            "image/png": "[encoded data removed]"
          },
          "metadata": {}
        }
      ]
    },
    {
      "cell_type": "code",
      "source": [
        "#to parse the actual training dataset:\n",
        "#dt_train.import_dataset"
      ],
      "metadata": {
        "id": "Ut6hhp43TRrP"
      },
      "execution_count": 469,
      "outputs": []
    },
    {
      "cell_type": "code",
      "source": [
        "from aif360.metrics import BinaryLabelDatasetMetric #compute fairness metrics"
      ],
      "metadata": {
        "id": "Txzyi11jptEf"
      },
      "execution_count": 470,
      "outputs": []
    },
    {
      "cell_type": "code",
      "source": [
        "#Fairness metric: Compare the percentage of favorable results for the privileged\n",
        "#and unprivileged groups, subtracting the former percentage from the latter\n",
        "privileged_groups = [{'Sex': 0}] # Male\n",
        "unprivileged_groups = [{'Sex': 1}] # Female\n",
        "metric_orig_train = BinaryLabelDatasetMetric(dt_train, \n",
        "              unprivileged_groups=unprivileged_groups, \n",
        "              privileged_groups=privileged_groups) \n",
        "\n",
        "print(\"Protected attribute\",dt_train.protected_attribute_names)\n",
        "print(\"Difference between unprivileged and privileged groups =\" ,metric_orig_train.mean_difference()) #aka statistical parity difference P(y=1|woman)-P(y=1|man)), should be 0\n",
        "print(\"Ratio between unprivileged and privileged groups =\" ,metric_orig_train.disparate_impact()) #P(y=1|woman)/P(y=1|man)), should be 1\n",
        "#P(y=1|man) |P(y=1|woman)\n",
        "#0.852941\t   0.687500 # from before, right???\n",
        "print(\"Difference between unprivileged and privileged groups before =\" , 0.6875-0.852941)\n",
        "print(\"Ratio between unprivileged and privileged groups before =\", 0.6875/0.852941) \n",
        "# I don't get why we don't have the same metrics...\n"
      ],
      "metadata": {
        "colab": {
          "base_uri": "https://localhost:8080/"
        },
        "id": "md7gHcLqe1xw",
        "outputId": "85f0cd70-fde6-46e0-eeca-3210912726e1"
      },
      "execution_count": 472,
      "outputs": [
        {
          "output_type": "stream",
          "name": "stdout",
          "text": [
            "Protected attribute ['Sex']\n",
            "Difference between unprivileged and privileged groups = -0.08444816053511706\n",
            "Ratio between unprivileged and privileged groups = 0.8825854452452918\n",
            "Difference between unprivileged and privileged groups before = -0.16544099999999995\n",
            "Ratio between unprivileged and privileged groups before = 0.8060346495244103\n"
          ]
        }
      ]
    },
    {
      "cell_type": "code",
      "source": [
        "# \"aif360 sklearn\" compatible metrics !!!! This was not easy ... :P\n",
        "# needs this line way back at the beginning --> df_ohe=df_ohe.set_index('Sex', drop=False) #this puts Sex in the index, which is later useful\n",
        "# https://aif360.readthedocs.io/en/latest/modules/generated/aif360.sklearn.metrics.difference.html#aif360.sklearn.metrics.difference\n",
        "from aif360.sklearn.metrics import disparate_impact_ratio, average_odds_error\n",
        "from sklearn.metrics import accuracy_score\n",
        "print(\"Accuracy: \",accuracy_score(y_test, y_pred))\n",
        "print(\"Diparate impact ratio: \",disparate_impact_ratio(y_test, prot_attr='Sex',priv_group=0))\n",
        "print(\"Average  odds error: \",average_odds_error(y_test, y_pred)) #this should be equal to equalized odds, expects header\n",
        "#average of the absolute values of the true positive rate (TPR) difference and false positive rate (FPR)#\n",
        "FPR_m=0.888\n",
        "FPR_w=0.7636363636363637\n",
        "TPR_m=0.7555555555555555\n",
        "TPR_w=0.52\n",
        "\n",
        "print(\"Average odds error before:\",0.5*(abs(FPR_m-FPR_w)+abs(TPR_m-TPR_w))) #this one checks\n"
      ],
      "metadata": {
        "colab": {
          "base_uri": "https://localhost:8080/"
        },
        "id": "YWqUssayuNLB",
        "outputId": "3f7b9452-26fd-4b02-ebf0-28fb7aae5b80"
      },
      "execution_count": 385,
      "outputs": [
        {
          "output_type": "stream",
          "name": "stdout",
          "text": [
            "Acuracy:  0.704\n",
            "Diparate impact ratio:  0.9349999999999999\n",
            "Average  odds error:  0.17995959595959593\n",
            "Average odds error before: 0.17995959595959593\n"
          ]
        }
      ]
    },
    {
      "cell_type": "code",
      "source": [
        "#Remove sensitive attribute  (What Lisandra and Atul had implemented, checking bias for a model run without Sex feature)\n",
        "lr.fit( dt_train.features[:, 0:2],  # this is how we remove Sex\n",
        "    dt_train.labels.ravel());\n",
        "y_pred = lr.predict(dt_test.features[:, 0:2])\n",
        "cm=confusion_matrix(y_test, y_pred)\n",
        "df_cm = pd.DataFrame(cm, [\"Bad Risk\",\"Good Risk\"], [\"Bad Risk\",\"Good Risk\"]) \n",
        "sn.set(font_scale=1.4) \n",
        "sn.heatmap(df_cm, annot=True, fmt='d', cmap=\"YlGnBu\");\n",
        "print(\"Average odds error originally 0.17, and now: \",round(average_odds_error(y_test, y_pred),2))\n",
        "print(\"Accuracy beofre 0.704: \",accuracy_score(y_test, y_pred))"
      ],
      "metadata": {
        "id": "U9IB4ljXQDMl",
        "colab": {
          "base_uri": "https://localhost:8080/",
          "height": 315
        },
        "outputId": "124a0349-a53f-4385-e5c3-d7f129f4998d"
      },
      "execution_count": 477,
      "outputs": [
        {
          "output_type": "stream",
          "name": "stdout",
          "text": [
            "Average odds error originally 0.17, and now:  0.03\n",
            "Acuracy beofre 0.704:  0.736\n"
          ]
        },
        {
          "output_type": "display_data",
          "data": {
            "text/plain": [
              "<Figure size 432x288 with 2 Axes>"
            ],
            "image/png": "[encoded data removed]"
          },
          "metadata": {}
        }
      ]
    },
    {
      "cell_type": "code",
      "source": [
        "#Preprocessing by reweighing\n",
        "from aif360.algorithms.preprocessing import Reweighing\n",
        "privileged_groups_params = dict(\n",
        "    privileged_groups=[{'Sex': 0}],\n",
        "    unprivileged_groups=[{'Sex': 1}]\n",
        ")\n",
        "RW = Reweighing(**privileged_groups_params)\n",
        "dt_train_reweighed = RW.fit_transform(dt_train)\n",
        "weights = dt_train_reweighed.instance_weights"
      ],
      "metadata": {
        "id": "eZLIAoeMQf8_"
      },
      "execution_count": 478,
      "outputs": []
    },
    {
      "cell_type": "code",
      "source": [
        "lr.fit(\n",
        "    dt_train.features[:, 0:2],\n",
        "    dt_train.labels.ravel(),\n",
        "    lr__sample_weight=weights        # this is how we use weights\n",
        ");\n",
        "y_pred = lr.predict(dt_test.features[:, 0:2])\n",
        "cm=confusion_matrix(y_test, y_pred)\n",
        "df_cm = pd.DataFrame(cm, [\"Bad Risk\",\"Good Risk\"], [\"Bad Risk\",\"Good Risk\"]) \n",
        "sn.set(font_scale=1.4) \n",
        "sn.heatmap(df_cm, annot=True, fmt='d', cmap=\"YlGnBu\");\n",
        "print(\"Average odds error originally 0.17, and now: \",round(average_odds_error(y_test, y_pred),2))\n",
        "print(\"Accuracy beofre 0.704: \",accuracy_score(y_test, y_pred))"
      ],
      "metadata": {
        "id": "jDq1Zl3RQ73T",
        "colab": {
          "base_uri": "https://localhost:8080/",
          "height": 312
        },
        "outputId": "3ba462d1-b3ad-444f-a417-08ddff90b35f"
      },
      "execution_count": 479,
      "outputs": [
        {
          "output_type": "stream",
          "name": "stdout",
          "text": [
            "Average odds error originally 0.17, and now:  0.02\n",
            "Acuracy beofre 0.704:  0.744\n"
          ]
        },
        {
          "output_type": "display_data",
          "data": {
            "text/plain": [
              "<Figure size 432x288 with 2 Axes>"
            ],
            "image/png": "[encoded data removed]"
          },
          "metadata": {}
        }
      ]
    },
    {
      "cell_type": "code",
      "source": [
        "#Post-processing by rejecting\n",
        "lr.fit(\n",
        "    dt_train.features[:, 0:2],\n",
        "    dt_train.labels.ravel()\n",
        ");\n",
        "y_prob = lr.predict_proba(dt_test.features[:, 0:2])[:, 1]"
      ],
      "metadata": {
        "id": "BtI7zBH1RWtl"
      },
      "execution_count": 480,
      "outputs": []
    },
    {
      "cell_type": "code",
      "source": [
        "from aif360.algorithms.postprocessing import (\n",
        "    RejectOptionClassification\n",
        ")\n",
        "ROC = RejectOptionClassification(**privileged_groups_params)\n",
        "ROC.classification_threshold = 0.5\n",
        "ROC.ROC_margin = 0.15\n",
        "dt_test.scores = y_prob.reshape(-1, 1)\n",
        "y_pred = ROC.predict(dt_test).labels\n",
        "print(\"Average odds error originally 0.17, and now: \",round(average_odds_error(y_test, y_pred),2))\n",
        "print(\"Accuracy beofre 0.704: \",accuracy_score(y_test, y_pred))"
      ],
      "metadata": {
        "id": "DYAPvJEkRm_M",
        "colab": {
          "base_uri": "https://localhost:8080/"
        },
        "outputId": "83e26b63-f099-409c-e5e1-71e41468a0e2"
      },
      "execution_count": 482,
      "outputs": [
        {
          "output_type": "stream",
          "name": "stdout",
          "text": [
            "Average odds error originally 0.17, and now:  0.2\n",
            "Acuracy beofre 0.704:  0.7\n"
          ]
        }
      ]
    },
    {
      "cell_type": "code",
      "source": [
        "# needed to import: from aif360.algorithms.inprocessing import PrejudiceRemover\n",
        "#!pip install fairlearn"
      ],
      "metadata": {
        "id": "A1madNQsSVZ6"
      },
      "execution_count": 111,
      "outputs": []
    },
    {
      "cell_type": "code",
      "source": [
        "# In-processing with constraints\n",
        "from aif360.algorithms.inprocessing import PrejudiceRemover\n",
        "pr = PrejudiceRemover(eta=100.0)\n",
        "dt_train.features = preprocessing.fit_transform(dt_train.features)\n",
        "dt_test.features = preprocessing.transform(dt_test.features)\n",
        "pr.fit(dt_train);\n",
        "y_pred = pr.predict(dt_test).scores >= 0.5\n",
        "\n",
        "print(\"Average odds error originally 0.17, and now: \",round(average_odds_error(y_test, y_pred),2))\n",
        "print(\"Accuracy beofre 0.704: \",accuracy_score(y_test, y_pred))\n"
      ],
      "metadata": {
        "id": "QdvGXyOeRp5u",
        "colab": {
          "base_uri": "https://localhost:8080/"
        },
        "outputId": "8e90390f-4638-472b-e6e5-5cb3d61bf602"
      },
      "execution_count": 484,
      "outputs": [
        {
          "output_type": "stream",
          "name": "stdout",
          "text": [
            "Average odds error originally 0.17, and now:  0.05\n",
            "Acuracy beofre 0.704:  0.736\n"
          ]
        }
      ]
    },
    {
      "cell_type": "markdown",
      "source": [
        ""
      ],
      "metadata": {
        "id": "qadJ688gYoNF"
      }
    }
  ]
}